{
 "cells": [
  {
   "cell_type": "code",
   "execution_count": 10,
   "metadata": {},
   "outputs": [],
   "source": [
    "import numpy as np\n",
    "import scipy.misc \n",
    "from scipy import io\n",
    "import os\n",
    "import os\n",
    "def read_mat_file(root_dir, mode = \"lspet\"):\n",
    "    \"\"\"\n",
    "        get the groundtruth\n",
    "\n",
    "        mode (str): 'lsp' or 'lspet'\n",
    "        return: three list: key_points list , centers list and scales list\n",
    "\n",
    "        Notice:\n",
    "            lsp_dataset differ from lspet dataset\n",
    "    \"\"\"\n",
    "    mat_arr = io.loadmat(os.path.join(root_dir, 'joints.mat'))['joints']\n",
    "    # lspnet (14,3,10000)\n",
    "    if mode == 'lspet':\n",
    "        lms = mat_arr.transpose([2, 1, 0])\n",
    "        kpts = mat_arr.transpose([2, 0, 1]).tolist()\n",
    "    # lsp (3,14,2000)\n",
    "    if mode == 'lsp':\n",
    "        mat_arr[2] = np.logical_not(mat_arr[2])\n",
    "        lms = mat_arr.transpose([2, 0, 1])\n",
    "        kpts = mat_arr.transpose([2, 1, 0]).tolist()\n",
    "\n",
    "    centers = []\n",
    "    scales = []\n",
    "    for idx in range(lms.shape[0]):\n",
    "        # im = Image.open(img_list[idx])\n",
    "        w = 640\n",
    "        h = 640\n",
    "        # lsp and lspet dataset doesn't exist groundtruth of center points\n",
    "        print(lms[idx])\n",
    "        data = lms[idx][0], lms[idx][1] \n",
    "        center_x = (lms[idx][0][lms[idx][0] < w].max() + lms[idx][0][lms[idx][0] > 0].min()) / 2\n",
    "        center_y = (lms[idx][1][lms[idx][1] < h].max() + lms[idx][1][lms[idx][1] > 0].min()) / 2\n",
    "        centers.append([center_x, center_y])\n",
    "        print(centers)\n",
    "        scale = (lms[idx][1][lms[idx][1] < h].max() -\n",
    "                lms[idx][1][lms[idx][1] > 0].min() + 4) / 368.0\n",
    "        scales.append(scale)\n",
    "        break\n",
    "\n",
    "    return data"
   ]
  },
  {
   "cell_type": "code",
   "execution_count": 11,
   "metadata": {},
   "outputs": [
    {
     "name": "stdout",
     "output_type": "stream",
     "text": [
      "[[  0.          26.03094352  50.60790641  71.72971103  49.16955998\n",
      "   23.13861646 131.31164842 111.64382442  93.71139667 102.38837784\n",
      "  110.78394341 139.12874857  96.88513933 116.56859752]\n",
      " [-26.10911452  86.41022512  75.70079791  87.56715594  89.00550237\n",
      "   94.79015649  13.80499887  34.62975369  49.09138898  68.46216316\n",
      "   88.42703696  89.58396778  56.61143933  53.42206246]\n",
      " [  0.           1.           1.           1.           1.\n",
      "    1.           1.           1.           1.           1.\n",
      "    1.           1.           1.           1.        ]]\n",
      "[[81.13368251615368, 54.297577681588166]]\n"
     ]
    }
   ],
   "source": [
    "lms= read_mat_file(\"\")"
   ]
  },
  {
   "cell_type": "code",
   "execution_count": 22,
   "metadata": {},
   "outputs": [
    {
     "name": "stdout",
     "output_type": "stream",
     "text": [
      "139.12874857139448\n",
      "23.138616460912896\n",
      "81.13368251615368\n",
      "94.79015648818573\n",
      "13.8049988749906\n",
      "54.297577681588166\n"
     ]
    }
   ],
   "source": [
    "print(lms[0][lms[0] < 1000].max())\n",
    "print(lms[0][lms[0] > 0].min())\n",
    "print((lms[0][lms[0] < 1000].max() + lms[0][lms[0] > 0].min()) / 2)\n",
    "\n",
    "print(lms[1][lms[1] < 1000].max())\n",
    "print(lms[1][lms[1] > 0].min())\n",
    "print((lms[1][lms[1] < 1000].max() + lms[1][lms[1] > 0].min()) / 2)"
   ]
  }
 ],
 "metadata": {
  "interpreter": {
   "hash": "02436a74caeae32c2ef71ab76e7f86264abcd5d5376c75c1970567ef169e8611"
  },
  "kernelspec": {
   "display_name": "Python 3.8.11 ('project')",
   "language": "python",
   "name": "python3"
  },
  "language_info": {
   "codemirror_mode": {
    "name": "ipython",
    "version": 3
   },
   "file_extension": ".py",
   "mimetype": "text/x-python",
   "name": "python",
   "nbconvert_exporter": "python",
   "pygments_lexer": "ipython3",
   "version": "3.8.11"
  },
  "orig_nbformat": 4
 },
 "nbformat": 4,
 "nbformat_minor": 2
}
