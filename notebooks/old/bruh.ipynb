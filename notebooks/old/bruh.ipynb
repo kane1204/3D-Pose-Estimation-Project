{
 "cells": [
  {
   "cell_type": "code",
   "execution_count": 1,
   "metadata": {},
   "outputs": [],
   "source": [
    "import os\n",
    "import cv2\n",
    "import numpy as np\n",
    "import pandas as pd\n",
    "import src.real_bug_dataset\n",
    "from tqdm.notebook import tqdm\n",
    "from src.models.pose_resnet import BasicBlock, PoseResNet, Bottleneck\n",
    "import src.bug_dataset\n",
    "from src.real_bug_dataset import RealBugDataset\n",
    "from src.eval.loss import JointsMSELoss\n",
    "from src.eval.accuracies import accuracy\n",
    "import torch\n",
    "from torchvision import transforms\n",
    "from torch.utils.data import DataLoader\n",
    "%matplotlib widget\n",
    "import matplotlib.pyplot as plt\n",
    "import re\n",
    "from skimage import io"
   ]
  },
  {
   "cell_type": "code",
   "execution_count": 2,
   "metadata": {},
   "outputs": [],
   "source": [
    "target_dir = \"../data/real_sungaya/\"\n",
    "df = pd.read_csv(os.path.join(target_dir, \"realdata.csv\"))"
   ]
  },
  {
   "cell_type": "code",
   "execution_count": 3,
   "metadata": {},
   "outputs": [],
   "source": [
    "# Remove all the datapoints that doesnt have center keypoint visible. \n",
    "new_df = pd.DataFrame()\n",
    "for col, x in df.iterrows():\n",
    "    vis = x['visibility'].strip('][').split(', ')\n",
    "    x['visibility'] = list(map(int,vis))\n",
    "    temp = re.findall(r'\\d+', x['key_points_2D'])\n",
    "    res = list(map(int, temp))\n",
    "    if len(res) == 56:\n",
    "        x['key_points_2D'] = np.array(res).reshape((28,2))\n",
    "        temp = x['key_points_2D'][:,0].copy()\n",
    "        x['key_points_2D'][:,0] = x['key_points_2D'][:,1]\n",
    "        x['key_points_2D'][:,1] = temp\n",
    "        new_df = new_df.append(x)\n",
    "    \n",
    "new_df.reset_index(drop=True, inplace=True)    \n",
    "new_df['visibility'] = new_df['visibility'].apply(np.array)\n",
    "# Original DF being used"
   ]
  },
  {
   "cell_type": "code",
   "execution_count": 9,
   "metadata": {},
   "outputs": [
    {
     "data": {
      "application/vnd.jupyter.widget-view+json": {
       "model_id": "4c8b5615d9054d1b94517655b52bed8e",
       "version_major": 2,
       "version_minor": 0
      },
      "text/plain": [
       "Canvas(toolbar=Toolbar(toolitems=[('Home', 'Reset original view', 'home', 'home'), ('Back', 'Back to previous …"
      ]
     },
     "metadata": {},
     "output_type": "display_data"
    }
   ],
   "source": [
    "num = 5\n",
    "sample =new_df.iloc[num]\n",
    "name = sample['file_name']\n",
    "\n",
    "img_name = os.path.join(target_dir,\n",
    "                               sample['file_name'])\n",
    "        # Reads Image\n",
    "image = io.imread(img_name)\n",
    "\n",
    "\n",
    "\n",
    "name =  sample['file_name']\n",
    "keypoints = sample['key_points_2D']\n",
    "\n",
    "# keypoints = (sample['key_points_2D']*sungaya_dataset.std_2d)+sungaya_dataset.means_2d\n",
    "keypoints = sample['key_points_2D']\n",
    "\n",
    "fig = plt.figure(figsize=(8,6))\n",
    "ax = fig.add_subplot()\n",
    "\n",
    "ax.imshow(image.astype('uint8'))\n",
    "ax.scatter(keypoints[:,0], keypoints[:,1], marker='o', s=5,  color='b')\n",
    "\n",
    "# ax.set_xlim([0,256])\n",
    "# ax.set_ylim([256,0])\n",
    "ax.set_aspect('equal')\n",
    "\n",
    "plt.title(name)\n",
    "plt.show()"
   ]
  }
 ],
 "metadata": {
  "interpreter": {
   "hash": "02436a74caeae32c2ef71ab76e7f86264abcd5d5376c75c1970567ef169e8611"
  },
  "kernelspec": {
   "display_name": "Python 3.8.11 ('project')",
   "language": "python",
   "name": "python3"
  },
  "language_info": {
   "codemirror_mode": {
    "name": "ipython",
    "version": 3
   },
   "file_extension": ".py",
   "mimetype": "text/x-python",
   "name": "python",
   "nbconvert_exporter": "python",
   "pygments_lexer": "ipython3",
   "version": "3.8.11"
  },
  "orig_nbformat": 4
 },
 "nbformat": 4,
 "nbformat_minor": 2
}
