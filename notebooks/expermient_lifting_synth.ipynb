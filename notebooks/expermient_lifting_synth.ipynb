{
 "cells": [
  {
   "cell_type": "markdown",
   "metadata": {},
   "source": [
    "# Experiment Lifting"
   ]
  },
  {
   "cell_type": "markdown",
   "metadata": {},
   "source": [
    "### Load Model & Dataset"
   ]
  },
  {
   "cell_type": "code",
   "execution_count": 1,
   "metadata": {},
   "outputs": [],
   "source": [
    "import os\n",
    "import numpy as np\n",
    "import pandas as pd\n",
    "from tqdm.notebook import tqdm\n",
    "from src.models.simple_3d_model import LinearModel\n",
    "import src.bug_dataset\n",
    "from src.eval.accuracies import keypoint_depth_pck\n",
    "\n",
    "import torch\n",
    "from torchvision import transforms\n",
    "from torch.utils.data import DataLoader"
   ]
  },
  {
   "cell_type": "code",
   "execution_count": 2,
   "metadata": {},
   "outputs": [],
   "source": [
    "# Plotting Code\n",
    "%matplotlib widget\n",
    "import matplotlib.pyplot as plt\n",
    "\n",
    "def plot_stick_bug(ax, points, vis, prediction=False):\n",
    "    limb_ranges=[[0,7],[8,14],[15,21],[22,28],[29,35],[36,42],[43,49],[53,56],[59,62]]\n",
    "    reduced_limb_ranges = [[0,4],[4,7],[7,10],[10,13],[13,16],[16,19],[19,22],[22,25],[25,28]]\n",
    "    if len(points) == 62:\n",
    "        points = np.array(points).T\n",
    "        for num in range(len(limb_ranges)):\n",
    "            visible_limb = []\n",
    "            for x in range(limb_ranges[num][0],limb_ranges[num][1]):\n",
    "                if vis[x]== 1:\n",
    "                    visible_limb.append(x) \n",
    "            if prediction:\n",
    "                line, = ax.plot(points[0][visible_limb], points[1][visible_limb], points[2][visible_limb],'--', alpha=0.7, label='Prediction', color='red')\n",
    "                ax.scatter(points[0][visible_limb], points[1][visible_limb], points[2][visible_limb], marker='X',s=10, color='red')\n",
    "            else:\n",
    "                line, = ax.plot(points[0][visible_limb], points[1][visible_limb], points[2][visible_limb], label='Actual', color='blue')\n",
    "                ax.scatter(points[0][visible_limb], points[1][visible_limb], points[2][visible_limb], marker='o',s=4, color='blue')\n",
    "        return ax, line\n",
    "    elif len(points) == 28:\n",
    "        points = np.array(points).T\n",
    "        for num in range(len(reduced_limb_ranges)):\n",
    "            visible_limb = []\n",
    "            for x in range(reduced_limb_ranges[num][0],reduced_limb_ranges[num][1]):\n",
    "                if vis[x]== 1:\n",
    "                    visible_limb.append(x) \n",
    "            if prediction:\n",
    "                line, = ax.plot(points[0][visible_limb], points[1][visible_limb], points[2][visible_limb],'--', alpha=0.7, label='Prediction', color='red')\n",
    "                ax.scatter(points[0][visible_limb], points[1][visible_limb], points[2][visible_limb], marker='X',s=10, color='red')\n",
    "            else:\n",
    "                line, = ax.plot(points[0][visible_limb], points[1][visible_limb], points[2][visible_limb], label='Actual', color='blue')\n",
    "                ax.scatter(points[0][visible_limb], points[1][visible_limb], points[2][visible_limb], marker='o',s=4, color='blue')\n",
    "        return ax, line\n",
    "\n",
    "def set_axes_equal(ax):\n",
    "    # workaround, as matplotlib's 3D plot has no option for equisised axes (10/2021)\n",
    "    x_limits = ax.get_xlim3d()\n",
    "    y_limits = ax.get_ylim3d()\n",
    "    z_limits = ax.get_zlim3d()\n",
    "\n",
    "    x_range = abs(x_limits[1] - x_limits[0])\n",
    "    x_middle = np.mean(x_limits)\n",
    "    y_range = abs(y_limits[1] - y_limits[0])\n",
    "    y_middle = np.mean(y_limits)\n",
    "    z_range = abs(z_limits[1] - z_limits[0])\n",
    "    z_middle = np.mean(z_limits)\n",
    "\n",
    "    plot_radius = 0.5*max([x_range, y_range, z_range])\n",
    "\n",
    "    ax.set_xlim3d([x_middle - plot_radius, x_middle + plot_radius])\n",
    "    ax.set_ylim3d([y_middle - plot_radius, y_middle + plot_radius])\n",
    "    ax.set_zlim3d([z_middle - plot_radius, z_middle + plot_radius])\n"
   ]
  },
  {
   "cell_type": "code",
   "execution_count": 3,
   "metadata": {},
   "outputs": [],
   "source": [
    "file_path = '../data/single_sungaya/label_names.txt'\n",
    "\n",
    "with open(file_path) as file:\n",
    "    label_names = file.readlines()\n",
    "    label_names = [item.rstrip() for item in label_names]\n"
   ]
  },
  {
   "cell_type": "code",
   "execution_count": 4,
   "metadata": {},
   "outputs": [],
   "source": [
    "target_dir = \"../data/single_sungaya/\"\n",
    "out_df = pd.read_hdf(os.path.join(target_dir, \"Data_3D_Pose.hdf5\"))\n",
    "reduceKeypoints = True\n",
    "sungaya_dataset = src.bug_dataset.BugDataset(df=out_df,\n",
    "                             root_dir=target_dir, reduced=reduceKeypoints, transform=transforms.Compose([\n",
    "                                src.bug_dataset.ToTensor()\n",
    "                                   ]))\n",
    "train_split = 0.7\n",
    "valid_split = 0.1\n",
    "train_size = int(train_split * len(sungaya_dataset))\n",
    "valid_size = int(valid_split * len(sungaya_dataset))\n",
    "test_size = len(sungaya_dataset) - (train_size+valid_size)\n",
    "_,_ ,test_dataset = torch.utils.data.random_split(sungaya_dataset, [train_size, valid_size, test_size], generator=torch.Generator().manual_seed(42))\n",
    "\n",
    "batch_size = 128\n",
    "test_dataloader = DataLoader(test_dataset, batch_size=batch_size)"
   ]
  },
  {
   "cell_type": "code",
   "execution_count": 5,
   "metadata": {},
   "outputs": [
    {
     "name": "stdout",
     "output_type": "stream",
     "text": [
      "Using cuda device\n"
     ]
    }
   ],
   "source": [
    "device = \"cuda\" if torch.cuda.is_available() else \"cpu\"\n",
    "print(\"Using {} device\".format(device))   \n",
    "\n",
    "if reduceKeypoints:\n",
    "    model = LinearModel(2*28,28,1024) # Linear size 512 looked promising 256 too small\n",
    "else:\n",
    "    model = LinearModel(2*62,62,512)\n",
    "\n",
    "model = model.to(device)\n",
    "path = \"../models/lifting_depth/lifting_depth_model_20220323-150326_128\"\n",
    "model.load_state_dict(torch.load(path))\n",
    "model.eval()\n",
    "trained_model = model"
   ]
  },
  {
   "cell_type": "code",
   "execution_count": null,
   "metadata": {},
   "outputs": [],
   "source": [
    "def test_func(model,ds, thr=5.0):\n",
    "    test_epoch_acc, test_epoch_loss = 0, 0\n",
    "    test_epoch_acc_kps = [0]*28\n",
    "    batches = 0\n",
    "    # Code get the first batch of results\n",
    "    with torch.no_grad():\n",
    "        for data in tqdm(ds, desc=\"Depth Lifting Experiment\"):\n",
    "            image = data['file_name']\n",
    "            X = data['key_points_2D']\n",
    "            y = data['key_points_3D'][:,:,2] \n",
    "            mask = data['visibility'].to(device)\n",
    "\n",
    "            X, y = X.to(device, dtype=torch.float), y.to(device, dtype=torch.float)\n",
    "            \n",
    "            pred = model(torch.flatten(X, start_dim=1, end_dim=2))\n",
    "            \n",
    "            test_loss = torch.mean(((pred - y)*mask)**2) # \n",
    "                    \n",
    "            test_acc,test_acc_kps = keypoint_depth_pck(pred.detach().cpu().numpy(),\n",
    "                                        y.detach().cpu().numpy(), \n",
    "                                        mask.detach().cpu().numpy(),\n",
    "                                        sungaya_dataset.std_3d[:,2], sungaya_dataset.means_3d[:,2], threshold = thr)\n",
    "            test_epoch_loss += test_loss.item()\n",
    "            test_epoch_acc += test_acc\n",
    "            test_epoch_acc_kps += test_acc_kps\n",
    "            batches +=1\n",
    "            \n",
    "    test_acc = test_epoch_acc/batches\n",
    "    test_acc_kps = test_epoch_acc_kps/batches\n",
    "    test_loss = test_epoch_loss/batches\n",
    "    return test_acc, test_loss, test_acc_kps\n"
   ]
  },
  {
   "cell_type": "code",
   "execution_count": null,
   "metadata": {},
   "outputs": [],
   "source": [
    "trained_model.eval()\n",
    "test_acc, test_loss, test_acc_kps = test_func(trained_model, test_dataloader)\n",
    "print(test_acc)\n",
    "print(test_loss)"
   ]
  },
  {
   "cell_type": "code",
   "execution_count": null,
   "metadata": {},
   "outputs": [],
   "source": [
    "# Plots the accuracies per KP at normal threshold\n",
    " \n",
    "fig, ax = plt.subplots(figsize=(11,8))\n",
    "\n",
    "ax.barh(np.array(label_names)[sungaya_dataset.reduced_kp], test_acc_kps, linewidth =5, edgecolor=\"white\")\n",
    "ax.invert_yaxis()\n",
    "# ax.set(xlim=(-1, 8), xticks=np.arange(-1, 8),\n",
    "#        ylim=(0, 1), yticks=np.arange(0, 0.5))\n",
    "plt.title(\"3D PCK Accuracies for every Keypoint on Synthetic Data\")\n",
    "\n",
    "plt.xlabel(\"Accuracies\")\n",
    "plt.ylabel(\"Keypoints\")\n",
    "plt.show()"
   ]
  },
  {
   "cell_type": "code",
   "execution_count": null,
   "metadata": {},
   "outputs": [],
   "source": [
    "# Need to do an experiment where we vary the threshold value on the test set\n",
    "thresholds = [0.01 ,0.1, 1.0, 2.5, 5.0, 10.0, 15.0, 20.0]\n",
    "accs = []\n",
    "losses = []\n",
    "acc_kps = []\n",
    "for thr in thresholds:\n",
    "    test_acc, test_loss, test_acc_kps = test_func(trained_model, test_dataloader, thr)\n",
    "    accs.append(test_acc)\n",
    "    losses.append(test_loss)\n",
    "    acc_kps.append(test_acc_kps)"
   ]
  },
  {
   "cell_type": "code",
   "execution_count": null,
   "metadata": {},
   "outputs": [],
   "source": [
    "# plots PCK for different thresholds\n",
    "fig, ax = plt.subplots()\n",
    "\n",
    "ax.bar(list(map(str,thresholds)), accs, width=1, edgecolor=\"white\", linewidth=5)\n",
    "\n",
    "# ax.set(xlim=(-1, 8), xticks=np.arange(-1, 8),\n",
    "#        ylim=(0, 1), yticks=np.arange(0, 0.5))\n",
    "plt.title(\"3D PCK Accuracies at Varying Thresholds on Synthetic Data\")\n",
    "plt.xlabel(\"Thresholds\")\n",
    "plt.ylabel(\"Accuracies\")\n",
    "plt.show()"
   ]
  },
  {
   "cell_type": "code",
   "execution_count": 6,
   "metadata": {},
   "outputs": [],
   "source": [
    "\n",
    "# Code get the first batch of results\n",
    "with torch.no_grad():\n",
    "    for data in test_dataloader:\n",
    "        image = data['file_name']\n",
    "        X = data['key_points_2D']\n",
    "        y = data['key_points_3D']\n",
    "        vis = data['visibility']\n",
    "        # print(y)\n",
    "        X, y = X.to(device, dtype=torch.float), y.to(device, dtype=torch.float)\n",
    "        \n",
    "        pred = trained_model(torch.flatten(X, start_dim=1, end_dim=2))\n",
    "        break"
   ]
  },
  {
   "cell_type": "code",
   "execution_count": 7,
   "metadata": {},
   "outputs": [
    {
     "data": {
      "application/vnd.jupyter.widget-view+json": {
       "model_id": "f53c27b9ae584d3eb9af8d28f5fa1c45",
       "version_major": 2,
       "version_minor": 0
      },
      "text/plain": [
       "Canvas(toolbar=Toolbar(toolitems=[('Home', 'Reset original view', 'home', 'home'), ('Back', 'Back to previous …"
      ]
     },
     "metadata": {},
     "output_type": "display_data"
    }
   ],
   "source": [
    "sample = 7\n",
    "prediction = pred[sample].cpu().numpy()\n",
    "actual = (y[sample].cpu()).numpy()\n",
    "visibility_mask = vis[sample]\n",
    "\n",
    "mean = sungaya_dataset.means_3d[:,2]\n",
    "std = sungaya_dataset.std_3d[:,2]\n",
    "\n",
    "fig = plt.figure()\n",
    "ax = fig.add_subplot(projection='3d')\n",
    "\n",
    "unnormalised_acc = (actual*sungaya_dataset.std_3d)+sungaya_dataset.means_3d\n",
    "ax, line1 = plot_stick_bug(ax, unnormalised_acc, visibility_mask)\n",
    "\n",
    "unnormalised_est = unnormalised_acc.copy()\n",
    "unnormalised_est[:,2] = (prediction*std)+mean\n",
    "ax, line2 = plot_stick_bug(ax, unnormalised_est, visibility_mask, True)\n",
    "\n",
    "ax.set_xlabel('X axis')\n",
    "ax.set_ylabel('Y axis')\n",
    "ax.set_zlabel('Z axis')\n",
    "plt.title(image[sample])\n",
    "plt.legend(handles=[line1,line2], loc='upper right')\n",
    "\n",
    "# use custom function to ensure equal axis proportions\n",
    "set_axes_equal(ax)\n",
    "# opens external plot\n",
    "plt.show()"
   ]
  }
 ],
 "metadata": {
  "interpreter": {
   "hash": "02436a74caeae32c2ef71ab76e7f86264abcd5d5376c75c1970567ef169e8611"
  },
  "kernelspec": {
   "display_name": "Python 3.8.11 ('project')",
   "language": "python",
   "name": "python3"
  },
  "language_info": {
   "codemirror_mode": {
    "name": "ipython",
    "version": 3
   },
   "file_extension": ".py",
   "mimetype": "text/x-python",
   "name": "python",
   "nbconvert_exporter": "python",
   "pygments_lexer": "ipython3",
   "version": "3.8.11"
  },
  "orig_nbformat": 4
 },
 "nbformat": 4,
 "nbformat_minor": 2
}
