{
 "cells": [
  {
   "cell_type": "markdown",
   "metadata": {},
   "source": [
    "# Experiment 2D KP"
   ]
  },
  {
   "cell_type": "markdown",
   "metadata": {},
   "source": [
    "### Load Model & Dataset"
   ]
  },
  {
   "cell_type": "code",
   "execution_count": 1,
   "metadata": {},
   "outputs": [],
   "source": [
    "import os\n",
    "import cv2\n",
    "import numpy as np\n",
    "import pandas as pd\n",
    "import src.real_bug_dataset\n",
    "from tqdm.notebook import tqdm\n",
    "from src.models.pose_resnet import BasicBlock, PoseResNet, Bottleneck\n",
    "import src.bug_dataset\n",
    "from src.real_bug_dataset import RealBugDataset\n",
    "from src.eval.loss import JointsMSELoss\n",
    "from src.eval.accuracies import accuracy\n",
    "import torch\n",
    "from torchvision import transforms\n",
    "from torch.utils.data import DataLoader\n",
    "%matplotlib widget\n",
    "import matplotlib.pyplot as plt"
   ]
  },
  {
   "cell_type": "code",
   "execution_count": 2,
   "metadata": {},
   "outputs": [],
   "source": [
    "file_path = '../data/single_sungaya/label_names.txt'\n",
    "\n",
    "with open(file_path) as file:\n",
    "    label_names = file.readlines()\n",
    "    label_names = [item.rstrip() for item in label_names]"
   ]
  },
  {
   "cell_type": "code",
   "execution_count": 3,
   "metadata": {},
   "outputs": [],
   "source": [
    "# Sungaya Synth\n",
    "target_dir = \"../data/single_sungaya/\"\n",
    "out_df = pd.read_hdf(os.path.join(target_dir, \"Data_3D_Pose.hdf5\"))\n",
    "reduceKeypoints = True\n",
    "sungaya_dataset_synth = src.bug_dataset.BugDataset(df=out_df,\n",
    "                             root_dir=target_dir, reduced=reduceKeypoints, transform=transforms.Compose([\n",
    "                                src.bug_dataset.ToTensor()\n",
    "                                   ]))\n",
    "                 "
   ]
  },
  {
   "cell_type": "code",
   "execution_count": 4,
   "metadata": {},
   "outputs": [],
   "source": [
    "# Sungaya Real\n",
    "target_dir = \"../data/real_sungaya/\"\n",
    "out_df = pd.read_csv(os.path.join(target_dir, \"realdata.csv\"))\n",
    "sungaya_dataset = RealBugDataset(df=out_df, root_dir=target_dir, std=sungaya_dataset_synth.std_2d   , mean=sungaya_dataset_synth.means_2d  , transform=transforms.Compose([\n",
    "                                src.real_bug_dataset.ToTensor()\n",
    "                                   ]))\n"
   ]
  },
  {
   "cell_type": "code",
   "execution_count": 5,
   "metadata": {},
   "outputs": [
    {
     "data": {
      "application/vnd.jupyter.widget-view+json": {
       "model_id": "a28193a9fad44f589cfa8d0a63152ad6",
       "version_major": 2,
       "version_minor": 0
      },
      "text/plain": [
       "Canvas(toolbar=Toolbar(toolitems=[('Home', 'Reset original view', 'home', 'home'), ('Back', 'Back to previous …"
      ]
     },
     "metadata": {},
     "output_type": "display_data"
    }
   ],
   "source": [
    "sample = sungaya_dataset[3]\n",
    "name = sample['file_name']\n",
    "image = sample['image']\n",
    "img=image.numpy()\n",
    "img=np.swapaxes(img,0,1)\n",
    "img=np.swapaxes(img,1,2)\n",
    "\n",
    "name = sample['file_name']\n",
    "keypoints = sample['key_points_2D']\n",
    "\n",
    "keypoints = (sample['key_points_2D']*sungaya_dataset.std_2d)+sungaya_dataset.means_2d\n",
    "\n",
    "heatmap = sample['heatmap'].numpy()\n",
    "\n",
    "fig = plt.figure(figsize=(8,6))\n",
    "ax = fig.add_subplot()\n",
    "\n",
    "ax.imshow(img.astype('uint8'))\n",
    "heat =ax.imshow(cv2.resize(heatmap[0], (256,256)), alpha = 0.3,cmap='hot')\n",
    "ax.scatter(keypoints[:,0], keypoints[:,1], marker='o', s=5,  color='b')\n",
    "\n",
    "# ax.set_xlim([0,256])\n",
    "# ax.set_ylim([256,0])\n",
    "ax.set_aspect('equal')\n",
    "\n",
    "plt.title(name)\n",
    "fig.colorbar(heat)\n",
    "plt.show()"
   ]
  },
  {
   "cell_type": "code",
   "execution_count": 6,
   "metadata": {},
   "outputs": [],
   "source": [
    "batch_size = 128\n",
    "test_dataloader = DataLoader(sungaya_dataset, batch_size=batch_size)"
   ]
  },
  {
   "cell_type": "code",
   "execution_count": 7,
   "metadata": {},
   "outputs": [
    {
     "name": "stdout",
     "output_type": "stream",
     "text": [
      "Using cuda device\n"
     ]
    }
   ],
   "source": [
    "device = \"cuda\" if torch.cuda.is_available() else \"cpu\"\n",
    "print(\"Using {} device\".format(device))   \n",
    "\n",
    "# Create Model\n",
    "num_layers = 18\n",
    "resnet_spec = {18: (BasicBlock, [2, 2, 2, 2]),\n",
    "               34: (BasicBlock, [3, 4, 6, 3]),\n",
    "               50: (Bottleneck, [3, 4, 6, 3]),\n",
    "               101: (Bottleneck, [3, 4, 23, 3]),\n",
    "               152: (Bottleneck, [3, 8, 36, 3])}\n",
    "if reduceKeypoints:\n",
    "    block_class, layers = resnet_spec[num_layers]\n",
    "    model = PoseResNet(block_class, layers, 28)\n",
    "\n",
    "else:\n",
    "    block_class, layers = resnet_spec[num_layers]\n",
    "    model = PoseResNet(block_class, layers, 62)\n",
    "\n",
    "\n",
    "criterion = JointsMSELoss(use_target_weight=True)\n",
    "model = model.to(device)\n",
    "path = \"../models/2d_horiz_vertical_flip/simple_2d_model_20220321-195443_128\"\n",
    "model.load_state_dict(torch.load(path))\n",
    "model.eval()\n",
    "trained_model = model"
   ]
  },
  {
   "cell_type": "code",
   "execution_count": 8,
   "metadata": {},
   "outputs": [],
   "source": [
    "def test_func(model,ds, thr=0.5):\n",
    "    test_epoch_acc, test_epoch_loss = 0, 0\n",
    "    test_epoch_acc_kps = [0]*28\n",
    "    batches = 0\n",
    "    # Code get the first batch of results\n",
    "    with torch.no_grad():\n",
    "        for data in tqdm(ds, desc=\"2D Keypoint Experiment\"):\n",
    "            input = data['image'].to(device, dtype=torch.float)\n",
    "            target_heatmap = data['heatmap'].to(device, dtype=torch.float)\n",
    "            heat_weight = data['heat_weight'].to(device, dtype=torch.float)\n",
    "\n",
    "            pred_heatmap =  model(input)\n",
    "\n",
    "            test_loss = criterion(pred_heatmap, target_heatmap, heat_weight)\n",
    "\n",
    "            test_acc_kps, test_acc, _, _ = accuracy(pred_heatmap.detach().cpu().numpy(),\n",
    "                                            target_heatmap.detach().cpu().numpy(),thr=  thr)\n",
    "                                            \n",
    "            test_epoch_loss += test_loss.item()\n",
    "            test_epoch_acc += test_acc\n",
    "            test_epoch_acc_kps += test_acc_kps[1:29]\n",
    "            batches +=1\n",
    "            \n",
    "    test_acc = test_epoch_acc/batches\n",
    "    test_acc_kps = test_epoch_acc_kps/batches\n",
    "    test_loss = test_epoch_loss/batches\n",
    "    return test_acc, test_loss, test_acc_kps\n"
   ]
  },
  {
   "cell_type": "code",
   "execution_count": 9,
   "metadata": {},
   "outputs": [
    {
     "data": {
      "application/vnd.jupyter.widget-view+json": {
       "model_id": "abe46f16d65941fdbec2ae2757e7cb3b",
       "version_major": 2,
       "version_minor": 0
      },
      "text/plain": [
       "2D Keypoint Experiment:   0%|          | 0/1 [00:00<?, ?it/s]"
      ]
     },
     "metadata": {},
     "output_type": "display_data"
    },
    {
     "name": "stdout",
     "output_type": "stream",
     "text": [
      "0.14074675324675323\n",
      "0.001553408452309668\n"
     ]
    }
   ],
   "source": [
    "trained_model.eval()\n",
    "test_acc, test_loss, test_acc_kps = test_func(trained_model, test_dataloader)\n",
    "print(test_acc)\n",
    "print(test_loss)"
   ]
  },
  {
   "cell_type": "code",
   "execution_count": 10,
   "metadata": {},
   "outputs": [
    {
     "data": {
      "application/vnd.jupyter.widget-view+json": {
       "model_id": "88103f129840421aa294c25017de176a",
       "version_major": 2,
       "version_minor": 0
      },
      "text/plain": [
       "Canvas(toolbar=Toolbar(toolitems=[('Home', 'Reset original view', 'home', 'home'), ('Back', 'Back to previous …"
      ]
     },
     "metadata": {},
     "output_type": "display_data"
    }
   ],
   "source": [
    "# Plots the accuracies per KP at normal threshold\n",
    " \n",
    "fig, ax = plt.subplots()\n",
    "\n",
    "ax.barh(np.array(label_names)[sungaya_dataset.reduced_kp], test_acc_kps, linewidth =5, edgecolor=\"white\")\n",
    "ax.invert_yaxis()\n",
    "# ax.set(xlim=(-1, 8), xticks=np.arange(-1, 8),\n",
    "#        ylim=(0, 1), yticks=np.arange(0, 0.5))\n",
    "plt.title(\"2D PCK Accuracies for every Keypoint on Real Data)\")\n",
    "\n",
    "plt.xlabel(\"Accuracies\")\n",
    "plt.ylabel(\"Keypoints\")\n",
    "plt.show()"
   ]
  },
  {
   "cell_type": "code",
   "execution_count": 11,
   "metadata": {},
   "outputs": [
    {
     "data": {
      "application/vnd.jupyter.widget-view+json": {
       "model_id": "b67a8c95b00a4348bb6bf9d48048dbab",
       "version_major": 2,
       "version_minor": 0
      },
      "text/plain": [
       "2D Keypoint Experiment:   0%|          | 0/1 [00:00<?, ?it/s]"
      ]
     },
     "metadata": {},
     "output_type": "display_data"
    },
    {
     "data": {
      "application/vnd.jupyter.widget-view+json": {
       "model_id": "36790411930c4c33a95ca4b71bb85833",
       "version_major": 2,
       "version_minor": 0
      },
      "text/plain": [
       "2D Keypoint Experiment:   0%|          | 0/1 [00:00<?, ?it/s]"
      ]
     },
     "metadata": {},
     "output_type": "display_data"
    },
    {
     "data": {
      "application/vnd.jupyter.widget-view+json": {
       "model_id": "1884568a4ff6429ab767381743330690",
       "version_major": 2,
       "version_minor": 0
      },
      "text/plain": [
       "2D Keypoint Experiment:   0%|          | 0/1 [00:00<?, ?it/s]"
      ]
     },
     "metadata": {},
     "output_type": "display_data"
    },
    {
     "data": {
      "application/vnd.jupyter.widget-view+json": {
       "model_id": "5072f522b877428f80b24f1c400747dd",
       "version_major": 2,
       "version_minor": 0
      },
      "text/plain": [
       "2D Keypoint Experiment:   0%|          | 0/1 [00:00<?, ?it/s]"
      ]
     },
     "metadata": {},
     "output_type": "display_data"
    },
    {
     "data": {
      "application/vnd.jupyter.widget-view+json": {
       "model_id": "a8eb4b7ab60643b38ad37ac515e70626",
       "version_major": 2,
       "version_minor": 0
      },
      "text/plain": [
       "2D Keypoint Experiment:   0%|          | 0/1 [00:00<?, ?it/s]"
      ]
     },
     "metadata": {},
     "output_type": "display_data"
    },
    {
     "data": {
      "application/vnd.jupyter.widget-view+json": {
       "model_id": "d346347aa5694b43b3ba9f9a0290accf",
       "version_major": 2,
       "version_minor": 0
      },
      "text/plain": [
       "2D Keypoint Experiment:   0%|          | 0/1 [00:00<?, ?it/s]"
      ]
     },
     "metadata": {},
     "output_type": "display_data"
    },
    {
     "data": {
      "application/vnd.jupyter.widget-view+json": {
       "model_id": "70e82e7135c5427bb565ada67eb08686",
       "version_major": 2,
       "version_minor": 0
      },
      "text/plain": [
       "2D Keypoint Experiment:   0%|          | 0/1 [00:00<?, ?it/s]"
      ]
     },
     "metadata": {},
     "output_type": "display_data"
    }
   ],
   "source": [
    "# Need to do an experiment where we vary the threshold value on the test set\n",
    "thresholds = [0.01 ,0.1, 0.5, 1.0, 5.0, 10.0, 20.0] # could use np.linspace if need be\n",
    "# thresholds = np.linspace(0.1,5,8)\n",
    "accs = []\n",
    "losses = []\n",
    "acc_kps = []\n",
    "for thr in thresholds:\n",
    "    test_acc, test_loss, test_acc_kps = test_func(trained_model, test_dataloader, thr)\n",
    "    accs.append(test_acc)\n",
    "    losses.append(test_loss)\n",
    "    acc_kps.append(test_acc_kps)"
   ]
  },
  {
   "cell_type": "code",
   "execution_count": 12,
   "metadata": {},
   "outputs": [
    {
     "data": {
      "application/vnd.jupyter.widget-view+json": {
       "model_id": "278e706bba3a4c51a327b969ea5004ae",
       "version_major": 2,
       "version_minor": 0
      },
      "text/plain": [
       "Canvas(toolbar=Toolbar(toolitems=[('Home', 'Reset original view', 'home', 'home'), ('Back', 'Back to previous …"
      ]
     },
     "metadata": {},
     "output_type": "display_data"
    }
   ],
   "source": [
    "# plots PCK for different thresholds\n",
    "fig, ax = plt.subplots()\n",
    "\n",
    "ax.bar(list(map(str,thresholds)), accs, width=1, edgecolor=\"white\", linewidth=5)\n",
    "\n",
    "# ax.set(xlim=(-1, 8), xticks=np.arange(-1, 8),\n",
    "#        ylim=(0, 1), yticks=np.arange(0, 0.5))\n",
    "plt.title(\"2D PCK Accuracies at Varying Thresholds on Real Data\")\n",
    "plt.xlabel(\"Thresholds\")\n",
    "plt.ylabel(\"Accuracies\")\n",
    "plt.show()"
   ]
  },
  {
   "cell_type": "code",
   "execution_count": 13,
   "metadata": {},
   "outputs": [],
   "source": [
    "# trained_model = liftingtrainer.model\n",
    "trained_model.eval()\n",
    "# Code get the first batch of results\n",
    "with torch.no_grad():\n",
    "    for data in test_dataloader:\n",
    "        image = data['image']\n",
    "        target = data['heatmap']\n",
    "        file_name = data['file_name']\n",
    "        kp = data['key_points_2D']\n",
    "        visib = data['visibility']\n",
    "        input_var = image.to(device, dtype=torch.float)\n",
    "        heatmap_var = target.to(device, dtype=torch.float)\n",
    "\n",
    "        predi = trained_model(input_var)\n"
   ]
  },
  {
   "cell_type": "code",
   "execution_count": 14,
   "metadata": {},
   "outputs": [
    {
     "name": "stdout",
     "output_type": "stream",
     "text": [
      "Limb Visible 1 [ 97 105]\n"
     ]
    },
    {
     "data": {
      "application/vnd.jupyter.widget-view+json": {
       "model_id": "29b1bb58ca1e44fdb65e22c782a8f53a",
       "version_major": 2,
       "version_minor": 0
      },
      "text/plain": [
       "Canvas(toolbar=Toolbar(toolitems=[('Home', 'Reset original view', 'home', 'home'), ('Back', 'Back to previous …"
      ]
     },
     "metadata": {},
     "output_type": "display_data"
    }
   ],
   "source": [
    "from src.eval.accuracies import get_max_preds\n",
    "# Display a sample\n",
    "sample = 2\n",
    "limb = 22\n",
    "\n",
    "name = file_name[sample]\n",
    "\n",
    "img = image[sample].numpy()\n",
    "img=np.swapaxes(img,0,1)\n",
    "img=np.swapaxes(img,1,2)\n",
    "\n",
    "pred = predi.cpu().numpy()\n",
    "\n",
    "acc = target.cpu().numpy()\n",
    "acc_kp = ((kp[sample].numpy()*sungaya_dataset.std_2d)+sungaya_dataset.means_2d).astype(int)\n",
    "\n",
    "vis = visib[sample].cpu().numpy()\n",
    "print(\"Limb Visible\", vis[limb] , acc_kp[limb])\n",
    "plt.figure(figsize=(8,6))\n",
    "plt.imshow(img)\n",
    "\n",
    "plt.scatter(acc_kp[limb,0], acc_kp[limb,1], marker='o', s=10,  color='b')\n",
    "\n",
    "plt.imshow(cv2.resize(pred[sample,limb], (256,256)), alpha = .4,cmap='hot')\n",
    "\n",
    "plt.colorbar()\n",
    "plt.title(name)\n",
    "plt.show()"
   ]
  }
 ],
 "metadata": {
  "interpreter": {
   "hash": "02436a74caeae32c2ef71ab76e7f86264abcd5d5376c75c1970567ef169e8611"
  },
  "kernelspec": {
   "display_name": "Python 3.8.11 ('project')",
   "language": "python",
   "name": "python3"
  },
  "language_info": {
   "codemirror_mode": {
    "name": "ipython",
    "version": 3
   },
   "file_extension": ".py",
   "mimetype": "text/x-python",
   "name": "python",
   "nbconvert_exporter": "python",
   "pygments_lexer": "ipython3",
   "version": "3.8.11"
  },
  "orig_nbformat": 4
 },
 "nbformat": 4,
 "nbformat_minor": 2
}
