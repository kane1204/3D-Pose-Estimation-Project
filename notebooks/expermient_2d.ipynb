{
 "cells": [
  {
   "cell_type": "markdown",
   "metadata": {},
   "source": [
    "# Experiment 2D KP"
   ]
  },
  {
   "cell_type": "markdown",
   "metadata": {},
   "source": [
    "### Load Model & Dataset"
   ]
  },
  {
   "cell_type": "code",
   "execution_count": 1,
   "metadata": {},
   "outputs": [],
   "source": [
    "import os\n",
    "import numpy as np\n",
    "import pandas as pd\n",
    "from tqdm.notebook import tqdm\n",
    "from src.models.pose_resnet import BasicBlock, PoseResNet, Bottleneck\n",
    "import src.bug_dataset\n",
    "from src.eval.loss import JointsMSELoss\n",
    "from src.eval.accuracies import accuracy\n",
    "import torch\n",
    "from torchvision import transforms\n",
    "from torch.utils.data import DataLoader\n",
    "%matplotlib widget\n",
    "import matplotlib.pyplot as plt"
   ]
  },
  {
   "cell_type": "code",
   "execution_count": 2,
   "metadata": {},
   "outputs": [],
   "source": [
    "file_path = '../data/single_sungaya/label_names.txt'\n",
    "\n",
    "with open(file_path) as file:\n",
    "    label_names = file.readlines()\n",
    "    label_names = [item.rstrip() for item in label_names]"
   ]
  },
  {
   "cell_type": "code",
   "execution_count": 3,
   "metadata": {},
   "outputs": [],
   "source": [
    "target_dir = \"../data/single_sungaya/\"\n",
    "out_df = pd.read_hdf(os.path.join(target_dir, \"Data_3D_Pose.hdf5\"))\n",
    "reduceKeypoints = True\n",
    "sungaya_dataset = src.bug_dataset.BugDataset(df=out_df,\n",
    "                             root_dir=target_dir, reduced=reduceKeypoints, transform=transforms.Compose([\n",
    "                                src.bug_dataset.ToTensor()\n",
    "                                   ]))\n",
    "train_split = 0.7\n",
    "valid_split = 0.1\n",
    "train_size = int(train_split * len(sungaya_dataset))\n",
    "valid_size = int(valid_split * len(sungaya_dataset))\n",
    "test_size = len(sungaya_dataset) - (train_size+valid_size)\n",
    "_,_ ,test_dataset = torch.utils.data.random_split(sungaya_dataset, [train_size, valid_size, test_size], generator=torch.Generator().manual_seed(42))\n",
    "\n",
    "batch_size = 128\n",
    "test_dataloader = DataLoader(test_dataset, batch_size=batch_size)"
   ]
  },
  {
   "cell_type": "code",
   "execution_count": 4,
   "metadata": {},
   "outputs": [
    {
     "name": "stdout",
     "output_type": "stream",
     "text": [
      "Using cuda device\n"
     ]
    }
   ],
   "source": [
    "device = \"cuda\" if torch.cuda.is_available() else \"cpu\"\n",
    "print(\"Using {} device\".format(device))   \n",
    "\n",
    "# Create Model\n",
    "num_layers = 18\n",
    "resnet_spec = {18: (BasicBlock, [2, 2, 2, 2]),\n",
    "               34: (BasicBlock, [3, 4, 6, 3]),\n",
    "               50: (Bottleneck, [3, 4, 6, 3]),\n",
    "               101: (Bottleneck, [3, 4, 23, 3]),\n",
    "               152: (Bottleneck, [3, 8, 36, 3])}\n",
    "if reduceKeypoints:\n",
    "    block_class, layers = resnet_spec[num_layers]\n",
    "    model = PoseResNet(block_class, layers, 28)\n",
    "\n",
    "else:\n",
    "    block_class, layers = resnet_spec[num_layers]\n",
    "    model = PoseResNet(block_class, layers, 62)\n",
    "\n",
    "\n",
    "criterion = JointsMSELoss(use_target_weight=True)\n",
    "model = model.to(device)\n",
    "path = \"../models/2d_horiz_vertical_flip/simple_2d_model_20220321-195443_128\"\n",
    "model.load_state_dict(torch.load(path))\n",
    "model.eval()\n",
    "trained_model = model"
   ]
  },
  {
   "cell_type": "code",
   "execution_count": 5,
   "metadata": {},
   "outputs": [],
   "source": [
    "def test_func(model,ds, thr=0.5):\n",
    "    test_epoch_acc, test_epoch_loss = 0, 0\n",
    "    test_epoch_acc_kps = [0]*28\n",
    "    batches = 0\n",
    "    # Code get the first batch of results\n",
    "    with torch.no_grad():\n",
    "        for data in tqdm(ds, desc=\"2D Keypoint Experiment\"):\n",
    "            input = data['image'].to(device, dtype=torch.float)\n",
    "            target_heatmap = data['heatmap'].to(device, dtype=torch.float)\n",
    "            heat_weight = data['heat_weight'].to(device, dtype=torch.float)\n",
    "\n",
    "            pred_heatmap =  model(input)\n",
    "\n",
    "            test_loss = criterion(pred_heatmap, target_heatmap, heat_weight)\n",
    "\n",
    "            test_acc_kps, test_acc, _, _ = accuracy(pred_heatmap.detach().cpu().numpy(),\n",
    "                                            target_heatmap.detach().cpu().numpy(),thr=  thr)\n",
    "                                            \n",
    "            test_epoch_loss += test_loss.item()\n",
    "            test_epoch_acc += test_acc\n",
    "            test_epoch_acc_kps += test_acc_kps[1:29]\n",
    "            batches +=1\n",
    "            \n",
    "    test_acc = test_epoch_acc/batches\n",
    "    test_acc_kps = test_epoch_acc_kps/batches\n",
    "    test_loss = test_epoch_loss/batches\n",
    "    return test_acc, test_loss, test_acc_kps\n"
   ]
  },
  {
   "cell_type": "code",
   "execution_count": 6,
   "metadata": {},
   "outputs": [
    {
     "data": {
      "application/vnd.jupyter.widget-view+json": {
       "model_id": "f66d303dd6b94d2fa3489d44210e9105",
       "version_major": 2,
       "version_minor": 0
      },
      "text/plain": [
       "2D Keypoint Experiment:   0%|          | 0/6 [00:00<?, ?it/s]"
      ]
     },
     "metadata": {},
     "output_type": "display_data"
    },
    {
     "name": "stdout",
     "output_type": "stream",
     "text": [
      "0.555750633454075\n",
      "0.002602711746779581\n"
     ]
    }
   ],
   "source": [
    "trained_model.eval()\n",
    "test_acc, test_loss, test_acc_kps = test_func(trained_model, test_dataloader)\n",
    "print(test_acc)\n",
    "print(test_loss)"
   ]
  },
  {
   "cell_type": "code",
   "execution_count": 7,
   "metadata": {},
   "outputs": [
    {
     "data": {
      "application/vnd.jupyter.widget-view+json": {
       "model_id": "665a3af94cd64b3baf787e4b5a26e0f6",
       "version_major": 2,
       "version_minor": 0
      },
      "text/plain": [
       "Canvas(toolbar=Toolbar(toolitems=[('Home', 'Reset original view', 'home', 'home'), ('Back', 'Back to previous …"
      ]
     },
     "metadata": {},
     "output_type": "display_data"
    }
   ],
   "source": [
    "# Plots the accuracies per KP at normal threshold\n",
    " \n",
    "fig, ax = plt.subplots()\n",
    "\n",
    "ax.barh(np.array(label_names)[sungaya_dataset.reduced_kp], test_acc_kps, linewidth =5, edgecolor=\"white\")\n",
    "ax.invert_yaxis()\n",
    "# ax.set(xlim=(-1, 8), xticks=np.arange(-1, 8),\n",
    "#        ylim=(0, 1), yticks=np.arange(0, 0.5))\n",
    "plt.title(\"2D PCK Accuracies for every Keypoint\")\n",
    "\n",
    "plt.xlabel(\"Accuracies\")\n",
    "plt.ylabel(\"Keypoints\")\n",
    "plt.show()"
   ]
  },
  {
   "cell_type": "code",
   "execution_count": 8,
   "metadata": {},
   "outputs": [
    {
     "data": {
      "application/vnd.jupyter.widget-view+json": {
       "model_id": "3f04733b690249039de60213ac8891d0",
       "version_major": 2,
       "version_minor": 0
      },
      "text/plain": [
       "2D Keypoint Experiment:   0%|          | 0/6 [00:00<?, ?it/s]"
      ]
     },
     "metadata": {},
     "output_type": "display_data"
    },
    {
     "data": {
      "application/vnd.jupyter.widget-view+json": {
       "model_id": "e30589a57f7f4015a992b61c7a8fc88b",
       "version_major": 2,
       "version_minor": 0
      },
      "text/plain": [
       "2D Keypoint Experiment:   0%|          | 0/6 [00:00<?, ?it/s]"
      ]
     },
     "metadata": {},
     "output_type": "display_data"
    },
    {
     "data": {
      "application/vnd.jupyter.widget-view+json": {
       "model_id": "1469aa9f6b6c4ae98d6e4b4dbb8523c8",
       "version_major": 2,
       "version_minor": 0
      },
      "text/plain": [
       "2D Keypoint Experiment:   0%|          | 0/6 [00:00<?, ?it/s]"
      ]
     },
     "metadata": {},
     "output_type": "display_data"
    },
    {
     "data": {
      "application/vnd.jupyter.widget-view+json": {
       "model_id": "ec00b9ded8b44f778f1c258198910c5d",
       "version_major": 2,
       "version_minor": 0
      },
      "text/plain": [
       "2D Keypoint Experiment:   0%|          | 0/6 [00:00<?, ?it/s]"
      ]
     },
     "metadata": {},
     "output_type": "display_data"
    },
    {
     "data": {
      "application/vnd.jupyter.widget-view+json": {
       "model_id": "fe729e367db54ec9842cc3a280062578",
       "version_major": 2,
       "version_minor": 0
      },
      "text/plain": [
       "2D Keypoint Experiment:   0%|          | 0/6 [00:00<?, ?it/s]"
      ]
     },
     "metadata": {},
     "output_type": "display_data"
    },
    {
     "data": {
      "application/vnd.jupyter.widget-view+json": {
       "model_id": "60fd4c8bc749482ebece547f8594ffa3",
       "version_major": 2,
       "version_minor": 0
      },
      "text/plain": [
       "2D Keypoint Experiment:   0%|          | 0/6 [00:00<?, ?it/s]"
      ]
     },
     "metadata": {},
     "output_type": "display_data"
    },
    {
     "data": {
      "application/vnd.jupyter.widget-view+json": {
       "model_id": "38a577caa04347308aed05f2038b9409",
       "version_major": 2,
       "version_minor": 0
      },
      "text/plain": [
       "2D Keypoint Experiment:   0%|          | 0/6 [00:00<?, ?it/s]"
      ]
     },
     "metadata": {},
     "output_type": "display_data"
    }
   ],
   "source": [
    "# Need to do an experiment where we vary the threshold value on the test set\n",
    "thresholds = [0.01 ,0.1, 0.5, 1.0, 5.0, 10.0, 20.0] # could use np.linspace if need be\n",
    "# thresholds = np.linspace(0.1,5,8)\n",
    "accs = []\n",
    "losses = []\n",
    "acc_kps = []\n",
    "for thr in thresholds:\n",
    "    test_acc, test_loss, test_acc_kps = test_func(trained_model, test_dataloader, thr)\n",
    "    accs.append(test_acc)\n",
    "    losses.append(test_loss)\n",
    "    acc_kps.append(test_acc_kps)"
   ]
  },
  {
   "cell_type": "code",
   "execution_count": 9,
   "metadata": {},
   "outputs": [
    {
     "data": {
      "application/vnd.jupyter.widget-view+json": {
       "model_id": "f0fc833219b040fca4b247a27b97e007",
       "version_major": 2,
       "version_minor": 0
      },
      "text/plain": [
       "Canvas(toolbar=Toolbar(toolitems=[('Home', 'Reset original view', 'home', 'home'), ('Back', 'Back to previous …"
      ]
     },
     "metadata": {},
     "output_type": "display_data"
    }
   ],
   "source": [
    "# plots PCK for different thresholds\n",
    "fig, ax = plt.subplots()\n",
    "\n",
    "ax.bar(list(map(str,thresholds)), accs, width=1, edgecolor=\"white\", linewidth=5)\n",
    "\n",
    "# ax.set(xlim=(-1, 8), xticks=np.arange(-1, 8),\n",
    "#        ylim=(0, 1), yticks=np.arange(0, 0.5))\n",
    "plt.title(\"2D PCK Accuracies at Varying Thresholds\")\n",
    "plt.xlabel(\"Thresholds\")\n",
    "plt.ylabel(\"Accuracies\")\n",
    "plt.show()"
   ]
  }
 ],
 "metadata": {
  "interpreter": {
   "hash": "02436a74caeae32c2ef71ab76e7f86264abcd5d5376c75c1970567ef169e8611"
  },
  "kernelspec": {
   "display_name": "Python 3.8.11 ('project')",
   "language": "python",
   "name": "python3"
  },
  "language_info": {
   "codemirror_mode": {
    "name": "ipython",
    "version": 3
   },
   "file_extension": ".py",
   "mimetype": "text/x-python",
   "name": "python",
   "nbconvert_exporter": "python",
   "pygments_lexer": "ipython3",
   "version": "3.8.11"
  },
  "orig_nbformat": 4
 },
 "nbformat": 4,
 "nbformat_minor": 2
}
