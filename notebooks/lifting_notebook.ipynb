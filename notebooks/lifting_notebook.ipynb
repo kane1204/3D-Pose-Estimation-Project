{
 "cells": [
  {
   "cell_type": "markdown",
   "id": "0c2a29bd",
   "metadata": {},
   "source": [
    "# 2D to 3D Lifting Network"
   ]
  },
  {
   "cell_type": "markdown",
   "id": "57cc3068",
   "metadata": {},
   "source": [
    "## Imports and Setup"
   ]
  },
  {
   "cell_type": "code",
   "execution_count": 1,
   "id": "96be697e",
   "metadata": {},
   "outputs": [
    {
     "data": {
      "text/plain": [
       "<matplotlib.pyplot._IonContext at 0x15123744910>"
      ]
     },
     "execution_count": 1,
     "metadata": {},
     "output_type": "execute_result"
    }
   ],
   "source": [
    "import os\n",
    "import src.bug_dataset\n",
    "from src.models.simple_3d_model import LinearModel\n",
    "from src.train_lifting_network import Train_LiftNetwork\n",
    "import numpy as np\n",
    "import pandas as pd\n",
    "from skimage import io\n",
    "import torch\n",
    "from torch.utils.data import DataLoader\n",
    "from torchvision import transforms\n",
    "import matplotlib.pyplot as plt\n",
    "plt.ion()   # interactive mode"
   ]
  },
  {
   "cell_type": "code",
   "execution_count": 2,
   "id": "dc82a48a",
   "metadata": {},
   "outputs": [],
   "source": [
    "# Plotting Code\n",
    "%matplotlib widget\n",
    "import matplotlib.pyplot as plt\n",
    "\n",
    "def plot_stick_bug(ax, points, vis, prediction=False):\n",
    "    limb_ranges=[[0,7],[8,14],[15,21],[22,28],[29,35],[36,42],[43,49],[53,56],[59,62]]\n",
    "    reduced_limb_ranges = [[0,4],[4,7],[7,10],[10,13],[13,16],[16,19],[19,22],[22,25],[25,28]]\n",
    "    if len(points) == 62:\n",
    "        points = np.array(points).T\n",
    "        for num in range(len(limb_ranges)):\n",
    "            visible_limb = []\n",
    "            for x in range(limb_ranges[num][0],limb_ranges[num][1]):\n",
    "                if vis[x]== 1:\n",
    "                    visible_limb.append(x) \n",
    "            if prediction:\n",
    "                line, = ax.plot(points[0][visible_limb], points[1][visible_limb], points[2][visible_limb],'--', alpha=0.7, label='Prediction', color='red')\n",
    "                ax.scatter(points[0][visible_limb], points[1][visible_limb], points[2][visible_limb], marker='X',s=10, color='red')\n",
    "            else:\n",
    "                line, = ax.plot(points[0][visible_limb], points[1][visible_limb], points[2][visible_limb], label='Actual', color='blue')\n",
    "                ax.scatter(points[0][visible_limb], points[1][visible_limb], points[2][visible_limb], marker='o',s=4, color='blue')\n",
    "        return ax, line\n",
    "    elif len(points) == 28:\n",
    "        points = np.array(points).T\n",
    "        for num in range(len(reduced_limb_ranges)):\n",
    "            visible_limb = []\n",
    "            for x in range(reduced_limb_ranges[num][0],reduced_limb_ranges[num][1]):\n",
    "                if vis[x]== 1:\n",
    "                    visible_limb.append(x) \n",
    "            if prediction:\n",
    "                line, = ax.plot(points[0][visible_limb], points[1][visible_limb], points[2][visible_limb],'--', alpha=0.7, label='Prediction', color='red')\n",
    "                ax.scatter(points[0][visible_limb], points[1][visible_limb], points[2][visible_limb], marker='X',s=10, color='red')\n",
    "            else:\n",
    "                line, = ax.plot(points[0][visible_limb], points[1][visible_limb], points[2][visible_limb], label='Actual', color='blue')\n",
    "                ax.scatter(points[0][visible_limb], points[1][visible_limb], points[2][visible_limb], marker='o',s=4, color='blue')\n",
    "        return ax, line\n",
    "\n",
    "def set_axes_equal(ax):\n",
    "    # workaround, as matplotlib's 3D plot has no option for equisised axes (10/2021)\n",
    "    x_limits = ax.get_xlim3d()\n",
    "    y_limits = ax.get_ylim3d()\n",
    "    z_limits = ax.get_zlim3d()\n",
    "\n",
    "    x_range = abs(x_limits[1] - x_limits[0])\n",
    "    x_middle = np.mean(x_limits)\n",
    "    y_range = abs(y_limits[1] - y_limits[0])\n",
    "    y_middle = np.mean(y_limits)\n",
    "    z_range = abs(z_limits[1] - z_limits[0])\n",
    "    z_middle = np.mean(z_limits)\n",
    "\n",
    "    plot_radius = 0.5*max([x_range, y_range, z_range])\n",
    "\n",
    "    ax.set_xlim3d([x_middle - plot_radius, x_middle + plot_radius])\n",
    "    ax.set_ylim3d([y_middle - plot_radius, y_middle + plot_radius])\n",
    "    ax.set_zlim3d([z_middle - plot_radius, z_middle + plot_radius])\n"
   ]
  },
  {
   "cell_type": "code",
   "execution_count": 3,
   "id": "0c44946e",
   "metadata": {},
   "outputs": [],
   "source": [
    "target_dir = \"../data/single_sungaya/\"\n",
    "out_df = pd.read_hdf(os.path.join(target_dir, \"Data_3D_Pose.hdf5\"))"
   ]
  },
  {
   "cell_type": "code",
   "execution_count": 4,
   "id": "d4a8ce47",
   "metadata": {},
   "outputs": [],
   "source": [
    "reduceKeypoints = True\n",
    "sungaya_dataset = src.bug_dataset.BugDataset(df=out_df,\n",
    "                             root_dir=target_dir, reduced=reduceKeypoints, transform=transforms.Compose([\n",
    "                                src.bug_dataset.ToTensor()\n",
    "                                   ]))"
   ]
  },
  {
   "cell_type": "code",
   "execution_count": 5,
   "id": "02b63446",
   "metadata": {},
   "outputs": [],
   "source": [
    "train_split = 0.7\n",
    "valid_split = 0.1\n",
    "train_size = int(train_split * len(sungaya_dataset))\n",
    "valid_size = int(valid_split * len(sungaya_dataset))\n",
    "test_size = len(sungaya_dataset) - (train_size+valid_size)\n",
    "train_dataset,valid_dataset ,test_dataset = torch.utils.data.random_split(sungaya_dataset, [train_size, valid_size, test_size], generator=torch.Generator().manual_seed(42))"
   ]
  },
  {
   "cell_type": "code",
   "execution_count": 6,
   "id": "5362d1c9",
   "metadata": {},
   "outputs": [],
   "source": [
    "batch_size = 64\n",
    "\n",
    "train_dataloader = DataLoader(train_dataset, batch_size=batch_size)\n",
    "valid_dataloader = DataLoader(valid_dataset, batch_size=batch_size)\n",
    "test_dataloader = DataLoader(test_dataset, batch_size=batch_size)"
   ]
  },
  {
   "cell_type": "code",
   "execution_count": 13,
   "id": "055d9fba",
   "metadata": {},
   "outputs": [
    {
     "name": "stdout",
     "output_type": "stream",
     "text": [
      "Using cuda device\n"
     ]
    },
    {
     "data": {
      "application/vnd.jupyter.widget-view+json": {
       "model_id": "82fc9f89cf6043b583e95a97e7ebe80d",
       "version_major": 2,
       "version_minor": 0
      },
      "text/plain": [
       "CPM Model Epochs:   0%|          | 0/50 [00:00<?, ?it/s]"
      ]
     },
     "metadata": {},
     "output_type": "display_data"
    },
    {
     "name": "stdout",
     "output_type": "stream",
     "text": [
      "Epoch 001:\n"
     ]
    },
    {
     "data": {
      "application/vnd.jupyter.widget-view+json": {
       "model_id": "5343e582f24a4cf4ba553c321fc405c9",
       "version_major": 2,
       "version_minor": 0
      },
      "text/plain": [
       "Training Step:   0%|          | 0/36 [00:00<?, ?it/s]"
      ]
     },
     "metadata": {},
     "output_type": "display_data"
    },
    {
     "data": {
      "application/vnd.jupyter.widget-view+json": {
       "model_id": "0972c2613b1046ccb4bceb7f6598fc8a",
       "version_major": 2,
       "version_minor": 0
      },
      "text/plain": [
       "Validation Step:   0%|          | 0/6 [00:00<?, ?it/s]"
      ]
     },
     "metadata": {},
     "output_type": "display_data"
    },
    {
     "name": "stdout",
     "output_type": "stream",
     "text": [
      "Finished Epoch 001: | Train Loss: 0.01520 | Val Loss: 0.27856 | Train Acc: 0.000| Val Acc: 0.000\n",
      "Epoch 002:\n"
     ]
    },
    {
     "data": {
      "application/vnd.jupyter.widget-view+json": {
       "model_id": "3a77ac50b2104d9d9195b392c61d0542",
       "version_major": 2,
       "version_minor": 0
      },
      "text/plain": [
       "Training Step:   0%|          | 0/36 [00:00<?, ?it/s]"
      ]
     },
     "metadata": {},
     "output_type": "display_data"
    },
    {
     "data": {
      "application/vnd.jupyter.widget-view+json": {
       "model_id": "037340c6c3d8487ca1b7eceb6df64be7",
       "version_major": 2,
       "version_minor": 0
      },
      "text/plain": [
       "Validation Step:   0%|          | 0/6 [00:00<?, ?it/s]"
      ]
     },
     "metadata": {},
     "output_type": "display_data"
    },
    {
     "name": "stdout",
     "output_type": "stream",
     "text": [
      "Finished Epoch 002: | Train Loss: 0.01096 | Val Loss: 0.18312 | Train Acc: 0.000| Val Acc: 0.000\n",
      "Epoch 003:\n"
     ]
    },
    {
     "data": {
      "application/vnd.jupyter.widget-view+json": {
       "model_id": "01e0de07a1af446ba55b3194268a24da",
       "version_major": 2,
       "version_minor": 0
      },
      "text/plain": [
       "Training Step:   0%|          | 0/36 [00:00<?, ?it/s]"
      ]
     },
     "metadata": {},
     "output_type": "display_data"
    },
    {
     "data": {
      "application/vnd.jupyter.widget-view+json": {
       "model_id": "b19d06518f0d44b5a9060c7ebff1df9e",
       "version_major": 2,
       "version_minor": 0
      },
      "text/plain": [
       "Validation Step:   0%|          | 0/6 [00:00<?, ?it/s]"
      ]
     },
     "metadata": {},
     "output_type": "display_data"
    },
    {
     "name": "stdout",
     "output_type": "stream",
     "text": [
      "Finished Epoch 003: | Train Loss: 0.00940 | Val Loss: 0.16605 | Train Acc: 0.000| Val Acc: 0.000\n",
      "Epoch 004:\n"
     ]
    },
    {
     "data": {
      "application/vnd.jupyter.widget-view+json": {
       "model_id": "36ffad3b89ba4942839aff000c68b524",
       "version_major": 2,
       "version_minor": 0
      },
      "text/plain": [
       "Training Step:   0%|          | 0/36 [00:00<?, ?it/s]"
      ]
     },
     "metadata": {},
     "output_type": "display_data"
    },
    {
     "data": {
      "application/vnd.jupyter.widget-view+json": {
       "model_id": "ce22598e7ac742e1a438d00f7ef8aeda",
       "version_major": 2,
       "version_minor": 0
      },
      "text/plain": [
       "Validation Step:   0%|          | 0/6 [00:00<?, ?it/s]"
      ]
     },
     "metadata": {},
     "output_type": "display_data"
    },
    {
     "name": "stdout",
     "output_type": "stream",
     "text": [
      "Finished Epoch 004: | Train Loss: 0.00840 | Val Loss: 0.14026 | Train Acc: 0.000| Val Acc: 0.000\n",
      "Epoch 005:\n"
     ]
    },
    {
     "data": {
      "application/vnd.jupyter.widget-view+json": {
       "model_id": "4bcb438bb42f42bdbca6bb54b7754ffb",
       "version_major": 2,
       "version_minor": 0
      },
      "text/plain": [
       "Training Step:   0%|          | 0/36 [00:00<?, ?it/s]"
      ]
     },
     "metadata": {},
     "output_type": "display_data"
    },
    {
     "data": {
      "application/vnd.jupyter.widget-view+json": {
       "model_id": "0ec2db0bbd1f4f80981313128b1babc8",
       "version_major": 2,
       "version_minor": 0
      },
      "text/plain": [
       "Validation Step:   0%|          | 0/6 [00:00<?, ?it/s]"
      ]
     },
     "metadata": {},
     "output_type": "display_data"
    },
    {
     "name": "stdout",
     "output_type": "stream",
     "text": [
      "Finished Epoch 005: | Train Loss: 0.00755 | Val Loss: 0.14995 | Train Acc: 0.000| Val Acc: 0.000\n",
      "Epoch 006:\n"
     ]
    },
    {
     "data": {
      "application/vnd.jupyter.widget-view+json": {
       "model_id": "1b6f137ba6d7447989fef4c77f55ef3b",
       "version_major": 2,
       "version_minor": 0
      },
      "text/plain": [
       "Training Step:   0%|          | 0/36 [00:00<?, ?it/s]"
      ]
     },
     "metadata": {},
     "output_type": "display_data"
    },
    {
     "data": {
      "application/vnd.jupyter.widget-view+json": {
       "model_id": "9bcfa83285134618ac8db59b79256d77",
       "version_major": 2,
       "version_minor": 0
      },
      "text/plain": [
       "Validation Step:   0%|          | 0/6 [00:00<?, ?it/s]"
      ]
     },
     "metadata": {},
     "output_type": "display_data"
    },
    {
     "name": "stdout",
     "output_type": "stream",
     "text": [
      "Finished Epoch 006: | Train Loss: 0.00703 | Val Loss: 0.13051 | Train Acc: 0.000| Val Acc: 0.000\n",
      "Epoch 007:\n"
     ]
    },
    {
     "data": {
      "application/vnd.jupyter.widget-view+json": {
       "model_id": "0a1e91ab5f9f43fc8fb0a2283cfa8333",
       "version_major": 2,
       "version_minor": 0
      },
      "text/plain": [
       "Training Step:   0%|          | 0/36 [00:00<?, ?it/s]"
      ]
     },
     "metadata": {},
     "output_type": "display_data"
    },
    {
     "data": {
      "application/vnd.jupyter.widget-view+json": {
       "model_id": "3924d717c5ff4172ba307d33d25e9040",
       "version_major": 2,
       "version_minor": 0
      },
      "text/plain": [
       "Validation Step:   0%|          | 0/6 [00:00<?, ?it/s]"
      ]
     },
     "metadata": {},
     "output_type": "display_data"
    },
    {
     "name": "stdout",
     "output_type": "stream",
     "text": [
      "Finished Epoch 007: | Train Loss: 0.00641 | Val Loss: 0.12530 | Train Acc: 0.000| Val Acc: 0.000\n",
      "Epoch 008:\n"
     ]
    },
    {
     "data": {
      "application/vnd.jupyter.widget-view+json": {
       "model_id": "6bf883a54eed4e7bba21dda72e4cd052",
       "version_major": 2,
       "version_minor": 0
      },
      "text/plain": [
       "Training Step:   0%|          | 0/36 [00:00<?, ?it/s]"
      ]
     },
     "metadata": {},
     "output_type": "display_data"
    },
    {
     "data": {
      "application/vnd.jupyter.widget-view+json": {
       "model_id": "49161d40948c4e7fb33d9614e994cb90",
       "version_major": 2,
       "version_minor": 0
      },
      "text/plain": [
       "Validation Step:   0%|          | 0/6 [00:00<?, ?it/s]"
      ]
     },
     "metadata": {},
     "output_type": "display_data"
    },
    {
     "name": "stdout",
     "output_type": "stream",
     "text": [
      "Finished Epoch 008: | Train Loss: 0.00590 | Val Loss: 0.11879 | Train Acc: 0.000| Val Acc: 0.000\n",
      "Epoch 009:\n"
     ]
    },
    {
     "data": {
      "application/vnd.jupyter.widget-view+json": {
       "model_id": "b9ecfb54942447f594e7100e7f975f35",
       "version_major": 2,
       "version_minor": 0
      },
      "text/plain": [
       "Training Step:   0%|          | 0/36 [00:00<?, ?it/s]"
      ]
     },
     "metadata": {},
     "output_type": "display_data"
    },
    {
     "data": {
      "application/vnd.jupyter.widget-view+json": {
       "model_id": "b25046beaaae41b9b52921a90fb21d8a",
       "version_major": 2,
       "version_minor": 0
      },
      "text/plain": [
       "Validation Step:   0%|          | 0/6 [00:00<?, ?it/s]"
      ]
     },
     "metadata": {},
     "output_type": "display_data"
    },
    {
     "name": "stdout",
     "output_type": "stream",
     "text": [
      "Finished Epoch 009: | Train Loss: 0.00543 | Val Loss: 0.11046 | Train Acc: 0.000| Val Acc: 0.000\n",
      "Epoch 010:\n"
     ]
    },
    {
     "data": {
      "application/vnd.jupyter.widget-view+json": {
       "model_id": "086fc0103efd47258b60728bbe7ed6d9",
       "version_major": 2,
       "version_minor": 0
      },
      "text/plain": [
       "Training Step:   0%|          | 0/36 [00:00<?, ?it/s]"
      ]
     },
     "metadata": {},
     "output_type": "display_data"
    },
    {
     "data": {
      "application/vnd.jupyter.widget-view+json": {
       "model_id": "10853ef8f7a54d5fa2d8a2358ba62ed9",
       "version_major": 2,
       "version_minor": 0
      },
      "text/plain": [
       "Validation Step:   0%|          | 0/6 [00:00<?, ?it/s]"
      ]
     },
     "metadata": {},
     "output_type": "display_data"
    },
    {
     "name": "stdout",
     "output_type": "stream",
     "text": [
      "Finished Epoch 010: | Train Loss: 0.00526 | Val Loss: 0.11543 | Train Acc: 0.000| Val Acc: 0.000\n",
      "Epoch 011:\n"
     ]
    },
    {
     "data": {
      "application/vnd.jupyter.widget-view+json": {
       "model_id": "dec8b4535fa24ba5ab1adb6cce5f5858",
       "version_major": 2,
       "version_minor": 0
      },
      "text/plain": [
       "Training Step:   0%|          | 0/36 [00:00<?, ?it/s]"
      ]
     },
     "metadata": {},
     "output_type": "display_data"
    },
    {
     "data": {
      "application/vnd.jupyter.widget-view+json": {
       "model_id": "8119058fb8e24e00a3a85f2f9fc60a84",
       "version_major": 2,
       "version_minor": 0
      },
      "text/plain": [
       "Validation Step:   0%|          | 0/6 [00:00<?, ?it/s]"
      ]
     },
     "metadata": {},
     "output_type": "display_data"
    },
    {
     "name": "stdout",
     "output_type": "stream",
     "text": [
      "Finished Epoch 011: | Train Loss: 0.00492 | Val Loss: 0.10596 | Train Acc: 0.000| Val Acc: 0.000\n",
      "Epoch 012:\n"
     ]
    },
    {
     "data": {
      "application/vnd.jupyter.widget-view+json": {
       "model_id": "fe6dcd0c6e3c462d88bc535eeefca6c7",
       "version_major": 2,
       "version_minor": 0
      },
      "text/plain": [
       "Training Step:   0%|          | 0/36 [00:00<?, ?it/s]"
      ]
     },
     "metadata": {},
     "output_type": "display_data"
    },
    {
     "data": {
      "application/vnd.jupyter.widget-view+json": {
       "model_id": "4b69d35b45794d67a55e1f2f5221bf6e",
       "version_major": 2,
       "version_minor": 0
      },
      "text/plain": [
       "Validation Step:   0%|          | 0/6 [00:00<?, ?it/s]"
      ]
     },
     "metadata": {},
     "output_type": "display_data"
    },
    {
     "name": "stdout",
     "output_type": "stream",
     "text": [
      "Finished Epoch 012: | Train Loss: 0.00444 | Val Loss: 0.10348 | Train Acc: 0.000| Val Acc: 0.000\n",
      "Epoch 013:\n"
     ]
    },
    {
     "data": {
      "application/vnd.jupyter.widget-view+json": {
       "model_id": "cb68fd0b406c45cb873489e8ec93589c",
       "version_major": 2,
       "version_minor": 0
      },
      "text/plain": [
       "Training Step:   0%|          | 0/36 [00:00<?, ?it/s]"
      ]
     },
     "metadata": {},
     "output_type": "display_data"
    },
    {
     "data": {
      "application/vnd.jupyter.widget-view+json": {
       "model_id": "00dcc1ccc7064480b72094795043c703",
       "version_major": 2,
       "version_minor": 0
      },
      "text/plain": [
       "Validation Step:   0%|          | 0/6 [00:00<?, ?it/s]"
      ]
     },
     "metadata": {},
     "output_type": "display_data"
    },
    {
     "name": "stdout",
     "output_type": "stream",
     "text": [
      "Finished Epoch 013: | Train Loss: 0.00438 | Val Loss: 0.09602 | Train Acc: 0.000| Val Acc: 0.000\n",
      "Epoch 014:\n"
     ]
    },
    {
     "data": {
      "application/vnd.jupyter.widget-view+json": {
       "model_id": "d62d7e2ba03a4688834544a3b975d56e",
       "version_major": 2,
       "version_minor": 0
      },
      "text/plain": [
       "Training Step:   0%|          | 0/36 [00:00<?, ?it/s]"
      ]
     },
     "metadata": {},
     "output_type": "display_data"
    },
    {
     "data": {
      "application/vnd.jupyter.widget-view+json": {
       "model_id": "bbff31350078416a90b9678a46ea874f",
       "version_major": 2,
       "version_minor": 0
      },
      "text/plain": [
       "Validation Step:   0%|          | 0/6 [00:00<?, ?it/s]"
      ]
     },
     "metadata": {},
     "output_type": "display_data"
    },
    {
     "name": "stdout",
     "output_type": "stream",
     "text": [
      "Finished Epoch 014: | Train Loss: 0.00398 | Val Loss: 0.09737 | Train Acc: 0.000| Val Acc: 0.000\n",
      "Epoch 015:\n"
     ]
    },
    {
     "data": {
      "application/vnd.jupyter.widget-view+json": {
       "model_id": "d9be66eab72a452992ad5c596457fdc5",
       "version_major": 2,
       "version_minor": 0
      },
      "text/plain": [
       "Training Step:   0%|          | 0/36 [00:00<?, ?it/s]"
      ]
     },
     "metadata": {},
     "output_type": "display_data"
    },
    {
     "data": {
      "application/vnd.jupyter.widget-view+json": {
       "model_id": "284a1c0dddd24115a9d9bcf5063fa1a1",
       "version_major": 2,
       "version_minor": 0
      },
      "text/plain": [
       "Validation Step:   0%|          | 0/6 [00:00<?, ?it/s]"
      ]
     },
     "metadata": {},
     "output_type": "display_data"
    },
    {
     "name": "stdout",
     "output_type": "stream",
     "text": [
      "Finished Epoch 015: | Train Loss: 0.00392 | Val Loss: 0.09232 | Train Acc: 0.000| Val Acc: 0.000\n",
      "Epoch 016:\n"
     ]
    },
    {
     "data": {
      "application/vnd.jupyter.widget-view+json": {
       "model_id": "eb522bdc129247d58c22f3f92a973af7",
       "version_major": 2,
       "version_minor": 0
      },
      "text/plain": [
       "Training Step:   0%|          | 0/36 [00:00<?, ?it/s]"
      ]
     },
     "metadata": {},
     "output_type": "display_data"
    },
    {
     "data": {
      "application/vnd.jupyter.widget-view+json": {
       "model_id": "ef3e203cdacb437884bd890909efe6d3",
       "version_major": 2,
       "version_minor": 0
      },
      "text/plain": [
       "Validation Step:   0%|          | 0/6 [00:00<?, ?it/s]"
      ]
     },
     "metadata": {},
     "output_type": "display_data"
    },
    {
     "name": "stdout",
     "output_type": "stream",
     "text": [
      "Finished Epoch 016: | Train Loss: 0.00373 | Val Loss: 0.09311 | Train Acc: 0.000| Val Acc: 0.000\n",
      "Epoch 017:\n"
     ]
    },
    {
     "data": {
      "application/vnd.jupyter.widget-view+json": {
       "model_id": "4d8e9f782daa4746b7d61a800d479f3b",
       "version_major": 2,
       "version_minor": 0
      },
      "text/plain": [
       "Training Step:   0%|          | 0/36 [00:00<?, ?it/s]"
      ]
     },
     "metadata": {},
     "output_type": "display_data"
    },
    {
     "data": {
      "application/vnd.jupyter.widget-view+json": {
       "model_id": "944c383656d9478fb71173bda88efcd4",
       "version_major": 2,
       "version_minor": 0
      },
      "text/plain": [
       "Validation Step:   0%|          | 0/6 [00:00<?, ?it/s]"
      ]
     },
     "metadata": {},
     "output_type": "display_data"
    },
    {
     "name": "stdout",
     "output_type": "stream",
     "text": [
      "Finished Epoch 017: | Train Loss: 0.00364 | Val Loss: 0.09018 | Train Acc: 0.000| Val Acc: 0.000\n",
      "Epoch 018:\n"
     ]
    },
    {
     "data": {
      "application/vnd.jupyter.widget-view+json": {
       "model_id": "4e462042a9fa4eff9e1dff0e6960369a",
       "version_major": 2,
       "version_minor": 0
      },
      "text/plain": [
       "Training Step:   0%|          | 0/36 [00:00<?, ?it/s]"
      ]
     },
     "metadata": {},
     "output_type": "display_data"
    },
    {
     "data": {
      "application/vnd.jupyter.widget-view+json": {
       "model_id": "ec3a617a288b44a682904dfe10556024",
       "version_major": 2,
       "version_minor": 0
      },
      "text/plain": [
       "Validation Step:   0%|          | 0/6 [00:00<?, ?it/s]"
      ]
     },
     "metadata": {},
     "output_type": "display_data"
    },
    {
     "name": "stdout",
     "output_type": "stream",
     "text": [
      "Finished Epoch 018: | Train Loss: 0.00338 | Val Loss: 0.08986 | Train Acc: 0.000| Val Acc: 0.000\n",
      "Epoch 019:\n"
     ]
    },
    {
     "data": {
      "application/vnd.jupyter.widget-view+json": {
       "model_id": "864a4d6dfb75481c82bbacc8e4ccac29",
       "version_major": 2,
       "version_minor": 0
      },
      "text/plain": [
       "Training Step:   0%|          | 0/36 [00:00<?, ?it/s]"
      ]
     },
     "metadata": {},
     "output_type": "display_data"
    },
    {
     "data": {
      "application/vnd.jupyter.widget-view+json": {
       "model_id": "2c22623f369f408d91b13693040339c4",
       "version_major": 2,
       "version_minor": 0
      },
      "text/plain": [
       "Validation Step:   0%|          | 0/6 [00:00<?, ?it/s]"
      ]
     },
     "metadata": {},
     "output_type": "display_data"
    },
    {
     "name": "stdout",
     "output_type": "stream",
     "text": [
      "Finished Epoch 019: | Train Loss: 0.00324 | Val Loss: 0.08798 | Train Acc: 0.000| Val Acc: 0.000\n",
      "Epoch 020:\n"
     ]
    },
    {
     "data": {
      "application/vnd.jupyter.widget-view+json": {
       "model_id": "624613f2cae74f5cac3c40b851405ac6",
       "version_major": 2,
       "version_minor": 0
      },
      "text/plain": [
       "Training Step:   0%|          | 0/36 [00:00<?, ?it/s]"
      ]
     },
     "metadata": {},
     "output_type": "display_data"
    },
    {
     "data": {
      "application/vnd.jupyter.widget-view+json": {
       "model_id": "dd7dd5e43dff41cb9e8ceec2d38ca749",
       "version_major": 2,
       "version_minor": 0
      },
      "text/plain": [
       "Validation Step:   0%|          | 0/6 [00:00<?, ?it/s]"
      ]
     },
     "metadata": {},
     "output_type": "display_data"
    },
    {
     "name": "stdout",
     "output_type": "stream",
     "text": [
      "Finished Epoch 020: | Train Loss: 0.00325 | Val Loss: 0.09110 | Train Acc: 0.000| Val Acc: 0.000\n",
      "Epoch 021:\n"
     ]
    },
    {
     "data": {
      "application/vnd.jupyter.widget-view+json": {
       "model_id": "2f3aa096182448bab0b99a765ebc77ac",
       "version_major": 2,
       "version_minor": 0
      },
      "text/plain": [
       "Training Step:   0%|          | 0/36 [00:00<?, ?it/s]"
      ]
     },
     "metadata": {},
     "output_type": "display_data"
    },
    {
     "data": {
      "application/vnd.jupyter.widget-view+json": {
       "model_id": "89f6e4b2bb3b489e8b231bff142b9eb8",
       "version_major": 2,
       "version_minor": 0
      },
      "text/plain": [
       "Validation Step:   0%|          | 0/6 [00:00<?, ?it/s]"
      ]
     },
     "metadata": {},
     "output_type": "display_data"
    },
    {
     "name": "stdout",
     "output_type": "stream",
     "text": [
      "Finished Epoch 021: | Train Loss: 0.00305 | Val Loss: 0.09171 | Train Acc: 0.000| Val Acc: 0.000\n",
      "Epoch 022:\n"
     ]
    },
    {
     "data": {
      "application/vnd.jupyter.widget-view+json": {
       "model_id": "8c828d832d354316bd100806bbda8a0b",
       "version_major": 2,
       "version_minor": 0
      },
      "text/plain": [
       "Training Step:   0%|          | 0/36 [00:00<?, ?it/s]"
      ]
     },
     "metadata": {},
     "output_type": "display_data"
    },
    {
     "data": {
      "application/vnd.jupyter.widget-view+json": {
       "model_id": "b525361fedda463f95cc8bd2264a8ca6",
       "version_major": 2,
       "version_minor": 0
      },
      "text/plain": [
       "Validation Step:   0%|          | 0/6 [00:00<?, ?it/s]"
      ]
     },
     "metadata": {},
     "output_type": "display_data"
    },
    {
     "name": "stdout",
     "output_type": "stream",
     "text": [
      "Finished Epoch 022: | Train Loss: 0.00291 | Val Loss: 0.08662 | Train Acc: 0.000| Val Acc: 0.000\n",
      "Epoch 023:\n"
     ]
    },
    {
     "data": {
      "application/vnd.jupyter.widget-view+json": {
       "model_id": "5a9f5bc7d27740668c2fa87d4552b66a",
       "version_major": 2,
       "version_minor": 0
      },
      "text/plain": [
       "Training Step:   0%|          | 0/36 [00:00<?, ?it/s]"
      ]
     },
     "metadata": {},
     "output_type": "display_data"
    },
    {
     "data": {
      "application/vnd.jupyter.widget-view+json": {
       "model_id": "ced7c812f8714929a3eeff7897783339",
       "version_major": 2,
       "version_minor": 0
      },
      "text/plain": [
       "Validation Step:   0%|          | 0/6 [00:00<?, ?it/s]"
      ]
     },
     "metadata": {},
     "output_type": "display_data"
    },
    {
     "name": "stdout",
     "output_type": "stream",
     "text": [
      "Finished Epoch 023: | Train Loss: 0.00287 | Val Loss: 0.08703 | Train Acc: 0.000| Val Acc: 0.000\n",
      "Epoch 024:\n"
     ]
    },
    {
     "data": {
      "application/vnd.jupyter.widget-view+json": {
       "model_id": "3365f0f841c14350b69fef9b436551d9",
       "version_major": 2,
       "version_minor": 0
      },
      "text/plain": [
       "Training Step:   0%|          | 0/36 [00:00<?, ?it/s]"
      ]
     },
     "metadata": {},
     "output_type": "display_data"
    },
    {
     "data": {
      "application/vnd.jupyter.widget-view+json": {
       "model_id": "25ecaf7f5a2f43759936569f2c3d913f",
       "version_major": 2,
       "version_minor": 0
      },
      "text/plain": [
       "Validation Step:   0%|          | 0/6 [00:00<?, ?it/s]"
      ]
     },
     "metadata": {},
     "output_type": "display_data"
    },
    {
     "name": "stdout",
     "output_type": "stream",
     "text": [
      "Finished Epoch 024: | Train Loss: 0.00276 | Val Loss: 0.08561 | Train Acc: 0.000| Val Acc: 0.000\n",
      "Epoch 025:\n"
     ]
    },
    {
     "data": {
      "application/vnd.jupyter.widget-view+json": {
       "model_id": "cc1c0da84d324945a890bee78b6e2696",
       "version_major": 2,
       "version_minor": 0
      },
      "text/plain": [
       "Training Step:   0%|          | 0/36 [00:00<?, ?it/s]"
      ]
     },
     "metadata": {},
     "output_type": "display_data"
    },
    {
     "data": {
      "application/vnd.jupyter.widget-view+json": {
       "model_id": "be8adb1bb7ed47b98ba51486f27dcea5",
       "version_major": 2,
       "version_minor": 0
      },
      "text/plain": [
       "Validation Step:   0%|          | 0/6 [00:00<?, ?it/s]"
      ]
     },
     "metadata": {},
     "output_type": "display_data"
    },
    {
     "name": "stdout",
     "output_type": "stream",
     "text": [
      "Finished Epoch 025: | Train Loss: 0.00260 | Val Loss: 0.07728 | Train Acc: 0.000| Val Acc: 0.000\n",
      "Epoch 026:\n"
     ]
    },
    {
     "data": {
      "application/vnd.jupyter.widget-view+json": {
       "model_id": "ec15aefe9731432d87557d9d180520d1",
       "version_major": 2,
       "version_minor": 0
      },
      "text/plain": [
       "Training Step:   0%|          | 0/36 [00:00<?, ?it/s]"
      ]
     },
     "metadata": {},
     "output_type": "display_data"
    },
    {
     "data": {
      "application/vnd.jupyter.widget-view+json": {
       "model_id": "70e5632cf42540f1b4abeb6b45ed3c80",
       "version_major": 2,
       "version_minor": 0
      },
      "text/plain": [
       "Validation Step:   0%|          | 0/6 [00:00<?, ?it/s]"
      ]
     },
     "metadata": {},
     "output_type": "display_data"
    },
    {
     "name": "stdout",
     "output_type": "stream",
     "text": [
      "Finished Epoch 026: | Train Loss: 0.00261 | Val Loss: 0.08302 | Train Acc: 0.000| Val Acc: 0.000\n",
      "Epoch 027:\n"
     ]
    },
    {
     "data": {
      "application/vnd.jupyter.widget-view+json": {
       "model_id": "6cec1b175cc24c92be28078ed8a2b485",
       "version_major": 2,
       "version_minor": 0
      },
      "text/plain": [
       "Training Step:   0%|          | 0/36 [00:00<?, ?it/s]"
      ]
     },
     "metadata": {},
     "output_type": "display_data"
    },
    {
     "data": {
      "application/vnd.jupyter.widget-view+json": {
       "model_id": "ed9f4a9828934ccbbd192fa1ea2c21e5",
       "version_major": 2,
       "version_minor": 0
      },
      "text/plain": [
       "Validation Step:   0%|          | 0/6 [00:00<?, ?it/s]"
      ]
     },
     "metadata": {},
     "output_type": "display_data"
    },
    {
     "name": "stdout",
     "output_type": "stream",
     "text": [
      "Finished Epoch 027: | Train Loss: 0.00251 | Val Loss: 0.08300 | Train Acc: 0.000| Val Acc: 0.000\n",
      "Epoch 028:\n"
     ]
    },
    {
     "data": {
      "application/vnd.jupyter.widget-view+json": {
       "model_id": "865ca7cb12154f0ba7f13cd1198448dd",
       "version_major": 2,
       "version_minor": 0
      },
      "text/plain": [
       "Training Step:   0%|          | 0/36 [00:00<?, ?it/s]"
      ]
     },
     "metadata": {},
     "output_type": "display_data"
    },
    {
     "data": {
      "application/vnd.jupyter.widget-view+json": {
       "model_id": "abcca3ca0a5d448f9d068f5ff3bb7727",
       "version_major": 2,
       "version_minor": 0
      },
      "text/plain": [
       "Validation Step:   0%|          | 0/6 [00:00<?, ?it/s]"
      ]
     },
     "metadata": {},
     "output_type": "display_data"
    },
    {
     "name": "stdout",
     "output_type": "stream",
     "text": [
      "Finished Epoch 028: | Train Loss: 0.00247 | Val Loss: 0.08462 | Train Acc: 0.000| Val Acc: 0.000\n",
      "Epoch 029:\n"
     ]
    },
    {
     "data": {
      "application/vnd.jupyter.widget-view+json": {
       "model_id": "42f89486758c46339d2ad30f6af295a5",
       "version_major": 2,
       "version_minor": 0
      },
      "text/plain": [
       "Training Step:   0%|          | 0/36 [00:00<?, ?it/s]"
      ]
     },
     "metadata": {},
     "output_type": "display_data"
    },
    {
     "data": {
      "application/vnd.jupyter.widget-view+json": {
       "model_id": "0e12ae46c59349cc9711afad4212f7ba",
       "version_major": 2,
       "version_minor": 0
      },
      "text/plain": [
       "Validation Step:   0%|          | 0/6 [00:00<?, ?it/s]"
      ]
     },
     "metadata": {},
     "output_type": "display_data"
    },
    {
     "name": "stdout",
     "output_type": "stream",
     "text": [
      "Finished Epoch 029: | Train Loss: 0.00225 | Val Loss: 0.07862 | Train Acc: 0.000| Val Acc: 0.000\n",
      "Epoch 030:\n"
     ]
    },
    {
     "data": {
      "application/vnd.jupyter.widget-view+json": {
       "model_id": "9e86754b16c54462b7bbff4c927b56df",
       "version_major": 2,
       "version_minor": 0
      },
      "text/plain": [
       "Training Step:   0%|          | 0/36 [00:00<?, ?it/s]"
      ]
     },
     "metadata": {},
     "output_type": "display_data"
    },
    {
     "data": {
      "application/vnd.jupyter.widget-view+json": {
       "model_id": "acda1fa73eb7466aa105b685a93f7739",
       "version_major": 2,
       "version_minor": 0
      },
      "text/plain": [
       "Validation Step:   0%|          | 0/6 [00:00<?, ?it/s]"
      ]
     },
     "metadata": {},
     "output_type": "display_data"
    },
    {
     "name": "stdout",
     "output_type": "stream",
     "text": [
      "Finished Epoch 030: | Train Loss: 0.00220 | Val Loss: 0.08417 | Train Acc: 0.000| Val Acc: 0.000\n",
      "Epoch 031:\n"
     ]
    },
    {
     "data": {
      "application/vnd.jupyter.widget-view+json": {
       "model_id": "228b95c28662411cad6ef34d54085306",
       "version_major": 2,
       "version_minor": 0
      },
      "text/plain": [
       "Training Step:   0%|          | 0/36 [00:00<?, ?it/s]"
      ]
     },
     "metadata": {},
     "output_type": "display_data"
    },
    {
     "data": {
      "application/vnd.jupyter.widget-view+json": {
       "model_id": "7611168677bc425b85bbecf95c29e4c6",
       "version_major": 2,
       "version_minor": 0
      },
      "text/plain": [
       "Validation Step:   0%|          | 0/6 [00:00<?, ?it/s]"
      ]
     },
     "metadata": {},
     "output_type": "display_data"
    },
    {
     "name": "stdout",
     "output_type": "stream",
     "text": [
      "Finished Epoch 031: | Train Loss: 0.00217 | Val Loss: 0.08114 | Train Acc: 0.000| Val Acc: 0.000\n",
      "Epoch 032:\n"
     ]
    },
    {
     "data": {
      "application/vnd.jupyter.widget-view+json": {
       "model_id": "7d9933fc180247eb839327f260d9c121",
       "version_major": 2,
       "version_minor": 0
      },
      "text/plain": [
       "Training Step:   0%|          | 0/36 [00:00<?, ?it/s]"
      ]
     },
     "metadata": {},
     "output_type": "display_data"
    },
    {
     "data": {
      "application/vnd.jupyter.widget-view+json": {
       "model_id": "96dc02bd2f044f759db64a4fc0eac09e",
       "version_major": 2,
       "version_minor": 0
      },
      "text/plain": [
       "Validation Step:   0%|          | 0/6 [00:00<?, ?it/s]"
      ]
     },
     "metadata": {},
     "output_type": "display_data"
    },
    {
     "name": "stdout",
     "output_type": "stream",
     "text": [
      "Finished Epoch 032: | Train Loss: 0.00216 | Val Loss: 0.07956 | Train Acc: 0.000| Val Acc: 0.000\n",
      "Epoch 033:\n"
     ]
    },
    {
     "data": {
      "application/vnd.jupyter.widget-view+json": {
       "model_id": "b583f4afaa724f7fbcab8dcab954df93",
       "version_major": 2,
       "version_minor": 0
      },
      "text/plain": [
       "Training Step:   0%|          | 0/36 [00:00<?, ?it/s]"
      ]
     },
     "metadata": {},
     "output_type": "display_data"
    },
    {
     "data": {
      "application/vnd.jupyter.widget-view+json": {
       "model_id": "19d1cdbdca214cfa9771b2e654fbed0c",
       "version_major": 2,
       "version_minor": 0
      },
      "text/plain": [
       "Validation Step:   0%|          | 0/6 [00:00<?, ?it/s]"
      ]
     },
     "metadata": {},
     "output_type": "display_data"
    },
    {
     "name": "stdout",
     "output_type": "stream",
     "text": [
      "Finished Epoch 033: | Train Loss: 0.00205 | Val Loss: 0.07852 | Train Acc: 0.000| Val Acc: 0.000\n",
      "Epoch 034:\n"
     ]
    },
    {
     "data": {
      "application/vnd.jupyter.widget-view+json": {
       "model_id": "20b417e02144499d81fbe8cf5004b1df",
       "version_major": 2,
       "version_minor": 0
      },
      "text/plain": [
       "Training Step:   0%|          | 0/36 [00:00<?, ?it/s]"
      ]
     },
     "metadata": {},
     "output_type": "display_data"
    },
    {
     "data": {
      "application/vnd.jupyter.widget-view+json": {
       "model_id": "dcdad96073e74fd4a2fe7474e49dbae0",
       "version_major": 2,
       "version_minor": 0
      },
      "text/plain": [
       "Validation Step:   0%|          | 0/6 [00:00<?, ?it/s]"
      ]
     },
     "metadata": {},
     "output_type": "display_data"
    },
    {
     "name": "stdout",
     "output_type": "stream",
     "text": [
      "Finished Epoch 034: | Train Loss: 0.00199 | Val Loss: 0.08163 | Train Acc: 0.000| Val Acc: 0.000\n",
      "Epoch 035:\n"
     ]
    },
    {
     "data": {
      "application/vnd.jupyter.widget-view+json": {
       "model_id": "4a92e1d6c28a47b99fb6127e4d1c8d66",
       "version_major": 2,
       "version_minor": 0
      },
      "text/plain": [
       "Training Step:   0%|          | 0/36 [00:00<?, ?it/s]"
      ]
     },
     "metadata": {},
     "output_type": "display_data"
    },
    {
     "data": {
      "application/vnd.jupyter.widget-view+json": {
       "model_id": "9ebde887b88e462cb6ad0fde88073dc1",
       "version_major": 2,
       "version_minor": 0
      },
      "text/plain": [
       "Validation Step:   0%|          | 0/6 [00:00<?, ?it/s]"
      ]
     },
     "metadata": {},
     "output_type": "display_data"
    },
    {
     "name": "stdout",
     "output_type": "stream",
     "text": [
      "Finished Epoch 035: | Train Loss: 0.00193 | Val Loss: 0.07281 | Train Acc: 0.000| Val Acc: 0.000\n",
      "Epoch 036:\n"
     ]
    },
    {
     "data": {
      "application/vnd.jupyter.widget-view+json": {
       "model_id": "41f7e293a8b44e42b0ad7cca8b100d86",
       "version_major": 2,
       "version_minor": 0
      },
      "text/plain": [
       "Training Step:   0%|          | 0/36 [00:00<?, ?it/s]"
      ]
     },
     "metadata": {},
     "output_type": "display_data"
    },
    {
     "data": {
      "application/vnd.jupyter.widget-view+json": {
       "model_id": "5f6ea455962a40e0b995949727bed95e",
       "version_major": 2,
       "version_minor": 0
      },
      "text/plain": [
       "Validation Step:   0%|          | 0/6 [00:00<?, ?it/s]"
      ]
     },
     "metadata": {},
     "output_type": "display_data"
    },
    {
     "name": "stdout",
     "output_type": "stream",
     "text": [
      "Finished Epoch 036: | Train Loss: 0.00191 | Val Loss: 0.07753 | Train Acc: 0.000| Val Acc: 0.000\n",
      "Epoch 037:\n"
     ]
    },
    {
     "data": {
      "application/vnd.jupyter.widget-view+json": {
       "model_id": "c8e469e058d946ecbd9953e4b2c524c0",
       "version_major": 2,
       "version_minor": 0
      },
      "text/plain": [
       "Training Step:   0%|          | 0/36 [00:00<?, ?it/s]"
      ]
     },
     "metadata": {},
     "output_type": "display_data"
    },
    {
     "data": {
      "application/vnd.jupyter.widget-view+json": {
       "model_id": "5b927eea7c91468491d9be11ae142c72",
       "version_major": 2,
       "version_minor": 0
      },
      "text/plain": [
       "Validation Step:   0%|          | 0/6 [00:00<?, ?it/s]"
      ]
     },
     "metadata": {},
     "output_type": "display_data"
    },
    {
     "name": "stdout",
     "output_type": "stream",
     "text": [
      "Finished Epoch 037: | Train Loss: 0.00194 | Val Loss: 0.08070 | Train Acc: 0.000| Val Acc: 0.000\n",
      "Epoch 038:\n"
     ]
    },
    {
     "data": {
      "application/vnd.jupyter.widget-view+json": {
       "model_id": "51bc8f23ca9742aba4848b79b79a5b4e",
       "version_major": 2,
       "version_minor": 0
      },
      "text/plain": [
       "Training Step:   0%|          | 0/36 [00:00<?, ?it/s]"
      ]
     },
     "metadata": {},
     "output_type": "display_data"
    },
    {
     "data": {
      "application/vnd.jupyter.widget-view+json": {
       "model_id": "a591e2e26abe41cfb8d5bf82a6c537c8",
       "version_major": 2,
       "version_minor": 0
      },
      "text/plain": [
       "Validation Step:   0%|          | 0/6 [00:00<?, ?it/s]"
      ]
     },
     "metadata": {},
     "output_type": "display_data"
    },
    {
     "name": "stdout",
     "output_type": "stream",
     "text": [
      "Finished Epoch 038: | Train Loss: 0.00182 | Val Loss: 0.07932 | Train Acc: 0.000| Val Acc: 0.000\n",
      "Epoch 039:\n"
     ]
    },
    {
     "data": {
      "application/vnd.jupyter.widget-view+json": {
       "model_id": "4a2335f133504b89a711d05221fbe2c8",
       "version_major": 2,
       "version_minor": 0
      },
      "text/plain": [
       "Training Step:   0%|          | 0/36 [00:00<?, ?it/s]"
      ]
     },
     "metadata": {},
     "output_type": "display_data"
    },
    {
     "data": {
      "application/vnd.jupyter.widget-view+json": {
       "model_id": "258cac98bf8e48b98196697e48f416be",
       "version_major": 2,
       "version_minor": 0
      },
      "text/plain": [
       "Validation Step:   0%|          | 0/6 [00:00<?, ?it/s]"
      ]
     },
     "metadata": {},
     "output_type": "display_data"
    },
    {
     "name": "stdout",
     "output_type": "stream",
     "text": [
      "Finished Epoch 039: | Train Loss: 0.00180 | Val Loss: 0.08361 | Train Acc: 0.000| Val Acc: 0.000\n",
      "Epoch 040:\n"
     ]
    },
    {
     "data": {
      "application/vnd.jupyter.widget-view+json": {
       "model_id": "b5170a91f01149858a7c77656161fb56",
       "version_major": 2,
       "version_minor": 0
      },
      "text/plain": [
       "Training Step:   0%|          | 0/36 [00:00<?, ?it/s]"
      ]
     },
     "metadata": {},
     "output_type": "display_data"
    },
    {
     "data": {
      "application/vnd.jupyter.widget-view+json": {
       "model_id": "ad8b7748f21148578adb5c755ea5bc31",
       "version_major": 2,
       "version_minor": 0
      },
      "text/plain": [
       "Validation Step:   0%|          | 0/6 [00:00<?, ?it/s]"
      ]
     },
     "metadata": {},
     "output_type": "display_data"
    },
    {
     "name": "stdout",
     "output_type": "stream",
     "text": [
      "Finished Epoch 040: | Train Loss: 0.00172 | Val Loss: 0.08223 | Train Acc: 0.000| Val Acc: 0.000\n",
      "Epoch 041:\n"
     ]
    },
    {
     "data": {
      "application/vnd.jupyter.widget-view+json": {
       "model_id": "ea4448f149664a9ea91a527693a5baec",
       "version_major": 2,
       "version_minor": 0
      },
      "text/plain": [
       "Training Step:   0%|          | 0/36 [00:00<?, ?it/s]"
      ]
     },
     "metadata": {},
     "output_type": "display_data"
    },
    {
     "data": {
      "application/vnd.jupyter.widget-view+json": {
       "model_id": "95a16e3c56414ce5b663186ed4cea554",
       "version_major": 2,
       "version_minor": 0
      },
      "text/plain": [
       "Validation Step:   0%|          | 0/6 [00:00<?, ?it/s]"
      ]
     },
     "metadata": {},
     "output_type": "display_data"
    },
    {
     "name": "stdout",
     "output_type": "stream",
     "text": [
      "Finished Epoch 041: | Train Loss: 0.00172 | Val Loss: 0.08091 | Train Acc: 0.000| Val Acc: 0.000\n",
      "Epoch 042:\n"
     ]
    },
    {
     "data": {
      "application/vnd.jupyter.widget-view+json": {
       "model_id": "12dc5a9751aa4d6cb0c2bf3e54835e84",
       "version_major": 2,
       "version_minor": 0
      },
      "text/plain": [
       "Training Step:   0%|          | 0/36 [00:00<?, ?it/s]"
      ]
     },
     "metadata": {},
     "output_type": "display_data"
    },
    {
     "data": {
      "application/vnd.jupyter.widget-view+json": {
       "model_id": "a869880507aa4637ba48c66fb1d07d9b",
       "version_major": 2,
       "version_minor": 0
      },
      "text/plain": [
       "Validation Step:   0%|          | 0/6 [00:00<?, ?it/s]"
      ]
     },
     "metadata": {},
     "output_type": "display_data"
    },
    {
     "name": "stdout",
     "output_type": "stream",
     "text": [
      "Finished Epoch 042: | Train Loss: 0.00170 | Val Loss: 0.08425 | Train Acc: 0.000| Val Acc: 0.000\n",
      "Epoch 043:\n"
     ]
    },
    {
     "data": {
      "application/vnd.jupyter.widget-view+json": {
       "model_id": "e645ffbeaa344ae6b2bb02b603abee5b",
       "version_major": 2,
       "version_minor": 0
      },
      "text/plain": [
       "Training Step:   0%|          | 0/36 [00:00<?, ?it/s]"
      ]
     },
     "metadata": {},
     "output_type": "display_data"
    },
    {
     "data": {
      "application/vnd.jupyter.widget-view+json": {
       "model_id": "3fb246ca50c34758808f6006e384904f",
       "version_major": 2,
       "version_minor": 0
      },
      "text/plain": [
       "Validation Step:   0%|          | 0/6 [00:00<?, ?it/s]"
      ]
     },
     "metadata": {},
     "output_type": "display_data"
    },
    {
     "name": "stdout",
     "output_type": "stream",
     "text": [
      "Finished Epoch 043: | Train Loss: 0.00170 | Val Loss: 0.07886 | Train Acc: 0.000| Val Acc: 0.000\n",
      "Epoch 044:\n"
     ]
    },
    {
     "data": {
      "application/vnd.jupyter.widget-view+json": {
       "model_id": "ea6433c471fe4e859d7f36512571b6ac",
       "version_major": 2,
       "version_minor": 0
      },
      "text/plain": [
       "Training Step:   0%|          | 0/36 [00:00<?, ?it/s]"
      ]
     },
     "metadata": {},
     "output_type": "display_data"
    },
    {
     "data": {
      "application/vnd.jupyter.widget-view+json": {
       "model_id": "6dc55a2183af4611881d733bec808316",
       "version_major": 2,
       "version_minor": 0
      },
      "text/plain": [
       "Validation Step:   0%|          | 0/6 [00:00<?, ?it/s]"
      ]
     },
     "metadata": {},
     "output_type": "display_data"
    },
    {
     "name": "stdout",
     "output_type": "stream",
     "text": [
      "Finished Epoch 044: | Train Loss: 0.00172 | Val Loss: 0.08278 | Train Acc: 0.000| Val Acc: 0.000\n",
      "Epoch 045:\n"
     ]
    },
    {
     "data": {
      "application/vnd.jupyter.widget-view+json": {
       "model_id": "6b7df5770bfc45d79c13e05f5e64e7c3",
       "version_major": 2,
       "version_minor": 0
      },
      "text/plain": [
       "Training Step:   0%|          | 0/36 [00:00<?, ?it/s]"
      ]
     },
     "metadata": {},
     "output_type": "display_data"
    },
    {
     "data": {
      "application/vnd.jupyter.widget-view+json": {
       "model_id": "2ab18c62ae56462995e9ef5c6032a11c",
       "version_major": 2,
       "version_minor": 0
      },
      "text/plain": [
       "Validation Step:   0%|          | 0/6 [00:00<?, ?it/s]"
      ]
     },
     "metadata": {},
     "output_type": "display_data"
    },
    {
     "name": "stdout",
     "output_type": "stream",
     "text": [
      "Finished Epoch 045: | Train Loss: 0.00165 | Val Loss: 0.08372 | Train Acc: 0.000| Val Acc: 0.000\n",
      "Epoch 046:\n"
     ]
    },
    {
     "data": {
      "application/vnd.jupyter.widget-view+json": {
       "model_id": "db3a73091fd045228cf381ca3d57ef1f",
       "version_major": 2,
       "version_minor": 0
      },
      "text/plain": [
       "Training Step:   0%|          | 0/36 [00:00<?, ?it/s]"
      ]
     },
     "metadata": {},
     "output_type": "display_data"
    },
    {
     "data": {
      "application/vnd.jupyter.widget-view+json": {
       "model_id": "eb5bfbda09394752b5924d4d82aee6c2",
       "version_major": 2,
       "version_minor": 0
      },
      "text/plain": [
       "Validation Step:   0%|          | 0/6 [00:00<?, ?it/s]"
      ]
     },
     "metadata": {},
     "output_type": "display_data"
    },
    {
     "name": "stdout",
     "output_type": "stream",
     "text": [
      "Finished Epoch 046: | Train Loss: 0.00153 | Val Loss: 0.07722 | Train Acc: 0.000| Val Acc: 0.000\n",
      "Epoch 047:\n"
     ]
    },
    {
     "data": {
      "application/vnd.jupyter.widget-view+json": {
       "model_id": "1a56a22878e04a3aa04f52d0e08ab2de",
       "version_major": 2,
       "version_minor": 0
      },
      "text/plain": [
       "Training Step:   0%|          | 0/36 [00:00<?, ?it/s]"
      ]
     },
     "metadata": {},
     "output_type": "display_data"
    },
    {
     "data": {
      "application/vnd.jupyter.widget-view+json": {
       "model_id": "d67d86df11e44d4bb0f0b25677361eaa",
       "version_major": 2,
       "version_minor": 0
      },
      "text/plain": [
       "Validation Step:   0%|          | 0/6 [00:00<?, ?it/s]"
      ]
     },
     "metadata": {},
     "output_type": "display_data"
    },
    {
     "name": "stdout",
     "output_type": "stream",
     "text": [
      "Finished Epoch 047: | Train Loss: 0.00158 | Val Loss: 0.07067 | Train Acc: 0.000| Val Acc: 0.000\n",
      "Epoch 048:\n"
     ]
    },
    {
     "data": {
      "application/vnd.jupyter.widget-view+json": {
       "model_id": "f87856b124424485b7e79659974503e9",
       "version_major": 2,
       "version_minor": 0
      },
      "text/plain": [
       "Training Step:   0%|          | 0/36 [00:00<?, ?it/s]"
      ]
     },
     "metadata": {},
     "output_type": "display_data"
    },
    {
     "data": {
      "application/vnd.jupyter.widget-view+json": {
       "model_id": "b808d2419101457bb01ee523676074f2",
       "version_major": 2,
       "version_minor": 0
      },
      "text/plain": [
       "Validation Step:   0%|          | 0/6 [00:00<?, ?it/s]"
      ]
     },
     "metadata": {},
     "output_type": "display_data"
    },
    {
     "name": "stdout",
     "output_type": "stream",
     "text": [
      "Finished Epoch 048: | Train Loss: 0.00154 | Val Loss: 0.07596 | Train Acc: 0.000| Val Acc: 0.000\n",
      "Epoch 049:\n"
     ]
    },
    {
     "data": {
      "application/vnd.jupyter.widget-view+json": {
       "model_id": "87391ed6e28b41989717d65d429c5a78",
       "version_major": 2,
       "version_minor": 0
      },
      "text/plain": [
       "Training Step:   0%|          | 0/36 [00:00<?, ?it/s]"
      ]
     },
     "metadata": {},
     "output_type": "display_data"
    },
    {
     "data": {
      "application/vnd.jupyter.widget-view+json": {
       "model_id": "be90813e482b4d29a0ea2dd2b68fb804",
       "version_major": 2,
       "version_minor": 0
      },
      "text/plain": [
       "Validation Step:   0%|          | 0/6 [00:00<?, ?it/s]"
      ]
     },
     "metadata": {},
     "output_type": "display_data"
    },
    {
     "name": "stdout",
     "output_type": "stream",
     "text": [
      "Finished Epoch 049: | Train Loss: 0.00153 | Val Loss: 0.07830 | Train Acc: 0.000| Val Acc: 0.000\n",
      "Epoch 050:\n"
     ]
    },
    {
     "data": {
      "application/vnd.jupyter.widget-view+json": {
       "model_id": "015e2ddb27b746b5922e82f5941ce7e8",
       "version_major": 2,
       "version_minor": 0
      },
      "text/plain": [
       "Training Step:   0%|          | 0/36 [00:00<?, ?it/s]"
      ]
     },
     "metadata": {},
     "output_type": "display_data"
    },
    {
     "data": {
      "application/vnd.jupyter.widget-view+json": {
       "model_id": "dbf965175d6e4bdf83b8ae0e1c5ecd83",
       "version_major": 2,
       "version_minor": 0
      },
      "text/plain": [
       "Validation Step:   0%|          | 0/6 [00:00<?, ?it/s]"
      ]
     },
     "metadata": {},
     "output_type": "display_data"
    },
    {
     "name": "stdout",
     "output_type": "stream",
     "text": [
      "Finished Epoch 050: | Train Loss: 0.00146 | Val Loss: 0.07190 | Train Acc: 0.000| Val Acc: 0.000\n",
      "Done!\n"
     ]
    }
   ],
   "source": [
    "if reduceKeypoints:\n",
    "    model = LinearModel(2*28,28,1392)\n",
    "    accurate_dist = torch.from_numpy(np.array([[1,1,1]]*28).T[2])\n",
    "else:\n",
    "    model = LinearModel(2*62,62,512)\n",
    "    accurate_dist = torch.from_numpy(np.array([[1,1,1]]*62).T[2])\n",
    "# Normalised boi\n",
    "# accurate_dist = torch.from_numpy(np.nan_to_num(abs(([4,4,4]-sungaya_dataset.means_3d)/sungaya_dataset.std_3d)).T)\n",
    "# accurate_dist =  torch.from_numpy(np.array([[4,4,4]]*62).T)\n",
    "\n",
    "epochs = 50\n",
    "learning_rate = 2.5e-4\n",
    "optimizer = torch.optim.Adam(model.parameters(), lr=learning_rate)\n",
    "liftingtrainer = Train_LiftNetwork(model,optimizer,accurate_dist,train_dataloader, valid_dataloader, reduceKeypoints)\n",
    "trained_model = liftingtrainer.run(epochs)"
   ]
  },
  {
   "cell_type": "code",
   "execution_count": 16,
   "id": "983795ef",
   "metadata": {},
   "outputs": [],
   "source": [
    "trained_model = liftingtrainer.model\n",
    "trained_model.eval()\n",
    "# Code get the first batch of results\n",
    "with torch.no_grad():\n",
    "    for data in train_dataloader:\n",
    "        image = data['file_name']\n",
    "        X = data['key_points_2D']\n",
    "        y = data['key_points_3D']\n",
    "        vis = data['visibility']\n",
    "        # print(y)\n",
    "        X, y = X.to(liftingtrainer.device, dtype=torch.float), y.to(liftingtrainer.device, dtype=torch.float)\n",
    "        \n",
    "        pred = trained_model(torch.flatten(X, start_dim=1, end_dim=2))\n",
    "        break"
   ]
  },
  {
   "cell_type": "code",
   "execution_count": 30,
   "id": "e6a373ac",
   "metadata": {},
   "outputs": [
    {
     "data": {
      "application/vnd.jupyter.widget-view+json": {
       "model_id": "012553a2f4cf42d6b9a03b3378260b8b",
       "version_major": 2,
       "version_minor": 0
      },
      "text/plain": [
       "Canvas(toolbar=Toolbar(toolitems=[('Home', 'Reset original view', 'home', 'home'), ('Back', 'Back to previous …"
      ]
     },
     "metadata": {},
     "output_type": "display_data"
    }
   ],
   "source": [
    "sample = 14\n",
    "prediction = (pred[sample].cpu()).numpy() #.unflatten(0,(28,3))\n",
    "actual = (y[sample].cpu()).numpy()\n",
    "visibility_mask = vis[sample]\n",
    "\n",
    "mean = sungaya_dataset.means_3d[:,2]\n",
    "std = sungaya_dataset.std_3d[:,2]\n",
    "\n",
    "fig = plt.figure()\n",
    "ax = fig.add_subplot(projection='3d')\n",
    "\n",
    "unnormalised_acc = (actual*sungaya_dataset.std_3d)+sungaya_dataset.means_3d\n",
    "# print(unnormalised_acc)\n",
    "ax, line1 = plot_stick_bug(ax, unnormalised_acc, visibility_mask)\n",
    "# print(prediction.shape)\n",
    "# unnormalised_est = (prediction*sungaya_dataset.std_3d)+sungaya_dataset.means_3d\n",
    "unnormalised_est = unnormalised_acc.copy()\n",
    "unnormalised_est[:,2] = (prediction*std)+mean\n",
    "ax, line2 = plot_stick_bug(ax, unnormalised_est, visibility_mask, True)\n",
    "\n",
    "ax.set_xlabel('X axis')\n",
    "ax.set_ylabel('Y axis')\n",
    "ax.set_zlabel('Z axis')\n",
    "plt.title(image[sample])\n",
    "# plt.legend(handles=[line1,line2], loc='upper right')\n",
    "\n",
    "# use custom function to ensure equal axis proportions\n",
    "set_axes_equal(ax)\n",
    "# opens external plot\n",
    "plt.show()"
   ]
  },
  {
   "cell_type": "code",
   "execution_count": 41,
   "id": "5b305c1c",
   "metadata": {},
   "outputs": [
    {
     "name": "stdout",
     "output_type": "stream",
     "text": [
      "0.6666666666666666\n"
     ]
    }
   ],
   "source": [
    "correct = 0\n",
    "accurate_dist =  np.array([[4,4,4]]*28).T\n",
    "difference = abs(unnormalised_est[:,2]-unnormalised_acc[:,2])\n",
    "correct += (difference<accurate_dist[2]).sum().item()\n",
    "print(correct/visibility_mask.sum().numpy())\n"
   ]
  },
  {
   "cell_type": "code",
   "execution_count": 57,
   "id": "976ae75f",
   "metadata": {},
   "outputs": [],
   "source": [
    "# https://pytorch.org/tutorials/beginner/saving_loading_models.html\n",
    "# PATH = \"lift.pt\"\n",
    "# torch.save(trained_model.state_dict(), PATH)"
   ]
  }
 ],
 "metadata": {
  "kernelspec": {
   "display_name": "Python 3 (ipykernel)",
   "language": "python",
   "name": "python3"
  },
  "language_info": {
   "codemirror_mode": {
    "name": "ipython",
    "version": 3
   },
   "file_extension": ".py",
   "mimetype": "text/x-python",
   "name": "python",
   "nbconvert_exporter": "python",
   "pygments_lexer": "ipython3",
   "version": "3.8.11"
  }
 },
 "nbformat": 4,
 "nbformat_minor": 5
}
