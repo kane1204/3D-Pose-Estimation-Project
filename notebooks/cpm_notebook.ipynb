{
 "cells": [
  {
   "cell_type": "markdown",
   "id": "0c2a29bd",
   "metadata": {},
   "source": [
    "# CPM Method of 2D Keypoint Estimation"
   ]
  },
  {
   "cell_type": "markdown",
   "id": "57cc3068",
   "metadata": {},
   "source": [
    "## Imports and Setup"
   ]
  },
  {
   "cell_type": "code",
   "execution_count": null,
   "id": "96be697e",
   "metadata": {},
   "outputs": [],
   "source": [
    "import os\n",
    "import src.bug_dataset\n",
    "from src.models.cpm_model import CPM\n",
    "from src.train_cpm_network import Train_CPM_Network\n",
    "import numpy as np\n",
    "import pandas as pd\n",
    "from skimage import io\n",
    "import torch\n",
    "from torch.utils.data import DataLoader\n",
    "from torchvision import transforms\n",
    "import matplotlib.pyplot as plt\n",
    "plt.ion()   # interactive mode"
   ]
  },
  {
   "cell_type": "code",
   "execution_count": null,
   "id": "0c44946e",
   "metadata": {},
   "outputs": [],
   "source": [
    "target_dir = \"../data/single_sungaya/\"\n",
    "out_df = pd.read_hdf(os.path.join(target_dir, \"Data_3D_Pose.hdf5\"))"
   ]
  },
  {
   "cell_type": "code",
   "execution_count": null,
   "id": "d4a8ce47",
   "metadata": {},
   "outputs": [],
   "source": [
    "reduceKeypoints = True\n",
    "sungaya_dataset = src.bug_dataset.BugDataset(df=out_df,reduced=reduceKeypoints,\n",
    "                             root_dir=target_dir,transform=transforms.Compose([\n",
    "                                src.bug_dataset.ToTensor()\n",
    "                                   ]))"
   ]
  },
  {
   "cell_type": "code",
   "execution_count": null,
   "id": "56744350",
   "metadata": {},
   "outputs": [],
   "source": [
    "import cv2\n",
    "sample = sungaya_dataset[2417]\n",
    "name = sample['file_name']\n",
    "image = sample['image']\n",
    "img=image.numpy()\n",
    "img=np.swapaxes(img,0,1)\n",
    "img=np.swapaxes(img,1,2)\n",
    "\n",
    "name = sample['file_name']\n",
    "keypoints = sample['key_points_2D']\n",
    "\n",
    "keypoints = (sample['key_points_2D']*sungaya_dataset.std_2d)+sungaya_dataset.means_2d\n",
    "\n",
    "heatmap = sample['heatmap'].numpy()\n",
    "\n",
    "fig = plt.figure()\n",
    "ax = fig.add_subplot()\n",
    "\n",
    "ax.imshow(img.astype('uint8'))\n",
    "heat =ax.imshow(cv2.resize(heatmap[0], (152,152)), alpha = 0.3,cmap='hot')\n",
    "# ax.scatter(keypoints[:,0], keypoints[:,1], marker='o', s=5,  color='b')\n",
    "\n",
    "ax.set_xlim([0,152])\n",
    "ax.set_ylim([152,0])\n",
    "ax.set_aspect('equal')\n",
    "\n",
    "plt.title(name)\n",
    "fig.colorbar(heat)\n",
    "plt.show()"
   ]
  },
  {
   "cell_type": "code",
   "execution_count": null,
   "id": "02b63446",
   "metadata": {},
   "outputs": [],
   "source": [
    "train_split = 0.7\n",
    "valid_split = 0.1\n",
    "train_size = int(train_split * len(sungaya_dataset))\n",
    "valid_size = int(valid_split * len(sungaya_dataset))\n",
    "test_size = len(sungaya_dataset) - (train_size+valid_size)\n",
    "train_dataset,valid_dataset ,test_dataset = torch.utils.data.random_split(sungaya_dataset, [train_size, valid_size, test_size], generator=torch.Generator().manual_seed(42))"
   ]
  },
  {
   "cell_type": "code",
   "execution_count": null,
   "id": "5362d1c9",
   "metadata": {},
   "outputs": [],
   "source": [
    "batch_size = 16\n",
    "\n",
    "train_dataloader = DataLoader(train_dataset, batch_size=batch_size)\n",
    "valid_dataloader = DataLoader(valid_dataset, batch_size=batch_size)\n",
    "test_dataloader = DataLoader(test_dataset, batch_size=batch_size)"
   ]
  },
  {
   "cell_type": "code",
   "execution_count": null,
   "id": "80649349",
   "metadata": {},
   "outputs": [],
   "source": [
    "# Create Model\n",
    "if reduceKeypoints:\n",
    "    model = CPM(28)\n",
    "    accurate_dist = torch.from_numpy(np.array([[10,10]]*28))\n",
    "else:\n",
    "    model = CPM(62)\n",
    "    accurate_dist = torch.from_numpy(np.array([[10,10]]*62))"
   ]
  },
  {
   "cell_type": "code",
   "execution_count": null,
   "id": "055d9fba",
   "metadata": {},
   "outputs": [],
   "source": [
    "load = False\n",
    "if load == True:\n",
    "    path = \"..\\model\\estimator2d.pt\"\n",
    "    model.load_state_dict(torch.load(path))\n",
    "    model.eval()\n",
    "\n",
    "epochs = 1500\n",
    "learning_rate = 2e-6  #-6\n",
    "optimizer = torch.optim.Adam(params=model.parameters(), lr=learning_rate, betas=(0.5, 0.999))\n",
    "liftingtrainer = Train_CPM_Network(model,optimizer, accurate_dist, train_dataloader, valid_dataloader)\n",
    "trained_model = liftingtrainer.run(epochs)"
   ]
  },
  {
   "cell_type": "code",
   "execution_count": null,
   "id": "983795ef",
   "metadata": {},
   "outputs": [],
   "source": [
    "trained_model = liftingtrainer.model\n",
    "trained_model.eval()\n",
    "# Code get the first batch of results\n",
    "with torch.no_grad():\n",
    "    for data in train_dataloader:\n",
    "        image = data['image']\n",
    "        center = data['centermap']\n",
    "        heatmap = data['heatmap']\n",
    "        file_name = data['file_name']\n",
    "        kp = data['key_points_2D']\n",
    "        visib = data['visibility']\n",
    "        input_var = image.to(liftingtrainer.device, dtype=torch.float)\n",
    "        heatmap_var = heatmap.to(liftingtrainer.device, dtype=torch.float)\n",
    "        centermap_var = center.to(liftingtrainer.device, dtype=torch.float)\n",
    "\n",
    "        heat1, heat2, heat3, heat4, heat5, heat6 = trained_model(input_var, centermap_var)\n",
    "        break"
   ]
  },
  {
   "cell_type": "code",
   "execution_count": null,
   "id": "e2833e10",
   "metadata": {},
   "outputs": [],
   "source": [
    "def get_kpt(maps, img_h = 152.0, img_w = 152.0):\n",
    "        # maps (1,63,76,76)\n",
    "        maps = maps.clone().cpu().data.numpy()\n",
    "        map_6 = maps\n",
    "\n",
    "        kpts = []\n",
    "        for m in map_6[1:]:\n",
    "            h, w = np.unravel_index(m.argmax(), m.shape)\n",
    "            x = int(w * img_w / m.shape[1])\n",
    "            y = int(h * img_h / m.shape[0])\n",
    "            kpts.append([x,y])\n",
    "        return np.array(kpts)"
   ]
  },
  {
   "cell_type": "code",
   "execution_count": null,
   "id": "e6a373ac",
   "metadata": {},
   "outputs": [],
   "source": [
    "sample = 7\n",
    "limb = 0\n",
    "name = file_name[sample]\n",
    "\n",
    "img = image[sample].numpy()\n",
    "img=np.swapaxes(img,0,1)\n",
    "img=np.swapaxes(img,1,2)\n",
    "\n",
    "pred = heat6[sample].cpu().numpy()\n",
    "pred_kp = get_kpt(heat6[sample])\n",
    "\n",
    "acc = heatmap[sample].cpu().numpy()\n",
    "acc_kp = get_kpt(heatmap[sample])\n",
    "\n",
    "vis = visib[sample].cpu().numpy()\n",
    "keypoints = (kp[sample].numpy()*sungaya_dataset.std_2d)+sungaya_dataset.means_2d\n",
    "\n",
    "plt.figure()\n",
    "plt.imshow(img)\n",
    "\n",
    "plt.scatter(pred_kp[limb,0]*vis[limb], pred_kp[limb,1]*vis[limb], marker='o', s=10,  color='r')\n",
    "plt.scatter(acc_kp[limb,0]*vis[limb], acc_kp[limb,1]*vis[limb], marker='o', s=10,  color='b')\n",
    "\n",
    "plt.imshow(cv2.resize(pred[limb+1], (152,152)), alpha = .5,cmap='hot')\n",
    "# plt.imshow(cv2.resize(acc[limb+1], (152,152)), alpha = .5,cmap='hot')\n",
    "\n",
    "plt.colorbar()\n",
    "plt.title(name)\n",
    "plt.show()\n",
    "# ((abs(pred_kp- acc_kp)<np.array([1,1])).sum().item())/(28*2)"
   ]
  },
  {
   "cell_type": "code",
   "execution_count": null,
   "id": "2b10c17d",
   "metadata": {},
   "outputs": [],
   "source": [
    "# https://pytorch.org/tutorials/beginner/saving_loading_models.html\n",
    "# PATH = \"..\\models\\estimator2d_with_heatmap_mse.pt\"\n",
    "# torch.save(trained_model.state_dict(), PATH)"
   ]
  },
  {
   "cell_type": "code",
   "execution_count": null,
   "id": "e319bdc6",
   "metadata": {},
   "outputs": [],
   "source": [
    "# Display recent training loss graph\n",
    "file_path = '..\\\\results\\cpm_model_20220308-004023_train_loss.txt'\n",
    "losses = []\n",
    "with open(file_path) as file:\n",
    "    losses = [float(line.rstrip()) for line in file]\n",
    "\n",
    "epochs = list(range(1,len(losses)+1))"
   ]
  },
  {
   "cell_type": "code",
   "execution_count": null,
   "id": "e227a937",
   "metadata": {},
   "outputs": [],
   "source": [
    "plt.figure() \n",
    "plt.plot(epochs,losses)\n",
    "plt.show()\n"
   ]
  }
 ],
 "metadata": {
  "kernelspec": {
   "display_name": "Python 3 (ipykernel)",
   "language": "python",
   "name": "python3"
  },
  "language_info": {
   "codemirror_mode": {
    "name": "ipython",
    "version": 3
   },
   "file_extension": ".py",
   "mimetype": "text/x-python",
   "name": "python",
   "nbconvert_exporter": "python",
   "pygments_lexer": "ipython3",
   "version": "3.8.11"
  }
 },
 "nbformat": 4,
 "nbformat_minor": 5
}
