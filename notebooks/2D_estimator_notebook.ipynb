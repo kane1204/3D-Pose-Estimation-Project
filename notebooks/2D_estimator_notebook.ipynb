{
 "cells": [
  {
   "cell_type": "markdown",
   "id": "0c2a29bd",
   "metadata": {},
   "source": [
    "# 2D Estimator"
   ]
  },
  {
   "cell_type": "markdown",
   "id": "57cc3068",
   "metadata": {},
   "source": [
    "## Imports and Setup"
   ]
  },
  {
   "cell_type": "code",
   "execution_count": 1,
   "id": "96be697e",
   "metadata": {},
   "outputs": [
    {
     "data": {
      "text/plain": [
       "<matplotlib.pyplot._IonContext at 0x1803d176dc0>"
      ]
     },
     "execution_count": 1,
     "metadata": {},
     "output_type": "execute_result"
    }
   ],
   "source": [
    "import os\n",
    "import src.bug_dataset\n",
    "from src.cpm_model import CPM\n",
    "from src.train_cpm_network import Train_CPM_Network\n",
    "import numpy as np\n",
    "import pandas as pd\n",
    "from skimage import io\n",
    "import torch\n",
    "from torch.utils.data import DataLoader\n",
    "from torchvision import transforms\n",
    "import matplotlib.pyplot as plt\n",
    "plt.ion()   # interactive mode"
   ]
  },
  {
   "cell_type": "code",
   "execution_count": 2,
   "id": "dc82a48a",
   "metadata": {},
   "outputs": [],
   "source": [
    "# Plotting Code\n",
    "%matplotlib widget\n",
    "import matplotlib.pyplot as plt\n",
    "\n",
    "def plot_stick_bug(ax, points, vis, prediction=False):\n",
    "    limb_ranges=[[0,7],[8,14],[15,21],[22,28],[29,35],[36,42],[43,49],[53,56],[59,62]]\n",
    "    if len(points) < 62:\n",
    "        return\n",
    "    elif len(points) == 62:\n",
    "        points = np.array(points).T\n",
    "        for num in range(len(limb_ranges)):\n",
    "            visible_limb = []\n",
    "            for x in range(limb_ranges[num][0],limb_ranges[num][1]):\n",
    "                if vis[x]== 1:\n",
    "                    visible_limb.append(x) \n",
    "            if prediction:\n",
    "                line, = ax.plot(points[0][visible_limb], points[1][visible_limb], points[2][visible_limb],'--', alpha=0.7, label='Prediction', color='red')\n",
    "                ax.scatter(points[0][visible_limb], points[1][visible_limb], points[2][visible_limb], marker='X',s=10, color='red')\n",
    "            else:\n",
    "                line, = ax.plot(points[0][visible_limb], points[1][visible_limb], points[2][visible_limb], label='Actual', color='blue')\n",
    "                ax.scatter(points[0][visible_limb], points[1][visible_limb], points[2][visible_limb], marker='o',s=4, color='blue')\n",
    "        return ax, line\n",
    "\n",
    "def set_axes_equal(ax):\n",
    "    # workaround, as matplotlib's 3D plot has no option for equisised axes (10/2021)\n",
    "    x_limits = ax.get_xlim3d()\n",
    "    y_limits = ax.get_ylim3d()\n",
    "    z_limits = ax.get_zlim3d()\n",
    "\n",
    "    x_range = abs(x_limits[1] - x_limits[0])\n",
    "    x_middle = np.mean(x_limits)\n",
    "    y_range = abs(y_limits[1] - y_limits[0])\n",
    "    y_middle = np.mean(y_limits)\n",
    "    z_range = abs(z_limits[1] - z_limits[0])\n",
    "    z_middle = np.mean(z_limits)\n",
    "\n",
    "    plot_radius = 0.5*max([x_range, y_range, z_range])\n",
    "\n",
    "    ax.set_xlim3d([x_middle - plot_radius, x_middle + plot_radius])\n",
    "    ax.set_ylim3d([y_middle - plot_radius, y_middle + plot_radius])\n",
    "    ax.set_zlim3d([z_middle - plot_radius, z_middle + plot_radius])\n"
   ]
  },
  {
   "cell_type": "code",
   "execution_count": 3,
   "id": "0c44946e",
   "metadata": {},
   "outputs": [],
   "source": [
    "target_dir = \"../data/single_sungaya/\"\n",
    "out_df = pd.read_hdf(os.path.join(target_dir, \"Data_3D_Pose.hdf5\"))"
   ]
  },
  {
   "cell_type": "code",
   "execution_count": 4,
   "id": "d4a8ce47",
   "metadata": {},
   "outputs": [],
   "source": [
    "reduceKeypoints = True\n",
    "sungaya_dataset = src.bug_dataset.BugDataset(df=out_df,reduced=reduceKeypoints,\n",
    "                             root_dir=target_dir,transform=transforms.Compose([\n",
    "                                src.bug_dataset.ToTensor()\n",
    "                                   ]))"
   ]
  },
  {
   "cell_type": "code",
   "execution_count": 18,
   "id": "56744350",
   "metadata": {},
   "outputs": [
    {
     "data": {
      "application/vnd.jupyter.widget-view+json": {
       "model_id": "fd774d5081414ea68d17915765119d8b",
       "version_major": 2,
       "version_minor": 0
      },
      "text/plain": [
       "Canvas(toolbar=Toolbar(toolitems=[('Home', 'Reset original view', 'home', 'home'), ('Back', 'Back to previous …"
      ]
     },
     "metadata": {},
     "output_type": "display_data"
    }
   ],
   "source": [
    "import cv2\n",
    "sample = sungaya_dataset[154]\n",
    "name = sample['file_name']\n",
    "image = sample['image']\n",
    "img=image.numpy()\n",
    "img=np.swapaxes(img,0,1)\n",
    "img=np.swapaxes(img,1,2)\n",
    "\n",
    "name = sample['file_name']\n",
    "keypoints = sample['key_points_2D']\n",
    "\n",
    "keypoints = (sample['key_points_2D']*sungaya_dataset.std_2d)+sungaya_dataset.means_2d\n",
    "\n",
    "heatmap = sample['heatmap'].numpy()\n",
    "\n",
    "fig = plt.figure()\n",
    "ax = fig.add_subplot()\n",
    "\n",
    "ax.imshow(img.astype('uint8'))\n",
    "heat =ax.imshow(cv2.resize(heatmap[0], (152,152)), alpha = 0.3,cmap='hot')\n",
    "ax.scatter(keypoints[:,0], keypoints[:,1], marker='o', s=5,  color='b')\n",
    "\n",
    "ax.set_xlim([0,152])\n",
    "ax.set_ylim([152,0])\n",
    "ax.set_aspect('equal')\n",
    "\n",
    "plt.title(name)\n",
    "fig.colorbar(heat)\n",
    "plt.show()\n"
   ]
  },
  {
   "cell_type": "code",
   "execution_count": 19,
   "id": "02b63446",
   "metadata": {},
   "outputs": [],
   "source": [
    "train_split = 0.7\n",
    "valid_split = 0.1\n",
    "train_size = int(train_split * len(sungaya_dataset))\n",
    "valid_size = int(valid_split * len(sungaya_dataset))\n",
    "test_size = len(sungaya_dataset) - (train_size+valid_size)\n",
    "train_dataset,valid_dataset ,test_dataset = torch.utils.data.random_split(sungaya_dataset, [train_size, valid_size, test_size], generator=torch.Generator().manual_seed(42))"
   ]
  },
  {
   "cell_type": "code",
   "execution_count": 20,
   "id": "5362d1c9",
   "metadata": {},
   "outputs": [],
   "source": [
    "batch_size = 16\n",
    "\n",
    "train_dataloader = DataLoader(train_dataset, batch_size=batch_size)\n",
    "valid_dataloader = DataLoader(valid_dataset, batch_size=batch_size)\n",
    "test_dataloader = DataLoader(test_dataset, batch_size=batch_size)"
   ]
  },
  {
   "cell_type": "code",
   "execution_count": 43,
   "id": "055d9fba",
   "metadata": {},
   "outputs": [
    {
     "name": "stdout",
     "output_type": "stream",
     "text": [
      "Using cuda device\n"
     ]
    },
    {
     "data": {
      "application/vnd.jupyter.widget-view+json": {
       "model_id": "50212e79e7394be08bf0e9f25f2acfcb",
       "version_major": 2,
       "version_minor": 0
      },
      "text/plain": [
       "CPM Model Epochs:   0%|          | 0/1500 [00:00<?, ?it/s]"
      ]
     },
     "metadata": {},
     "output_type": "display_data"
    },
    {
     "name": "stdout",
     "output_type": "stream",
     "text": [
      "Epoch 001:\n"
     ]
    },
    {
     "data": {
      "application/vnd.jupyter.widget-view+json": {
       "model_id": "f06fda07af594f1f88f711cf89b9b7b9",
       "version_major": 2,
       "version_minor": 0
      },
      "text/plain": [
       "Training Step:   0%|          | 0/143 [00:00<?, ?it/s]"
      ]
     },
     "metadata": {},
     "output_type": "display_data"
    },
    {
     "name": "stdout",
     "output_type": "stream",
     "text": [
      "Finished Epoch 001: | Train Loss: 1.17625 | Val Loss: 0.00000 | Train Acc: 0.000| Val Acc: 0.000\n",
      "Epoch 002:\n"
     ]
    },
    {
     "data": {
      "application/vnd.jupyter.widget-view+json": {
       "model_id": "1e562472aee7428f985da98fc85db2b0",
       "version_major": 2,
       "version_minor": 0
      },
      "text/plain": [
       "Training Step:   0%|          | 0/143 [00:00<?, ?it/s]"
      ]
     },
     "metadata": {},
     "output_type": "display_data"
    },
    {
     "name": "stdout",
     "output_type": "stream",
     "text": [
      "Finished Epoch 002: | Train Loss: 0.84175 | Val Loss: 0.00000 | Train Acc: 0.000| Val Acc: 0.000\n",
      "Epoch 003:\n"
     ]
    },
    {
     "data": {
      "application/vnd.jupyter.widget-view+json": {
       "model_id": "65659941886944d2b7997b69d258ef7e",
       "version_major": 2,
       "version_minor": 0
      },
      "text/plain": [
       "Training Step:   0%|          | 0/143 [00:00<?, ?it/s]"
      ]
     },
     "metadata": {},
     "output_type": "display_data"
    },
    {
     "name": "stdout",
     "output_type": "stream",
     "text": [
      "Finished Epoch 003: | Train Loss: 0.68552 | Val Loss: 0.00000 | Train Acc: 0.000| Val Acc: 0.000\n",
      "Epoch 004:\n"
     ]
    },
    {
     "data": {
      "application/vnd.jupyter.widget-view+json": {
       "model_id": "cb40e83aeb39438b9a83f3b4fa8fca80",
       "version_major": 2,
       "version_minor": 0
      },
      "text/plain": [
       "Training Step:   0%|          | 0/143 [00:00<?, ?it/s]"
      ]
     },
     "metadata": {},
     "output_type": "display_data"
    },
    {
     "name": "stdout",
     "output_type": "stream",
     "text": [
      "Finished Epoch 004: | Train Loss: 0.59652 | Val Loss: 0.00000 | Train Acc: 0.000| Val Acc: 0.000\n",
      "Epoch 005:\n"
     ]
    },
    {
     "data": {
      "application/vnd.jupyter.widget-view+json": {
       "model_id": "1365f50277e5476394d35e4fa6d472d0",
       "version_major": 2,
       "version_minor": 0
      },
      "text/plain": [
       "Training Step:   0%|          | 0/143 [00:00<?, ?it/s]"
      ]
     },
     "metadata": {},
     "output_type": "display_data"
    },
    {
     "name": "stdout",
     "output_type": "stream",
     "text": [
      "Finished Epoch 005: | Train Loss: 0.53212 | Val Loss: 0.00000 | Train Acc: 0.000| Val Acc: 0.000\n",
      "Epoch 006:\n"
     ]
    },
    {
     "data": {
      "application/vnd.jupyter.widget-view+json": {
       "model_id": "b671352de3c5490ba04031b58b09e914",
       "version_major": 2,
       "version_minor": 0
      },
      "text/plain": [
       "Training Step:   0%|          | 0/143 [00:00<?, ?it/s]"
      ]
     },
     "metadata": {},
     "output_type": "display_data"
    },
    {
     "name": "stdout",
     "output_type": "stream",
     "text": [
      "Finished Epoch 006: | Train Loss: 0.48192 | Val Loss: 0.00000 | Train Acc: 0.000| Val Acc: 0.000\n",
      "Epoch 007:\n"
     ]
    },
    {
     "data": {
      "application/vnd.jupyter.widget-view+json": {
       "model_id": "360f27be641c4c6ba97870a9f1827e40",
       "version_major": 2,
       "version_minor": 0
      },
      "text/plain": [
       "Training Step:   0%|          | 0/143 [00:00<?, ?it/s]"
      ]
     },
     "metadata": {},
     "output_type": "display_data"
    },
    {
     "name": "stdout",
     "output_type": "stream",
     "text": [
      "Finished Epoch 007: | Train Loss: 0.44089 | Val Loss: 0.00000 | Train Acc: 0.000| Val Acc: 0.000\n",
      "Epoch 008:\n"
     ]
    },
    {
     "data": {
      "application/vnd.jupyter.widget-view+json": {
       "model_id": "b246d0a8e0f74ae596d728dce16243ee",
       "version_major": 2,
       "version_minor": 0
      },
      "text/plain": [
       "Training Step:   0%|          | 0/143 [00:00<?, ?it/s]"
      ]
     },
     "metadata": {},
     "output_type": "display_data"
    },
    {
     "name": "stdout",
     "output_type": "stream",
     "text": [
      "Finished Epoch 008: | Train Loss: 0.40342 | Val Loss: 0.00000 | Train Acc: 0.000| Val Acc: 0.000\n",
      "Epoch 009:\n"
     ]
    },
    {
     "data": {
      "application/vnd.jupyter.widget-view+json": {
       "model_id": "64db352011364031827c0e18f2844bbc",
       "version_major": 2,
       "version_minor": 0
      },
      "text/plain": [
       "Training Step:   0%|          | 0/143 [00:00<?, ?it/s]"
      ]
     },
     "metadata": {},
     "output_type": "display_data"
    },
    {
     "name": "stdout",
     "output_type": "stream",
     "text": [
      "Finished Epoch 009: | Train Loss: 0.37561 | Val Loss: 0.00000 | Train Acc: 0.000| Val Acc: 0.000\n",
      "Epoch 010:\n"
     ]
    },
    {
     "data": {
      "application/vnd.jupyter.widget-view+json": {
       "model_id": "f973e6db394e487aaae443d5e0762d94",
       "version_major": 2,
       "version_minor": 0
      },
      "text/plain": [
       "Training Step:   0%|          | 0/143 [00:00<?, ?it/s]"
      ]
     },
     "metadata": {},
     "output_type": "display_data"
    },
    {
     "name": "stdout",
     "output_type": "stream",
     "text": [
      "Finished Epoch 010: | Train Loss: 0.35332 | Val Loss: 0.00000 | Train Acc: 0.000| Val Acc: 0.000\n",
      "Epoch 011:\n"
     ]
    },
    {
     "data": {
      "application/vnd.jupyter.widget-view+json": {
       "model_id": "13365c9acd844928bb06747da9f35907",
       "version_major": 2,
       "version_minor": 0
      },
      "text/plain": [
       "Training Step:   0%|          | 0/143 [00:00<?, ?it/s]"
      ]
     },
     "metadata": {},
     "output_type": "display_data"
    },
    {
     "name": "stdout",
     "output_type": "stream",
     "text": [
      "Finished Epoch 011: | Train Loss: 0.33272 | Val Loss: 0.00000 | Train Acc: 0.000| Val Acc: 0.000\n",
      "Epoch 012:\n"
     ]
    },
    {
     "data": {
      "application/vnd.jupyter.widget-view+json": {
       "model_id": "dfc20f2b9e674635a3fea7280f51bc1f",
       "version_major": 2,
       "version_minor": 0
      },
      "text/plain": [
       "Training Step:   0%|          | 0/143 [00:00<?, ?it/s]"
      ]
     },
     "metadata": {},
     "output_type": "display_data"
    },
    {
     "name": "stdout",
     "output_type": "stream",
     "text": [
      "Finished Epoch 012: | Train Loss: 0.31523 | Val Loss: 0.00000 | Train Acc: 0.000| Val Acc: 0.000\n",
      "Epoch 013:\n"
     ]
    },
    {
     "data": {
      "application/vnd.jupyter.widget-view+json": {
       "model_id": "cd7280b4ad8d40a5b507509bf380dfbe",
       "version_major": 2,
       "version_minor": 0
      },
      "text/plain": [
       "Training Step:   0%|          | 0/143 [00:00<?, ?it/s]"
      ]
     },
     "metadata": {},
     "output_type": "display_data"
    },
    {
     "name": "stdout",
     "output_type": "stream",
     "text": [
      "Finished Epoch 013: | Train Loss: 0.29982 | Val Loss: 0.00000 | Train Acc: 0.000| Val Acc: 0.000\n",
      "Epoch 014:\n"
     ]
    },
    {
     "data": {
      "application/vnd.jupyter.widget-view+json": {
       "model_id": "673885980ac84b46834e6402df5b7839",
       "version_major": 2,
       "version_minor": 0
      },
      "text/plain": [
       "Training Step:   0%|          | 0/143 [00:00<?, ?it/s]"
      ]
     },
     "metadata": {},
     "output_type": "display_data"
    },
    {
     "name": "stdout",
     "output_type": "stream",
     "text": [
      "Finished Epoch 014: | Train Loss: 0.28658 | Val Loss: 0.00000 | Train Acc: 0.000| Val Acc: 0.000\n",
      "Epoch 015:\n"
     ]
    },
    {
     "data": {
      "application/vnd.jupyter.widget-view+json": {
       "model_id": "04d23e7a27264687ab522236ce8daf36",
       "version_major": 2,
       "version_minor": 0
      },
      "text/plain": [
       "Training Step:   0%|          | 0/143 [00:00<?, ?it/s]"
      ]
     },
     "metadata": {},
     "output_type": "display_data"
    },
    {
     "name": "stdout",
     "output_type": "stream",
     "text": [
      "Finished Epoch 015: | Train Loss: 0.27785 | Val Loss: 0.00000 | Train Acc: 0.000| Val Acc: 0.000\n",
      "Epoch 016:\n"
     ]
    },
    {
     "data": {
      "application/vnd.jupyter.widget-view+json": {
       "model_id": "4da9d468dde54d9dbc5ff956803c52ed",
       "version_major": 2,
       "version_minor": 0
      },
      "text/plain": [
       "Training Step:   0%|          | 0/143 [00:00<?, ?it/s]"
      ]
     },
     "metadata": {},
     "output_type": "display_data"
    },
    {
     "name": "stdout",
     "output_type": "stream",
     "text": [
      "Finished Epoch 016: | Train Loss: 0.27299 | Val Loss: 0.00000 | Train Acc: 0.000| Val Acc: 0.000\n",
      "Epoch 017:\n"
     ]
    },
    {
     "data": {
      "application/vnd.jupyter.widget-view+json": {
       "model_id": "9ecf4382f96f42c0b4fa0b71a0047baf",
       "version_major": 2,
       "version_minor": 0
      },
      "text/plain": [
       "Training Step:   0%|          | 0/143 [00:00<?, ?it/s]"
      ]
     },
     "metadata": {},
     "output_type": "display_data"
    },
    {
     "name": "stdout",
     "output_type": "stream",
     "text": [
      "Finished Epoch 017: | Train Loss: 0.27332 | Val Loss: 0.00000 | Train Acc: 0.000| Val Acc: 0.000\n",
      "Epoch 018:\n"
     ]
    },
    {
     "data": {
      "application/vnd.jupyter.widget-view+json": {
       "model_id": "9e6a7dc700bb4324b9829906c09748e1",
       "version_major": 2,
       "version_minor": 0
      },
      "text/plain": [
       "Training Step:   0%|          | 0/143 [00:00<?, ?it/s]"
      ]
     },
     "metadata": {},
     "output_type": "display_data"
    },
    {
     "name": "stdout",
     "output_type": "stream",
     "text": [
      "Finished Epoch 018: | Train Loss: 0.25134 | Val Loss: 0.00000 | Train Acc: 0.000| Val Acc: 0.000\n",
      "Epoch 019:\n"
     ]
    },
    {
     "data": {
      "application/vnd.jupyter.widget-view+json": {
       "model_id": "da269e28e9e6407091c085f7deb0e11d",
       "version_major": 2,
       "version_minor": 0
      },
      "text/plain": [
       "Training Step:   0%|          | 0/143 [00:00<?, ?it/s]"
      ]
     },
     "metadata": {},
     "output_type": "display_data"
    },
    {
     "name": "stdout",
     "output_type": "stream",
     "text": [
      "Finished Epoch 019: | Train Loss: 0.24915 | Val Loss: 0.00000 | Train Acc: 0.000| Val Acc: 0.000\n",
      "Epoch 020:\n"
     ]
    },
    {
     "data": {
      "application/vnd.jupyter.widget-view+json": {
       "model_id": "dcb3a74863094ff1a58db01719032549",
       "version_major": 2,
       "version_minor": 0
      },
      "text/plain": [
       "Training Step:   0%|          | 0/143 [00:00<?, ?it/s]"
      ]
     },
     "metadata": {},
     "output_type": "display_data"
    },
    {
     "name": "stdout",
     "output_type": "stream",
     "text": [
      "Finished Epoch 020: | Train Loss: 0.24182 | Val Loss: 0.00000 | Train Acc: 0.000| Val Acc: 0.000\n",
      "Epoch 021:\n"
     ]
    },
    {
     "data": {
      "application/vnd.jupyter.widget-view+json": {
       "model_id": "4e32324dfca24f6390319c02f58e8536",
       "version_major": 2,
       "version_minor": 0
      },
      "text/plain": [
       "Training Step:   0%|          | 0/143 [00:00<?, ?it/s]"
      ]
     },
     "metadata": {},
     "output_type": "display_data"
    },
    {
     "name": "stdout",
     "output_type": "stream",
     "text": [
      "Finished Epoch 021: | Train Loss: 0.23145 | Val Loss: 0.00000 | Train Acc: 0.000| Val Acc: 0.000\n",
      "Epoch 022:\n"
     ]
    },
    {
     "data": {
      "application/vnd.jupyter.widget-view+json": {
       "model_id": "e124fa7df5e841a7b162dbec173c5f4c",
       "version_major": 2,
       "version_minor": 0
      },
      "text/plain": [
       "Training Step:   0%|          | 0/143 [00:00<?, ?it/s]"
      ]
     },
     "metadata": {},
     "output_type": "display_data"
    },
    {
     "name": "stdout",
     "output_type": "stream",
     "text": [
      "Finished Epoch 022: | Train Loss: 0.22885 | Val Loss: 0.00000 | Train Acc: 0.000| Val Acc: 0.000\n",
      "Epoch 023:\n"
     ]
    },
    {
     "data": {
      "application/vnd.jupyter.widget-view+json": {
       "model_id": "0f1134aa15874c068df137a47e2d0200",
       "version_major": 2,
       "version_minor": 0
      },
      "text/plain": [
       "Training Step:   0%|          | 0/143 [00:00<?, ?it/s]"
      ]
     },
     "metadata": {},
     "output_type": "display_data"
    },
    {
     "name": "stdout",
     "output_type": "stream",
     "text": [
      "Finished Epoch 023: | Train Loss: 0.22519 | Val Loss: 0.00000 | Train Acc: 0.000| Val Acc: 0.000\n",
      "Epoch 024:\n"
     ]
    },
    {
     "data": {
      "application/vnd.jupyter.widget-view+json": {
       "model_id": "425c68417eb1419096be80f1ef2dcc74",
       "version_major": 2,
       "version_minor": 0
      },
      "text/plain": [
       "Training Step:   0%|          | 0/143 [00:00<?, ?it/s]"
      ]
     },
     "metadata": {},
     "output_type": "display_data"
    },
    {
     "name": "stdout",
     "output_type": "stream",
     "text": [
      "Finished Epoch 024: | Train Loss: 0.21822 | Val Loss: 0.00000 | Train Acc: 0.000| Val Acc: 0.000\n",
      "Epoch 025:\n"
     ]
    },
    {
     "data": {
      "application/vnd.jupyter.widget-view+json": {
       "model_id": "e013cae78cae462f9c6e63878aaedbc1",
       "version_major": 2,
       "version_minor": 0
      },
      "text/plain": [
       "Training Step:   0%|          | 0/143 [00:00<?, ?it/s]"
      ]
     },
     "metadata": {},
     "output_type": "display_data"
    },
    {
     "name": "stdout",
     "output_type": "stream",
     "text": [
      "Finished Epoch 025: | Train Loss: 0.21499 | Val Loss: 0.00000 | Train Acc: 0.000| Val Acc: 0.000\n",
      "Epoch 026:\n"
     ]
    },
    {
     "data": {
      "application/vnd.jupyter.widget-view+json": {
       "model_id": "d12042ea10be46c59a8b8d4cf5c46d6a",
       "version_major": 2,
       "version_minor": 0
      },
      "text/plain": [
       "Training Step:   0%|          | 0/143 [00:00<?, ?it/s]"
      ]
     },
     "metadata": {},
     "output_type": "display_data"
    },
    {
     "name": "stdout",
     "output_type": "stream",
     "text": [
      "Finished Epoch 026: | Train Loss: 0.21009 | Val Loss: 0.00000 | Train Acc: 0.000| Val Acc: 0.000\n",
      "Epoch 027:\n"
     ]
    },
    {
     "data": {
      "application/vnd.jupyter.widget-view+json": {
       "model_id": "96f0b86532f242c0b072a5d0b7233c57",
       "version_major": 2,
       "version_minor": 0
      },
      "text/plain": [
       "Training Step:   0%|          | 0/143 [00:00<?, ?it/s]"
      ]
     },
     "metadata": {},
     "output_type": "display_data"
    },
    {
     "name": "stdout",
     "output_type": "stream",
     "text": [
      "Finished Epoch 027: | Train Loss: 0.20484 | Val Loss: 0.00000 | Train Acc: 0.000| Val Acc: 0.000\n",
      "Epoch 028:\n"
     ]
    },
    {
     "data": {
      "application/vnd.jupyter.widget-view+json": {
       "model_id": "0853ae3971f94443918e1356791a1d2d",
       "version_major": 2,
       "version_minor": 0
      },
      "text/plain": [
       "Training Step:   0%|          | 0/143 [00:00<?, ?it/s]"
      ]
     },
     "metadata": {},
     "output_type": "display_data"
    },
    {
     "name": "stdout",
     "output_type": "stream",
     "text": [
      "Finished Epoch 028: | Train Loss: 0.20178 | Val Loss: 0.00000 | Train Acc: 0.000| Val Acc: 0.000\n",
      "Epoch 029:\n"
     ]
    },
    {
     "data": {
      "application/vnd.jupyter.widget-view+json": {
       "model_id": "f2bcfe687a0a4b5fbf9eda5e6a202aa7",
       "version_major": 2,
       "version_minor": 0
      },
      "text/plain": [
       "Training Step:   0%|          | 0/143 [00:00<?, ?it/s]"
      ]
     },
     "metadata": {},
     "output_type": "display_data"
    },
    {
     "name": "stdout",
     "output_type": "stream",
     "text": [
      "Finished Epoch 029: | Train Loss: 0.20471 | Val Loss: 0.00000 | Train Acc: 0.000| Val Acc: 0.000\n",
      "Epoch 030:\n"
     ]
    },
    {
     "data": {
      "application/vnd.jupyter.widget-view+json": {
       "model_id": "b31ced97e1614f4586d8fe8bf2f8f714",
       "version_major": 2,
       "version_minor": 0
      },
      "text/plain": [
       "Training Step:   0%|          | 0/143 [00:00<?, ?it/s]"
      ]
     },
     "metadata": {},
     "output_type": "display_data"
    },
    {
     "name": "stdout",
     "output_type": "stream",
     "text": [
      "Finished Epoch 030: | Train Loss: 0.20347 | Val Loss: 0.00000 | Train Acc: 0.000| Val Acc: 0.000\n",
      "Epoch 031:\n"
     ]
    },
    {
     "data": {
      "application/vnd.jupyter.widget-view+json": {
       "model_id": "82ad293d8aca44279b5a08569d1fd71b",
       "version_major": 2,
       "version_minor": 0
      },
      "text/plain": [
       "Training Step:   0%|          | 0/143 [00:00<?, ?it/s]"
      ]
     },
     "metadata": {},
     "output_type": "display_data"
    },
    {
     "name": "stdout",
     "output_type": "stream",
     "text": [
      "Finished Epoch 031: | Train Loss: 0.21602 | Val Loss: 0.00000 | Train Acc: 0.000| Val Acc: 0.000\n",
      "Epoch 032:\n"
     ]
    },
    {
     "data": {
      "application/vnd.jupyter.widget-view+json": {
       "model_id": "e93cb9516b05466d86a1fb24dde5e632",
       "version_major": 2,
       "version_minor": 0
      },
      "text/plain": [
       "Training Step:   0%|          | 0/143 [00:00<?, ?it/s]"
      ]
     },
     "metadata": {},
     "output_type": "display_data"
    },
    {
     "name": "stdout",
     "output_type": "stream",
     "text": [
      "Finished Epoch 032: | Train Loss: 0.19667 | Val Loss: 0.00000 | Train Acc: 0.000| Val Acc: 0.000\n",
      "Epoch 033:\n"
     ]
    },
    {
     "data": {
      "application/vnd.jupyter.widget-view+json": {
       "model_id": "176dc89b7b7440378d4c2107be366a9c",
       "version_major": 2,
       "version_minor": 0
      },
      "text/plain": [
       "Training Step:   0%|          | 0/143 [00:00<?, ?it/s]"
      ]
     },
     "metadata": {},
     "output_type": "display_data"
    },
    {
     "name": "stdout",
     "output_type": "stream",
     "text": [
      "Finished Epoch 033: | Train Loss: 0.19405 | Val Loss: 0.00000 | Train Acc: 0.000| Val Acc: 0.000\n",
      "Epoch 034:\n"
     ]
    },
    {
     "data": {
      "application/vnd.jupyter.widget-view+json": {
       "model_id": "947ea08b2194486eaae28b9a6ca63ef1",
       "version_major": 2,
       "version_minor": 0
      },
      "text/plain": [
       "Training Step:   0%|          | 0/143 [00:00<?, ?it/s]"
      ]
     },
     "metadata": {},
     "output_type": "display_data"
    },
    {
     "name": "stdout",
     "output_type": "stream",
     "text": [
      "Finished Epoch 034: | Train Loss: 0.18784 | Val Loss: 0.00000 | Train Acc: 0.000| Val Acc: 0.000\n",
      "Epoch 035:\n"
     ]
    },
    {
     "data": {
      "application/vnd.jupyter.widget-view+json": {
       "model_id": "796dddaf85114f71b5a4c42380449bcd",
       "version_major": 2,
       "version_minor": 0
      },
      "text/plain": [
       "Training Step:   0%|          | 0/143 [00:00<?, ?it/s]"
      ]
     },
     "metadata": {},
     "output_type": "display_data"
    },
    {
     "name": "stdout",
     "output_type": "stream",
     "text": [
      "Finished Epoch 035: | Train Loss: 0.18543 | Val Loss: 0.00000 | Train Acc: 0.000| Val Acc: 0.000\n",
      "Epoch 036:\n"
     ]
    },
    {
     "data": {
      "application/vnd.jupyter.widget-view+json": {
       "model_id": "3135ab15863d498c846cab4e41bc2334",
       "version_major": 2,
       "version_minor": 0
      },
      "text/plain": [
       "Training Step:   0%|          | 0/143 [00:00<?, ?it/s]"
      ]
     },
     "metadata": {},
     "output_type": "display_data"
    },
    {
     "name": "stdout",
     "output_type": "stream",
     "text": [
      "Finished Epoch 036: | Train Loss: 0.18513 | Val Loss: 0.00000 | Train Acc: 0.000| Val Acc: 0.000\n",
      "Epoch 037:\n"
     ]
    },
    {
     "data": {
      "application/vnd.jupyter.widget-view+json": {
       "model_id": "abde160a463a424f96f0bd1c043d164d",
       "version_major": 2,
       "version_minor": 0
      },
      "text/plain": [
       "Training Step:   0%|          | 0/143 [00:00<?, ?it/s]"
      ]
     },
     "metadata": {},
     "output_type": "display_data"
    },
    {
     "name": "stdout",
     "output_type": "stream",
     "text": [
      "Finished Epoch 037: | Train Loss: 0.18052 | Val Loss: 0.00000 | Train Acc: 0.000| Val Acc: 0.000\n",
      "Epoch 038:\n"
     ]
    },
    {
     "data": {
      "application/vnd.jupyter.widget-view+json": {
       "model_id": "219d0767f4db4e678f1c8b7f097f15e9",
       "version_major": 2,
       "version_minor": 0
      },
      "text/plain": [
       "Training Step:   0%|          | 0/143 [00:00<?, ?it/s]"
      ]
     },
     "metadata": {},
     "output_type": "display_data"
    },
    {
     "name": "stdout",
     "output_type": "stream",
     "text": [
      "Finished Epoch 038: | Train Loss: 0.17934 | Val Loss: 0.00000 | Train Acc: 0.000| Val Acc: 0.000\n",
      "Epoch 039:\n"
     ]
    },
    {
     "data": {
      "application/vnd.jupyter.widget-view+json": {
       "model_id": "0b688b8abb604bed829a635069aa742e",
       "version_major": 2,
       "version_minor": 0
      },
      "text/plain": [
       "Training Step:   0%|          | 0/143 [00:00<?, ?it/s]"
      ]
     },
     "metadata": {},
     "output_type": "display_data"
    },
    {
     "name": "stdout",
     "output_type": "stream",
     "text": [
      "Finished Epoch 039: | Train Loss: 0.17703 | Val Loss: 0.00000 | Train Acc: 0.000| Val Acc: 0.000\n",
      "Epoch 040:\n"
     ]
    },
    {
     "data": {
      "application/vnd.jupyter.widget-view+json": {
       "model_id": "2f30bef4c75f44d0851aff285c7e9f72",
       "version_major": 2,
       "version_minor": 0
      },
      "text/plain": [
       "Training Step:   0%|          | 0/143 [00:00<?, ?it/s]"
      ]
     },
     "metadata": {},
     "output_type": "display_data"
    },
    {
     "name": "stdout",
     "output_type": "stream",
     "text": [
      "Finished Epoch 040: | Train Loss: 0.17921 | Val Loss: 0.00000 | Train Acc: 0.000| Val Acc: 0.000\n",
      "Epoch 041:\n"
     ]
    },
    {
     "data": {
      "application/vnd.jupyter.widget-view+json": {
       "model_id": "31cd247d2ee34f39a72f928c5d916db1",
       "version_major": 2,
       "version_minor": 0
      },
      "text/plain": [
       "Training Step:   0%|          | 0/143 [00:00<?, ?it/s]"
      ]
     },
     "metadata": {},
     "output_type": "display_data"
    },
    {
     "name": "stdout",
     "output_type": "stream",
     "text": [
      "Finished Epoch 041: | Train Loss: 0.17683 | Val Loss: 0.00000 | Train Acc: 0.000| Val Acc: 0.000\n",
      "Epoch 042:\n"
     ]
    },
    {
     "data": {
      "application/vnd.jupyter.widget-view+json": {
       "model_id": "a228364222dd423697604d1e2ca060d9",
       "version_major": 2,
       "version_minor": 0
      },
      "text/plain": [
       "Training Step:   0%|          | 0/143 [00:00<?, ?it/s]"
      ]
     },
     "metadata": {},
     "output_type": "display_data"
    },
    {
     "name": "stdout",
     "output_type": "stream",
     "text": [
      "Finished Epoch 042: | Train Loss: 0.18242 | Val Loss: 0.00000 | Train Acc: 0.000| Val Acc: 0.000\n",
      "Epoch 043:\n"
     ]
    },
    {
     "data": {
      "application/vnd.jupyter.widget-view+json": {
       "model_id": "5fcba0bf71654e669e72a306520190af",
       "version_major": 2,
       "version_minor": 0
      },
      "text/plain": [
       "Training Step:   0%|          | 0/143 [00:00<?, ?it/s]"
      ]
     },
     "metadata": {},
     "output_type": "display_data"
    },
    {
     "name": "stdout",
     "output_type": "stream",
     "text": [
      "Finished Epoch 043: | Train Loss: 0.17219 | Val Loss: 0.00000 | Train Acc: 0.000| Val Acc: 0.000\n",
      "Epoch 044:\n"
     ]
    },
    {
     "data": {
      "application/vnd.jupyter.widget-view+json": {
       "model_id": "e1ddbf40d64e4060a6dd1912eb8c78e1",
       "version_major": 2,
       "version_minor": 0
      },
      "text/plain": [
       "Training Step:   0%|          | 0/143 [00:00<?, ?it/s]"
      ]
     },
     "metadata": {},
     "output_type": "display_data"
    },
    {
     "name": "stdout",
     "output_type": "stream",
     "text": [
      "Finished Epoch 044: | Train Loss: 0.17202 | Val Loss: 0.00000 | Train Acc: 0.000| Val Acc: 0.000\n",
      "Epoch 045:\n"
     ]
    },
    {
     "data": {
      "application/vnd.jupyter.widget-view+json": {
       "model_id": "421847a4676640fcac52fddef65bcaf4",
       "version_major": 2,
       "version_minor": 0
      },
      "text/plain": [
       "Training Step:   0%|          | 0/143 [00:00<?, ?it/s]"
      ]
     },
     "metadata": {},
     "output_type": "display_data"
    },
    {
     "name": "stdout",
     "output_type": "stream",
     "text": [
      "Finished Epoch 045: | Train Loss: 0.16691 | Val Loss: 0.00000 | Train Acc: 0.000| Val Acc: 0.000\n",
      "Epoch 046:\n"
     ]
    },
    {
     "data": {
      "application/vnd.jupyter.widget-view+json": {
       "model_id": "a5392c57be74429ead79b464606c08b4",
       "version_major": 2,
       "version_minor": 0
      },
      "text/plain": [
       "Training Step:   0%|          | 0/143 [00:00<?, ?it/s]"
      ]
     },
     "metadata": {},
     "output_type": "display_data"
    },
    {
     "name": "stdout",
     "output_type": "stream",
     "text": [
      "Finished Epoch 046: | Train Loss: 0.16517 | Val Loss: 0.00000 | Train Acc: 0.000| Val Acc: 0.000\n",
      "Epoch 047:\n"
     ]
    },
    {
     "data": {
      "application/vnd.jupyter.widget-view+json": {
       "model_id": "189fae5caeb6432ba9e950b367f3c942",
       "version_major": 2,
       "version_minor": 0
      },
      "text/plain": [
       "Training Step:   0%|          | 0/143 [00:00<?, ?it/s]"
      ]
     },
     "metadata": {},
     "output_type": "display_data"
    },
    {
     "name": "stdout",
     "output_type": "stream",
     "text": [
      "Finished Epoch 047: | Train Loss: 0.16524 | Val Loss: 0.00000 | Train Acc: 0.000| Val Acc: 0.000\n",
      "Epoch 048:\n"
     ]
    },
    {
     "data": {
      "application/vnd.jupyter.widget-view+json": {
       "model_id": "9fc7194eda4d42c28a6f92a5d046e5a4",
       "version_major": 2,
       "version_minor": 0
      },
      "text/plain": [
       "Training Step:   0%|          | 0/143 [00:00<?, ?it/s]"
      ]
     },
     "metadata": {},
     "output_type": "display_data"
    },
    {
     "name": "stdout",
     "output_type": "stream",
     "text": [
      "Finished Epoch 048: | Train Loss: 0.16381 | Val Loss: 0.00000 | Train Acc: 0.000| Val Acc: 0.000\n",
      "Epoch 049:\n"
     ]
    },
    {
     "data": {
      "application/vnd.jupyter.widget-view+json": {
       "model_id": "a48eb0dd29764f038275f7dff8a51962",
       "version_major": 2,
       "version_minor": 0
      },
      "text/plain": [
       "Training Step:   0%|          | 0/143 [00:00<?, ?it/s]"
      ]
     },
     "metadata": {},
     "output_type": "display_data"
    },
    {
     "name": "stdout",
     "output_type": "stream",
     "text": [
      "Finished Epoch 049: | Train Loss: 0.17051 | Val Loss: 0.00000 | Train Acc: 0.000| Val Acc: 0.000\n",
      "Epoch 050:\n"
     ]
    },
    {
     "data": {
      "application/vnd.jupyter.widget-view+json": {
       "model_id": "5804ee7cf65b4e8386d755b5be7ac5dd",
       "version_major": 2,
       "version_minor": 0
      },
      "text/plain": [
       "Training Step:   0%|          | 0/143 [00:00<?, ?it/s]"
      ]
     },
     "metadata": {},
     "output_type": "display_data"
    },
    {
     "name": "stdout",
     "output_type": "stream",
     "text": [
      "Finished Epoch 050: | Train Loss: 0.16547 | Val Loss: 0.00000 | Train Acc: 0.000| Val Acc: 0.000\n",
      "Epoch 051:\n"
     ]
    },
    {
     "data": {
      "application/vnd.jupyter.widget-view+json": {
       "model_id": "0d1095b00c64458aa4917afaa3a73eb6",
       "version_major": 2,
       "version_minor": 0
      },
      "text/plain": [
       "Training Step:   0%|          | 0/143 [00:00<?, ?it/s]"
      ]
     },
     "metadata": {},
     "output_type": "display_data"
    },
    {
     "name": "stdout",
     "output_type": "stream",
     "text": [
      "Finished Epoch 051: | Train Loss: 0.17146 | Val Loss: 0.00000 | Train Acc: 0.000| Val Acc: 0.000\n",
      "Epoch 052:\n"
     ]
    },
    {
     "data": {
      "application/vnd.jupyter.widget-view+json": {
       "model_id": "b9d95f7f2e4d40ef9af145328360d592",
       "version_major": 2,
       "version_minor": 0
      },
      "text/plain": [
       "Training Step:   0%|          | 0/143 [00:00<?, ?it/s]"
      ]
     },
     "metadata": {},
     "output_type": "display_data"
    },
    {
     "name": "stdout",
     "output_type": "stream",
     "text": [
      "Finished Epoch 052: | Train Loss: 0.15939 | Val Loss: 0.00000 | Train Acc: 0.000| Val Acc: 0.000\n",
      "Epoch 053:\n"
     ]
    },
    {
     "data": {
      "application/vnd.jupyter.widget-view+json": {
       "model_id": "1b8375f327654e999df02f354ff062aa",
       "version_major": 2,
       "version_minor": 0
      },
      "text/plain": [
       "Training Step:   0%|          | 0/143 [00:00<?, ?it/s]"
      ]
     },
     "metadata": {},
     "output_type": "display_data"
    },
    {
     "name": "stdout",
     "output_type": "stream",
     "text": [
      "Finished Epoch 053: | Train Loss: 0.15930 | Val Loss: 0.00000 | Train Acc: 0.000| Val Acc: 0.000\n",
      "Epoch 054:\n"
     ]
    },
    {
     "data": {
      "application/vnd.jupyter.widget-view+json": {
       "model_id": "f0275303a5814e70965ed9de55f20370",
       "version_major": 2,
       "version_minor": 0
      },
      "text/plain": [
       "Training Step:   0%|          | 0/143 [00:00<?, ?it/s]"
      ]
     },
     "metadata": {},
     "output_type": "display_data"
    },
    {
     "name": "stdout",
     "output_type": "stream",
     "text": [
      "Finished Epoch 054: | Train Loss: 0.15709 | Val Loss: 0.00000 | Train Acc: 0.000| Val Acc: 0.000\n",
      "Epoch 055:\n"
     ]
    },
    {
     "data": {
      "application/vnd.jupyter.widget-view+json": {
       "model_id": "09b11df367214c8e82430a28edb7105d",
       "version_major": 2,
       "version_minor": 0
      },
      "text/plain": [
       "Training Step:   0%|          | 0/143 [00:00<?, ?it/s]"
      ]
     },
     "metadata": {},
     "output_type": "display_data"
    },
    {
     "name": "stdout",
     "output_type": "stream",
     "text": [
      "Finished Epoch 055: | Train Loss: 0.15617 | Val Loss: 0.00000 | Train Acc: 0.000| Val Acc: 0.000\n",
      "Epoch 056:\n"
     ]
    },
    {
     "data": {
      "application/vnd.jupyter.widget-view+json": {
       "model_id": "62eb331fe25441a0b983ace28e015976",
       "version_major": 2,
       "version_minor": 0
      },
      "text/plain": [
       "Training Step:   0%|          | 0/143 [00:00<?, ?it/s]"
      ]
     },
     "metadata": {},
     "output_type": "display_data"
    },
    {
     "name": "stdout",
     "output_type": "stream",
     "text": [
      "Finished Epoch 056: | Train Loss: 0.15636 | Val Loss: 0.00000 | Train Acc: 0.000| Val Acc: 0.000\n",
      "Epoch 057:\n"
     ]
    },
    {
     "data": {
      "application/vnd.jupyter.widget-view+json": {
       "model_id": "01ec46929e11491497c8c44ed39a4cb1",
       "version_major": 2,
       "version_minor": 0
      },
      "text/plain": [
       "Training Step:   0%|          | 0/143 [00:00<?, ?it/s]"
      ]
     },
     "metadata": {},
     "output_type": "display_data"
    },
    {
     "name": "stdout",
     "output_type": "stream",
     "text": [
      "Finished Epoch 057: | Train Loss: 0.15763 | Val Loss: 0.00000 | Train Acc: 0.000| Val Acc: 0.000\n",
      "Epoch 058:\n"
     ]
    },
    {
     "data": {
      "application/vnd.jupyter.widget-view+json": {
       "model_id": "f673eebc0f34487d8bc42fab461c1f93",
       "version_major": 2,
       "version_minor": 0
      },
      "text/plain": [
       "Training Step:   0%|          | 0/143 [00:00<?, ?it/s]"
      ]
     },
     "metadata": {},
     "output_type": "display_data"
    },
    {
     "name": "stdout",
     "output_type": "stream",
     "text": [
      "Finished Epoch 058: | Train Loss: 0.17541 | Val Loss: 0.00000 | Train Acc: 0.000| Val Acc: 0.000\n",
      "Epoch 059:\n"
     ]
    },
    {
     "data": {
      "application/vnd.jupyter.widget-view+json": {
       "model_id": "41e14eca07b947e58674ebebe64cad99",
       "version_major": 2,
       "version_minor": 0
      },
      "text/plain": [
       "Training Step:   0%|          | 0/143 [00:00<?, ?it/s]"
      ]
     },
     "metadata": {},
     "output_type": "display_data"
    },
    {
     "name": "stdout",
     "output_type": "stream",
     "text": [
      "Finished Epoch 059: | Train Loss: 0.15683 | Val Loss: 0.00000 | Train Acc: 0.000| Val Acc: 0.000\n",
      "Epoch 060:\n"
     ]
    },
    {
     "data": {
      "application/vnd.jupyter.widget-view+json": {
       "model_id": "c999b9bdd4fe4deca7dbc72b94a1cfac",
       "version_major": 2,
       "version_minor": 0
      },
      "text/plain": [
       "Training Step:   0%|          | 0/143 [00:00<?, ?it/s]"
      ]
     },
     "metadata": {},
     "output_type": "display_data"
    },
    {
     "name": "stdout",
     "output_type": "stream",
     "text": [
      "Finished Epoch 060: | Train Loss: 0.15580 | Val Loss: 0.00000 | Train Acc: 0.000| Val Acc: 0.000\n",
      "Epoch 061:\n"
     ]
    },
    {
     "data": {
      "application/vnd.jupyter.widget-view+json": {
       "model_id": "7918225df11e4a77b19fe60fa3eb3181",
       "version_major": 2,
       "version_minor": 0
      },
      "text/plain": [
       "Training Step:   0%|          | 0/143 [00:00<?, ?it/s]"
      ]
     },
     "metadata": {},
     "output_type": "display_data"
    },
    {
     "name": "stdout",
     "output_type": "stream",
     "text": [
      "Finished Epoch 061: | Train Loss: 0.15348 | Val Loss: 0.00000 | Train Acc: 0.000| Val Acc: 0.000\n",
      "Epoch 062:\n"
     ]
    },
    {
     "data": {
      "application/vnd.jupyter.widget-view+json": {
       "model_id": "b189a050c3424c96a3c759aefb15e7e9",
       "version_major": 2,
       "version_minor": 0
      },
      "text/plain": [
       "Training Step:   0%|          | 0/143 [00:00<?, ?it/s]"
      ]
     },
     "metadata": {},
     "output_type": "display_data"
    },
    {
     "name": "stdout",
     "output_type": "stream",
     "text": [
      "Finished Epoch 062: | Train Loss: 0.15070 | Val Loss: 0.00000 | Train Acc: 0.000| Val Acc: 0.000\n",
      "Epoch 063:\n"
     ]
    },
    {
     "data": {
      "application/vnd.jupyter.widget-view+json": {
       "model_id": "23e89fee73db40a88accd61eec74324b",
       "version_major": 2,
       "version_minor": 0
      },
      "text/plain": [
       "Training Step:   0%|          | 0/143 [00:00<?, ?it/s]"
      ]
     },
     "metadata": {},
     "output_type": "display_data"
    },
    {
     "name": "stdout",
     "output_type": "stream",
     "text": [
      "Finished Epoch 063: | Train Loss: 0.15184 | Val Loss: 0.00000 | Train Acc: 0.000| Val Acc: 0.000\n",
      "Epoch 064:\n"
     ]
    },
    {
     "data": {
      "application/vnd.jupyter.widget-view+json": {
       "model_id": "a913d8b625554767b70ad07cbbc1e8fb",
       "version_major": 2,
       "version_minor": 0
      },
      "text/plain": [
       "Training Step:   0%|          | 0/143 [00:00<?, ?it/s]"
      ]
     },
     "metadata": {},
     "output_type": "display_data"
    },
    {
     "name": "stdout",
     "output_type": "stream",
     "text": [
      "Finished Epoch 064: | Train Loss: 0.15040 | Val Loss: 0.00000 | Train Acc: 0.000| Val Acc: 0.000\n",
      "Epoch 065:\n"
     ]
    },
    {
     "data": {
      "application/vnd.jupyter.widget-view+json": {
       "model_id": "4cc9ab19ee2f42bcbee8b1e530675979",
       "version_major": 2,
       "version_minor": 0
      },
      "text/plain": [
       "Training Step:   0%|          | 0/143 [00:00<?, ?it/s]"
      ]
     },
     "metadata": {},
     "output_type": "display_data"
    },
    {
     "name": "stdout",
     "output_type": "stream",
     "text": [
      "Finished Epoch 065: | Train Loss: 0.15057 | Val Loss: 0.00000 | Train Acc: 0.000| Val Acc: 0.000\n",
      "Epoch 066:\n"
     ]
    },
    {
     "data": {
      "application/vnd.jupyter.widget-view+json": {
       "model_id": "386f8e5c33654fb5ba0c16c78fa284a9",
       "version_major": 2,
       "version_minor": 0
      },
      "text/plain": [
       "Training Step:   0%|          | 0/143 [00:00<?, ?it/s]"
      ]
     },
     "metadata": {},
     "output_type": "display_data"
    },
    {
     "name": "stdout",
     "output_type": "stream",
     "text": [
      "Finished Epoch 066: | Train Loss: 0.15017 | Val Loss: 0.00000 | Train Acc: 0.000| Val Acc: 0.000\n",
      "Epoch 067:\n"
     ]
    },
    {
     "data": {
      "application/vnd.jupyter.widget-view+json": {
       "model_id": "68fa781ee7c4498fb50ed070a0803814",
       "version_major": 2,
       "version_minor": 0
      },
      "text/plain": [
       "Training Step:   0%|          | 0/143 [00:00<?, ?it/s]"
      ]
     },
     "metadata": {},
     "output_type": "display_data"
    },
    {
     "name": "stdout",
     "output_type": "stream",
     "text": [
      "Finished Epoch 067: | Train Loss: 0.15981 | Val Loss: 0.00000 | Train Acc: 0.000| Val Acc: 0.000\n",
      "Epoch 068:\n"
     ]
    },
    {
     "data": {
      "application/vnd.jupyter.widget-view+json": {
       "model_id": "fadd6d71a50b4d0c92cb72fd167148a7",
       "version_major": 2,
       "version_minor": 0
      },
      "text/plain": [
       "Training Step:   0%|          | 0/143 [00:00<?, ?it/s]"
      ]
     },
     "metadata": {},
     "output_type": "display_data"
    },
    {
     "name": "stdout",
     "output_type": "stream",
     "text": [
      "Finished Epoch 068: | Train Loss: 0.14950 | Val Loss: 0.00000 | Train Acc: 0.000| Val Acc: 0.000\n",
      "Epoch 069:\n"
     ]
    },
    {
     "data": {
      "application/vnd.jupyter.widget-view+json": {
       "model_id": "0ed91af447b14a95b7dc8e4707faa522",
       "version_major": 2,
       "version_minor": 0
      },
      "text/plain": [
       "Training Step:   0%|          | 0/143 [00:00<?, ?it/s]"
      ]
     },
     "metadata": {},
     "output_type": "display_data"
    },
    {
     "name": "stdout",
     "output_type": "stream",
     "text": [
      "Finished Epoch 069: | Train Loss: 0.14419 | Val Loss: 0.00000 | Train Acc: 0.000| Val Acc: 0.000\n",
      "Epoch 070:\n"
     ]
    },
    {
     "data": {
      "application/vnd.jupyter.widget-view+json": {
       "model_id": "814565a27ade4598bf6d57c2700eca4d",
       "version_major": 2,
       "version_minor": 0
      },
      "text/plain": [
       "Training Step:   0%|          | 0/143 [00:00<?, ?it/s]"
      ]
     },
     "metadata": {},
     "output_type": "display_data"
    },
    {
     "name": "stdout",
     "output_type": "stream",
     "text": [
      "Finished Epoch 070: | Train Loss: 0.14414 | Val Loss: 0.00000 | Train Acc: 0.000| Val Acc: 0.000\n",
      "Epoch 071:\n"
     ]
    },
    {
     "data": {
      "application/vnd.jupyter.widget-view+json": {
       "model_id": "4311418edc78437aac682bed7c852d08",
       "version_major": 2,
       "version_minor": 0
      },
      "text/plain": [
       "Training Step:   0%|          | 0/143 [00:00<?, ?it/s]"
      ]
     },
     "metadata": {},
     "output_type": "display_data"
    },
    {
     "name": "stdout",
     "output_type": "stream",
     "text": [
      "Finished Epoch 071: | Train Loss: 0.14418 | Val Loss: 0.00000 | Train Acc: 0.000| Val Acc: 0.000\n",
      "Epoch 072:\n"
     ]
    },
    {
     "data": {
      "application/vnd.jupyter.widget-view+json": {
       "model_id": "7fdc1f3feeb245c3b334a56e62746344",
       "version_major": 2,
       "version_minor": 0
      },
      "text/plain": [
       "Training Step:   0%|          | 0/143 [00:00<?, ?it/s]"
      ]
     },
     "metadata": {},
     "output_type": "display_data"
    },
    {
     "name": "stdout",
     "output_type": "stream",
     "text": [
      "Finished Epoch 072: | Train Loss: 0.14668 | Val Loss: 0.00000 | Train Acc: 0.000| Val Acc: 0.000\n",
      "Epoch 073:\n"
     ]
    },
    {
     "data": {
      "application/vnd.jupyter.widget-view+json": {
       "model_id": "af04395499ac4382a1496869dd8d2c81",
       "version_major": 2,
       "version_minor": 0
      },
      "text/plain": [
       "Training Step:   0%|          | 0/143 [00:00<?, ?it/s]"
      ]
     },
     "metadata": {},
     "output_type": "display_data"
    },
    {
     "name": "stdout",
     "output_type": "stream",
     "text": [
      "Finished Epoch 073: | Train Loss: 0.16216 | Val Loss: 0.00000 | Train Acc: 0.000| Val Acc: 0.000\n",
      "Epoch 074:\n"
     ]
    },
    {
     "data": {
      "application/vnd.jupyter.widget-view+json": {
       "model_id": "ecafb0d757864a3ca8ace49c144f52cd",
       "version_major": 2,
       "version_minor": 0
      },
      "text/plain": [
       "Training Step:   0%|          | 0/143 [00:00<?, ?it/s]"
      ]
     },
     "metadata": {},
     "output_type": "display_data"
    },
    {
     "name": "stdout",
     "output_type": "stream",
     "text": [
      "Finished Epoch 074: | Train Loss: 0.14701 | Val Loss: 0.00000 | Train Acc: 0.000| Val Acc: 0.000\n",
      "Epoch 075:\n"
     ]
    },
    {
     "data": {
      "application/vnd.jupyter.widget-view+json": {
       "model_id": "024922622b134b719a8dfa5f578ebcdb",
       "version_major": 2,
       "version_minor": 0
      },
      "text/plain": [
       "Training Step:   0%|          | 0/143 [00:00<?, ?it/s]"
      ]
     },
     "metadata": {},
     "output_type": "display_data"
    },
    {
     "name": "stdout",
     "output_type": "stream",
     "text": [
      "Finished Epoch 075: | Train Loss: 0.14919 | Val Loss: 0.00000 | Train Acc: 0.000| Val Acc: 0.000\n",
      "Epoch 076:\n"
     ]
    },
    {
     "data": {
      "application/vnd.jupyter.widget-view+json": {
       "model_id": "6d35946691044ed7bcd8289b78cb21b9",
       "version_major": 2,
       "version_minor": 0
      },
      "text/plain": [
       "Training Step:   0%|          | 0/143 [00:00<?, ?it/s]"
      ]
     },
     "metadata": {},
     "output_type": "display_data"
    },
    {
     "name": "stdout",
     "output_type": "stream",
     "text": [
      "Finished Epoch 076: | Train Loss: 0.14300 | Val Loss: 0.00000 | Train Acc: 0.000| Val Acc: 0.000\n",
      "Epoch 077:\n"
     ]
    },
    {
     "data": {
      "application/vnd.jupyter.widget-view+json": {
       "model_id": "6469334d62c6472ba687a0e377a57767",
       "version_major": 2,
       "version_minor": 0
      },
      "text/plain": [
       "Training Step:   0%|          | 0/143 [00:00<?, ?it/s]"
      ]
     },
     "metadata": {},
     "output_type": "display_data"
    },
    {
     "name": "stdout",
     "output_type": "stream",
     "text": [
      "Finished Epoch 077: | Train Loss: 0.14197 | Val Loss: 0.00000 | Train Acc: 0.000| Val Acc: 0.000\n",
      "Epoch 078:\n"
     ]
    },
    {
     "data": {
      "application/vnd.jupyter.widget-view+json": {
       "model_id": "ed202511f79940f09b72379f06b0e941",
       "version_major": 2,
       "version_minor": 0
      },
      "text/plain": [
       "Training Step:   0%|          | 0/143 [00:00<?, ?it/s]"
      ]
     },
     "metadata": {},
     "output_type": "display_data"
    },
    {
     "name": "stdout",
     "output_type": "stream",
     "text": [
      "Finished Epoch 078: | Train Loss: 0.14070 | Val Loss: 0.00000 | Train Acc: 0.000| Val Acc: 0.000\n",
      "Epoch 079:\n"
     ]
    },
    {
     "data": {
      "application/vnd.jupyter.widget-view+json": {
       "model_id": "fcbf04976c8d4082a3ebd4d3735ea3c3",
       "version_major": 2,
       "version_minor": 0
      },
      "text/plain": [
       "Training Step:   0%|          | 0/143 [00:00<?, ?it/s]"
      ]
     },
     "metadata": {},
     "output_type": "display_data"
    },
    {
     "name": "stdout",
     "output_type": "stream",
     "text": [
      "Finished Epoch 079: | Train Loss: 0.13907 | Val Loss: 0.00000 | Train Acc: 0.000| Val Acc: 0.000\n",
      "Epoch 080:\n"
     ]
    },
    {
     "data": {
      "application/vnd.jupyter.widget-view+json": {
       "model_id": "216ffba7f20942978da37419e20d1680",
       "version_major": 2,
       "version_minor": 0
      },
      "text/plain": [
       "Training Step:   0%|          | 0/143 [00:00<?, ?it/s]"
      ]
     },
     "metadata": {},
     "output_type": "display_data"
    },
    {
     "name": "stdout",
     "output_type": "stream",
     "text": [
      "Finished Epoch 080: | Train Loss: 0.14226 | Val Loss: 0.00000 | Train Acc: 0.000| Val Acc: 0.000\n",
      "Epoch 081:\n"
     ]
    },
    {
     "data": {
      "application/vnd.jupyter.widget-view+json": {
       "model_id": "025b098380dd487aa55d5cf51962e78d",
       "version_major": 2,
       "version_minor": 0
      },
      "text/plain": [
       "Training Step:   0%|          | 0/143 [00:00<?, ?it/s]"
      ]
     },
     "metadata": {},
     "output_type": "display_data"
    },
    {
     "name": "stdout",
     "output_type": "stream",
     "text": [
      "Finished Epoch 081: | Train Loss: 0.13833 | Val Loss: 0.00000 | Train Acc: 0.000| Val Acc: 0.000\n",
      "Epoch 082:\n"
     ]
    },
    {
     "data": {
      "application/vnd.jupyter.widget-view+json": {
       "model_id": "b0f988cc40504a87bcf6fe9670760cb3",
       "version_major": 2,
       "version_minor": 0
      },
      "text/plain": [
       "Training Step:   0%|          | 0/143 [00:00<?, ?it/s]"
      ]
     },
     "metadata": {},
     "output_type": "display_data"
    },
    {
     "name": "stdout",
     "output_type": "stream",
     "text": [
      "Finished Epoch 082: | Train Loss: 0.14112 | Val Loss: 0.00000 | Train Acc: 0.000| Val Acc: 0.000\n",
      "Epoch 083:\n"
     ]
    },
    {
     "data": {
      "application/vnd.jupyter.widget-view+json": {
       "model_id": "5da50e51c46c4dbea141a1a7bc0cd8fd",
       "version_major": 2,
       "version_minor": 0
      },
      "text/plain": [
       "Training Step:   0%|          | 0/143 [00:00<?, ?it/s]"
      ]
     },
     "metadata": {},
     "output_type": "display_data"
    },
    {
     "name": "stdout",
     "output_type": "stream",
     "text": [
      "Finished Epoch 083: | Train Loss: 0.13718 | Val Loss: 0.00000 | Train Acc: 0.000| Val Acc: 0.000\n",
      "Epoch 084:\n"
     ]
    },
    {
     "data": {
      "application/vnd.jupyter.widget-view+json": {
       "model_id": "40dbb01e4eca4299a61d8d8a5327b699",
       "version_major": 2,
       "version_minor": 0
      },
      "text/plain": [
       "Training Step:   0%|          | 0/143 [00:00<?, ?it/s]"
      ]
     },
     "metadata": {},
     "output_type": "display_data"
    },
    {
     "name": "stdout",
     "output_type": "stream",
     "text": [
      "Finished Epoch 084: | Train Loss: 0.14218 | Val Loss: 0.00000 | Train Acc: 0.000| Val Acc: 0.000\n",
      "Epoch 085:\n"
     ]
    },
    {
     "data": {
      "application/vnd.jupyter.widget-view+json": {
       "model_id": "c03e514c2d14443794f3bf3bde08c235",
       "version_major": 2,
       "version_minor": 0
      },
      "text/plain": [
       "Training Step:   0%|          | 0/143 [00:00<?, ?it/s]"
      ]
     },
     "metadata": {},
     "output_type": "display_data"
    },
    {
     "name": "stdout",
     "output_type": "stream",
     "text": [
      "Finished Epoch 085: | Train Loss: 0.13493 | Val Loss: 0.00000 | Train Acc: 0.000| Val Acc: 0.000\n",
      "Epoch 086:\n"
     ]
    },
    {
     "data": {
      "application/vnd.jupyter.widget-view+json": {
       "model_id": "7fc8ca742aeb4c2c8afe4b3dd9e47543",
       "version_major": 2,
       "version_minor": 0
      },
      "text/plain": [
       "Training Step:   0%|          | 0/143 [00:00<?, ?it/s]"
      ]
     },
     "metadata": {},
     "output_type": "display_data"
    },
    {
     "name": "stdout",
     "output_type": "stream",
     "text": [
      "Finished Epoch 086: | Train Loss: 0.13411 | Val Loss: 0.00000 | Train Acc: 0.000| Val Acc: 0.000\n",
      "Epoch 087:\n"
     ]
    },
    {
     "data": {
      "application/vnd.jupyter.widget-view+json": {
       "model_id": "bbd37563afda4264842ad6f05b3ecab2",
       "version_major": 2,
       "version_minor": 0
      },
      "text/plain": [
       "Training Step:   0%|          | 0/143 [00:00<?, ?it/s]"
      ]
     },
     "metadata": {},
     "output_type": "display_data"
    },
    {
     "name": "stdout",
     "output_type": "stream",
     "text": [
      "Finished Epoch 087: | Train Loss: 0.13266 | Val Loss: 0.00000 | Train Acc: 0.000| Val Acc: 0.000\n",
      "Epoch 088:\n"
     ]
    },
    {
     "data": {
      "application/vnd.jupyter.widget-view+json": {
       "model_id": "3753809da68046e08d8e3451fca31c1f",
       "version_major": 2,
       "version_minor": 0
      },
      "text/plain": [
       "Training Step:   0%|          | 0/143 [00:00<?, ?it/s]"
      ]
     },
     "metadata": {},
     "output_type": "display_data"
    },
    {
     "name": "stdout",
     "output_type": "stream",
     "text": [
      "Finished Epoch 088: | Train Loss: 0.13752 | Val Loss: 0.00000 | Train Acc: 0.000| Val Acc: 0.000\n",
      "Epoch 089:\n"
     ]
    },
    {
     "data": {
      "application/vnd.jupyter.widget-view+json": {
       "model_id": "40cbb1b608c6484cb8214c4588892bfd",
       "version_major": 2,
       "version_minor": 0
      },
      "text/plain": [
       "Training Step:   0%|          | 0/143 [00:00<?, ?it/s]"
      ]
     },
     "metadata": {},
     "output_type": "display_data"
    },
    {
     "name": "stdout",
     "output_type": "stream",
     "text": [
      "Finished Epoch 089: | Train Loss: 0.13514 | Val Loss: 0.00000 | Train Acc: 0.000| Val Acc: 0.000\n",
      "Epoch 090:\n"
     ]
    },
    {
     "data": {
      "application/vnd.jupyter.widget-view+json": {
       "model_id": "9c8bc1d7a7a540e5ba56fe4a74eb928b",
       "version_major": 2,
       "version_minor": 0
      },
      "text/plain": [
       "Training Step:   0%|          | 0/143 [00:00<?, ?it/s]"
      ]
     },
     "metadata": {},
     "output_type": "display_data"
    },
    {
     "name": "stdout",
     "output_type": "stream",
     "text": [
      "Finished Epoch 090: | Train Loss: 0.14537 | Val Loss: 0.00000 | Train Acc: 0.000| Val Acc: 0.000\n",
      "Epoch 091:\n"
     ]
    },
    {
     "data": {
      "application/vnd.jupyter.widget-view+json": {
       "model_id": "fdc96059358c49c59c6b301bb9f025a5",
       "version_major": 2,
       "version_minor": 0
      },
      "text/plain": [
       "Training Step:   0%|          | 0/143 [00:00<?, ?it/s]"
      ]
     },
     "metadata": {},
     "output_type": "display_data"
    },
    {
     "name": "stdout",
     "output_type": "stream",
     "text": [
      "Finished Epoch 091: | Train Loss: 0.14126 | Val Loss: 0.00000 | Train Acc: 0.000| Val Acc: 0.000\n",
      "Epoch 092:\n"
     ]
    },
    {
     "data": {
      "application/vnd.jupyter.widget-view+json": {
       "model_id": "8757d41f6fc343349ba1f7189bae8d51",
       "version_major": 2,
       "version_minor": 0
      },
      "text/plain": [
       "Training Step:   0%|          | 0/143 [00:00<?, ?it/s]"
      ]
     },
     "metadata": {},
     "output_type": "display_data"
    },
    {
     "name": "stdout",
     "output_type": "stream",
     "text": [
      "Finished Epoch 092: | Train Loss: 0.16087 | Val Loss: 0.00000 | Train Acc: 0.000| Val Acc: 0.000\n",
      "Epoch 093:\n"
     ]
    },
    {
     "data": {
      "application/vnd.jupyter.widget-view+json": {
       "model_id": "876ed269a62b425d8c4819922cf7f485",
       "version_major": 2,
       "version_minor": 0
      },
      "text/plain": [
       "Training Step:   0%|          | 0/143 [00:00<?, ?it/s]"
      ]
     },
     "metadata": {},
     "output_type": "display_data"
    },
    {
     "name": "stdout",
     "output_type": "stream",
     "text": [
      "Finished Epoch 093: | Train Loss: 0.14397 | Val Loss: 0.00000 | Train Acc: 0.000| Val Acc: 0.000\n",
      "Epoch 094:\n"
     ]
    },
    {
     "data": {
      "application/vnd.jupyter.widget-view+json": {
       "model_id": "071b8a043422430d97f045748397a906",
       "version_major": 2,
       "version_minor": 0
      },
      "text/plain": [
       "Training Step:   0%|          | 0/143 [00:00<?, ?it/s]"
      ]
     },
     "metadata": {},
     "output_type": "display_data"
    },
    {
     "name": "stdout",
     "output_type": "stream",
     "text": [
      "Finished Epoch 094: | Train Loss: 0.14152 | Val Loss: 0.00000 | Train Acc: 0.000| Val Acc: 0.000\n",
      "Epoch 095:\n"
     ]
    },
    {
     "data": {
      "application/vnd.jupyter.widget-view+json": {
       "model_id": "b1da405ebbb0487482db93eec1da070e",
       "version_major": 2,
       "version_minor": 0
      },
      "text/plain": [
       "Training Step:   0%|          | 0/143 [00:00<?, ?it/s]"
      ]
     },
     "metadata": {},
     "output_type": "display_data"
    },
    {
     "name": "stdout",
     "output_type": "stream",
     "text": [
      "Finished Epoch 095: | Train Loss: 0.13517 | Val Loss: 0.00000 | Train Acc: 0.000| Val Acc: 0.000\n",
      "Epoch 096:\n"
     ]
    },
    {
     "data": {
      "application/vnd.jupyter.widget-view+json": {
       "model_id": "152fd78add3542979d6752f7b6fde1c8",
       "version_major": 2,
       "version_minor": 0
      },
      "text/plain": [
       "Training Step:   0%|          | 0/143 [00:00<?, ?it/s]"
      ]
     },
     "metadata": {},
     "output_type": "display_data"
    },
    {
     "name": "stdout",
     "output_type": "stream",
     "text": [
      "Finished Epoch 096: | Train Loss: 0.13189 | Val Loss: 0.00000 | Train Acc: 0.000| Val Acc: 0.000\n",
      "Epoch 097:\n"
     ]
    },
    {
     "data": {
      "application/vnd.jupyter.widget-view+json": {
       "model_id": "e6d56a35bba740eeb49576745931ec24",
       "version_major": 2,
       "version_minor": 0
      },
      "text/plain": [
       "Training Step:   0%|          | 0/143 [00:00<?, ?it/s]"
      ]
     },
     "metadata": {},
     "output_type": "display_data"
    },
    {
     "name": "stdout",
     "output_type": "stream",
     "text": [
      "Finished Epoch 097: | Train Loss: 0.13013 | Val Loss: 0.00000 | Train Acc: 0.000| Val Acc: 0.000\n",
      "Epoch 098:\n"
     ]
    },
    {
     "data": {
      "application/vnd.jupyter.widget-view+json": {
       "model_id": "4cff90a6a09f4d1bb0d27b10f982a578",
       "version_major": 2,
       "version_minor": 0
      },
      "text/plain": [
       "Training Step:   0%|          | 0/143 [00:00<?, ?it/s]"
      ]
     },
     "metadata": {},
     "output_type": "display_data"
    },
    {
     "name": "stdout",
     "output_type": "stream",
     "text": [
      "Finished Epoch 098: | Train Loss: 0.12834 | Val Loss: 0.00000 | Train Acc: 0.000| Val Acc: 0.000\n",
      "Epoch 099:\n"
     ]
    },
    {
     "data": {
      "application/vnd.jupyter.widget-view+json": {
       "model_id": "429fb733faf6489086b52deab42bdcbf",
       "version_major": 2,
       "version_minor": 0
      },
      "text/plain": [
       "Training Step:   0%|          | 0/143 [00:00<?, ?it/s]"
      ]
     },
     "metadata": {},
     "output_type": "display_data"
    },
    {
     "name": "stdout",
     "output_type": "stream",
     "text": [
      "Finished Epoch 099: | Train Loss: 0.12769 | Val Loss: 0.00000 | Train Acc: 0.000| Val Acc: 0.000\n",
      "Epoch 100:\n"
     ]
    },
    {
     "data": {
      "application/vnd.jupyter.widget-view+json": {
       "model_id": "7508fa753477468cb4793e7f7c6152a1",
       "version_major": 2,
       "version_minor": 0
      },
      "text/plain": [
       "Training Step:   0%|          | 0/143 [00:00<?, ?it/s]"
      ]
     },
     "metadata": {},
     "output_type": "display_data"
    },
    {
     "name": "stdout",
     "output_type": "stream",
     "text": [
      "Finished Epoch 100: | Train Loss: 0.12964 | Val Loss: 0.00000 | Train Acc: 0.000| Val Acc: 0.000\n",
      "Epoch 101:\n"
     ]
    },
    {
     "data": {
      "application/vnd.jupyter.widget-view+json": {
       "model_id": "b4205d7a8d874bd78ee9be999b10859b",
       "version_major": 2,
       "version_minor": 0
      },
      "text/plain": [
       "Training Step:   0%|          | 0/143 [00:00<?, ?it/s]"
      ]
     },
     "metadata": {},
     "output_type": "display_data"
    },
    {
     "name": "stdout",
     "output_type": "stream",
     "text": [
      "Finished Epoch 101: | Train Loss: 0.14962 | Val Loss: 0.00000 | Train Acc: 0.000| Val Acc: 0.000\n",
      "Epoch 102:\n"
     ]
    },
    {
     "data": {
      "application/vnd.jupyter.widget-view+json": {
       "model_id": "2181d9c953424754b22741527beadcec",
       "version_major": 2,
       "version_minor": 0
      },
      "text/plain": [
       "Training Step:   0%|          | 0/143 [00:00<?, ?it/s]"
      ]
     },
     "metadata": {},
     "output_type": "display_data"
    },
    {
     "name": "stdout",
     "output_type": "stream",
     "text": [
      "Finished Epoch 102: | Train Loss: 0.13750 | Val Loss: 0.00000 | Train Acc: 0.000| Val Acc: 0.000\n",
      "Epoch 103:\n"
     ]
    },
    {
     "data": {
      "application/vnd.jupyter.widget-view+json": {
       "model_id": "be8cd526b3cb425e9615058eb89805ad",
       "version_major": 2,
       "version_minor": 0
      },
      "text/plain": [
       "Training Step:   0%|          | 0/143 [00:00<?, ?it/s]"
      ]
     },
     "metadata": {},
     "output_type": "display_data"
    },
    {
     "name": "stdout",
     "output_type": "stream",
     "text": [
      "Finished Epoch 103: | Train Loss: 0.13898 | Val Loss: 0.00000 | Train Acc: 0.000| Val Acc: 0.000\n",
      "Epoch 104:\n"
     ]
    },
    {
     "data": {
      "application/vnd.jupyter.widget-view+json": {
       "model_id": "99395a7ce8034fb5951c143f83d03634",
       "version_major": 2,
       "version_minor": 0
      },
      "text/plain": [
       "Training Step:   0%|          | 0/143 [00:00<?, ?it/s]"
      ]
     },
     "metadata": {},
     "output_type": "display_data"
    },
    {
     "name": "stdout",
     "output_type": "stream",
     "text": [
      "Finished Epoch 104: | Train Loss: 0.12885 | Val Loss: 0.00000 | Train Acc: 0.000| Val Acc: 0.000\n",
      "Epoch 105:\n"
     ]
    },
    {
     "data": {
      "application/vnd.jupyter.widget-view+json": {
       "model_id": "da89e8695611458fbf77b5cd0ad050d2",
       "version_major": 2,
       "version_minor": 0
      },
      "text/plain": [
       "Training Step:   0%|          | 0/143 [00:00<?, ?it/s]"
      ]
     },
     "metadata": {},
     "output_type": "display_data"
    },
    {
     "name": "stdout",
     "output_type": "stream",
     "text": [
      "Finished Epoch 105: | Train Loss: 0.12765 | Val Loss: 0.00000 | Train Acc: 0.000| Val Acc: 0.000\n",
      "Epoch 106:\n"
     ]
    },
    {
     "data": {
      "application/vnd.jupyter.widget-view+json": {
       "model_id": "50bfb197aebe4402aa0800a5b6dcd116",
       "version_major": 2,
       "version_minor": 0
      },
      "text/plain": [
       "Training Step:   0%|          | 0/143 [00:00<?, ?it/s]"
      ]
     },
     "metadata": {},
     "output_type": "display_data"
    },
    {
     "name": "stdout",
     "output_type": "stream",
     "text": [
      "Finished Epoch 106: | Train Loss: 0.12597 | Val Loss: 0.00000 | Train Acc: 0.000| Val Acc: 0.000\n",
      "Epoch 107:\n"
     ]
    },
    {
     "data": {
      "application/vnd.jupyter.widget-view+json": {
       "model_id": "21dee5b193f540db81879642ddca702e",
       "version_major": 2,
       "version_minor": 0
      },
      "text/plain": [
       "Training Step:   0%|          | 0/143 [00:00<?, ?it/s]"
      ]
     },
     "metadata": {},
     "output_type": "display_data"
    },
    {
     "name": "stdout",
     "output_type": "stream",
     "text": [
      "Finished Epoch 107: | Train Loss: 0.12696 | Val Loss: 0.00000 | Train Acc: 0.000| Val Acc: 0.000\n",
      "Epoch 108:\n"
     ]
    },
    {
     "data": {
      "application/vnd.jupyter.widget-view+json": {
       "model_id": "fa0a0adeaf034dfb9b6484109c215566",
       "version_major": 2,
       "version_minor": 0
      },
      "text/plain": [
       "Training Step:   0%|          | 0/143 [00:00<?, ?it/s]"
      ]
     },
     "metadata": {},
     "output_type": "display_data"
    },
    {
     "name": "stdout",
     "output_type": "stream",
     "text": [
      "Finished Epoch 108: | Train Loss: 0.12816 | Val Loss: 0.00000 | Train Acc: 0.000| Val Acc: 0.000\n",
      "Epoch 109:\n"
     ]
    },
    {
     "data": {
      "application/vnd.jupyter.widget-view+json": {
       "model_id": "f3164e7d84d74dbd8bf84acf5e8e8ffb",
       "version_major": 2,
       "version_minor": 0
      },
      "text/plain": [
       "Training Step:   0%|          | 0/143 [00:00<?, ?it/s]"
      ]
     },
     "metadata": {},
     "output_type": "display_data"
    },
    {
     "name": "stdout",
     "output_type": "stream",
     "text": [
      "Finished Epoch 109: | Train Loss: 0.14890 | Val Loss: 0.00000 | Train Acc: 0.000| Val Acc: 0.000\n",
      "Epoch 110:\n"
     ]
    },
    {
     "data": {
      "application/vnd.jupyter.widget-view+json": {
       "model_id": "b946c2d3f93a4ae9a12669cb0edee5fc",
       "version_major": 2,
       "version_minor": 0
      },
      "text/plain": [
       "Training Step:   0%|          | 0/143 [00:00<?, ?it/s]"
      ]
     },
     "metadata": {},
     "output_type": "display_data"
    },
    {
     "name": "stdout",
     "output_type": "stream",
     "text": [
      "Finished Epoch 110: | Train Loss: 0.12910 | Val Loss: 0.00000 | Train Acc: 0.000| Val Acc: 0.000\n",
      "Epoch 111:\n"
     ]
    },
    {
     "data": {
      "application/vnd.jupyter.widget-view+json": {
       "model_id": "4fe2700f157e4db8abb78043423e5e95",
       "version_major": 2,
       "version_minor": 0
      },
      "text/plain": [
       "Training Step:   0%|          | 0/143 [00:00<?, ?it/s]"
      ]
     },
     "metadata": {},
     "output_type": "display_data"
    },
    {
     "name": "stdout",
     "output_type": "stream",
     "text": [
      "Finished Epoch 111: | Train Loss: 0.12842 | Val Loss: 0.00000 | Train Acc: 0.000| Val Acc: 0.000\n",
      "Epoch 112:\n"
     ]
    },
    {
     "data": {
      "application/vnd.jupyter.widget-view+json": {
       "model_id": "8f40321c1713439abde6450324854ac5",
       "version_major": 2,
       "version_minor": 0
      },
      "text/plain": [
       "Training Step:   0%|          | 0/143 [00:00<?, ?it/s]"
      ]
     },
     "metadata": {},
     "output_type": "display_data"
    },
    {
     "name": "stdout",
     "output_type": "stream",
     "text": [
      "Finished Epoch 112: | Train Loss: 0.13674 | Val Loss: 0.00000 | Train Acc: 0.000| Val Acc: 0.000\n",
      "Epoch 113:\n"
     ]
    },
    {
     "data": {
      "application/vnd.jupyter.widget-view+json": {
       "model_id": "5cf939b9d4fb4f77a00597bd708f78da",
       "version_major": 2,
       "version_minor": 0
      },
      "text/plain": [
       "Training Step:   0%|          | 0/143 [00:00<?, ?it/s]"
      ]
     },
     "metadata": {},
     "output_type": "display_data"
    },
    {
     "name": "stdout",
     "output_type": "stream",
     "text": [
      "Finished Epoch 113: | Train Loss: 0.12211 | Val Loss: 0.00000 | Train Acc: 0.000| Val Acc: 0.000\n",
      "Epoch 114:\n"
     ]
    },
    {
     "data": {
      "application/vnd.jupyter.widget-view+json": {
       "model_id": "992c19ade8234b70bdfb96e8bf9d3776",
       "version_major": 2,
       "version_minor": 0
      },
      "text/plain": [
       "Training Step:   0%|          | 0/143 [00:00<?, ?it/s]"
      ]
     },
     "metadata": {},
     "output_type": "display_data"
    },
    {
     "name": "stdout",
     "output_type": "stream",
     "text": [
      "Finished Epoch 114: | Train Loss: 0.12163 | Val Loss: 0.00000 | Train Acc: 0.000| Val Acc: 0.000\n",
      "Epoch 115:\n"
     ]
    },
    {
     "data": {
      "application/vnd.jupyter.widget-view+json": {
       "model_id": "9313a0a612b24271a1f2426f7c0be586",
       "version_major": 2,
       "version_minor": 0
      },
      "text/plain": [
       "Training Step:   0%|          | 0/143 [00:00<?, ?it/s]"
      ]
     },
     "metadata": {},
     "output_type": "display_data"
    },
    {
     "name": "stdout",
     "output_type": "stream",
     "text": [
      "Finished Epoch 115: | Train Loss: 0.12143 | Val Loss: 0.00000 | Train Acc: 0.000| Val Acc: 0.000\n",
      "Epoch 116:\n"
     ]
    },
    {
     "data": {
      "application/vnd.jupyter.widget-view+json": {
       "model_id": "682f3a82ea3742b4923df3179fba73f3",
       "version_major": 2,
       "version_minor": 0
      },
      "text/plain": [
       "Training Step:   0%|          | 0/143 [00:00<?, ?it/s]"
      ]
     },
     "metadata": {},
     "output_type": "display_data"
    },
    {
     "name": "stdout",
     "output_type": "stream",
     "text": [
      "Finished Epoch 116: | Train Loss: 0.12097 | Val Loss: 0.00000 | Train Acc: 0.000| Val Acc: 0.000\n",
      "Epoch 117:\n"
     ]
    },
    {
     "data": {
      "application/vnd.jupyter.widget-view+json": {
       "model_id": "8b38e0edb6734d23beb4f617e04ea4f0",
       "version_major": 2,
       "version_minor": 0
      },
      "text/plain": [
       "Training Step:   0%|          | 0/143 [00:00<?, ?it/s]"
      ]
     },
     "metadata": {},
     "output_type": "display_data"
    },
    {
     "name": "stdout",
     "output_type": "stream",
     "text": [
      "Finished Epoch 117: | Train Loss: 0.13095 | Val Loss: 0.00000 | Train Acc: 0.000| Val Acc: 0.000\n",
      "Epoch 118:\n"
     ]
    },
    {
     "data": {
      "application/vnd.jupyter.widget-view+json": {
       "model_id": "c5181c8a8cdf4887b08fdaf8ffe095d4",
       "version_major": 2,
       "version_minor": 0
      },
      "text/plain": [
       "Training Step:   0%|          | 0/143 [00:00<?, ?it/s]"
      ]
     },
     "metadata": {},
     "output_type": "display_data"
    },
    {
     "name": "stdout",
     "output_type": "stream",
     "text": [
      "Finished Epoch 118: | Train Loss: 0.12104 | Val Loss: 0.00000 | Train Acc: 0.000| Val Acc: 0.000\n",
      "Epoch 119:\n"
     ]
    },
    {
     "data": {
      "application/vnd.jupyter.widget-view+json": {
       "model_id": "595223dc971f4eae9fb178be2040a47e",
       "version_major": 2,
       "version_minor": 0
      },
      "text/plain": [
       "Training Step:   0%|          | 0/143 [00:00<?, ?it/s]"
      ]
     },
     "metadata": {},
     "output_type": "display_data"
    },
    {
     "name": "stdout",
     "output_type": "stream",
     "text": [
      "Finished Epoch 119: | Train Loss: 0.12428 | Val Loss: 0.00000 | Train Acc: 0.000| Val Acc: 0.000\n",
      "Epoch 120:\n"
     ]
    },
    {
     "data": {
      "application/vnd.jupyter.widget-view+json": {
       "model_id": "a43f3093603448beb5e123254ad238c5",
       "version_major": 2,
       "version_minor": 0
      },
      "text/plain": [
       "Training Step:   0%|          | 0/143 [00:00<?, ?it/s]"
      ]
     },
     "metadata": {},
     "output_type": "display_data"
    },
    {
     "name": "stdout",
     "output_type": "stream",
     "text": [
      "Finished Epoch 120: | Train Loss: 0.12007 | Val Loss: 0.00000 | Train Acc: 0.000| Val Acc: 0.000\n",
      "Epoch 121:\n"
     ]
    },
    {
     "data": {
      "application/vnd.jupyter.widget-view+json": {
       "model_id": "8aa09544f59442898562fb5ce00b7943",
       "version_major": 2,
       "version_minor": 0
      },
      "text/plain": [
       "Training Step:   0%|          | 0/143 [00:00<?, ?it/s]"
      ]
     },
     "metadata": {},
     "output_type": "display_data"
    },
    {
     "name": "stdout",
     "output_type": "stream",
     "text": [
      "Finished Epoch 121: | Train Loss: 0.12421 | Val Loss: 0.00000 | Train Acc: 0.000| Val Acc: 0.000\n",
      "Epoch 122:\n"
     ]
    },
    {
     "data": {
      "application/vnd.jupyter.widget-view+json": {
       "model_id": "be13c1ec99044aa7be1701b55e6193f2",
       "version_major": 2,
       "version_minor": 0
      },
      "text/plain": [
       "Training Step:   0%|          | 0/143 [00:00<?, ?it/s]"
      ]
     },
     "metadata": {},
     "output_type": "display_data"
    },
    {
     "name": "stdout",
     "output_type": "stream",
     "text": [
      "Finished Epoch 122: | Train Loss: 0.12089 | Val Loss: 0.00000 | Train Acc: 0.000| Val Acc: 0.000\n",
      "Epoch 123:\n"
     ]
    },
    {
     "data": {
      "application/vnd.jupyter.widget-view+json": {
       "model_id": "67052a50b96f4c37bb322eefd5adbada",
       "version_major": 2,
       "version_minor": 0
      },
      "text/plain": [
       "Training Step:   0%|          | 0/143 [00:00<?, ?it/s]"
      ]
     },
     "metadata": {},
     "output_type": "display_data"
    },
    {
     "name": "stdout",
     "output_type": "stream",
     "text": [
      "Finished Epoch 123: | Train Loss: 0.13931 | Val Loss: 0.00000 | Train Acc: 0.000| Val Acc: 0.000\n",
      "Epoch 124:\n"
     ]
    },
    {
     "data": {
      "application/vnd.jupyter.widget-view+json": {
       "model_id": "94da123b877c444e8a048c83ff2b07aa",
       "version_major": 2,
       "version_minor": 0
      },
      "text/plain": [
       "Training Step:   0%|          | 0/143 [00:00<?, ?it/s]"
      ]
     },
     "metadata": {},
     "output_type": "display_data"
    },
    {
     "name": "stdout",
     "output_type": "stream",
     "text": [
      "Finished Epoch 124: | Train Loss: 0.12435 | Val Loss: 0.00000 | Train Acc: 0.000| Val Acc: 0.000\n",
      "Epoch 125:\n"
     ]
    },
    {
     "data": {
      "application/vnd.jupyter.widget-view+json": {
       "model_id": "533c2b28174b451980b059404036ac6e",
       "version_major": 2,
       "version_minor": 0
      },
      "text/plain": [
       "Training Step:   0%|          | 0/143 [00:00<?, ?it/s]"
      ]
     },
     "metadata": {},
     "output_type": "display_data"
    },
    {
     "name": "stdout",
     "output_type": "stream",
     "text": [
      "Finished Epoch 125: | Train Loss: 0.12811 | Val Loss: 0.00000 | Train Acc: 0.000| Val Acc: 0.000\n",
      "Epoch 126:\n"
     ]
    },
    {
     "data": {
      "application/vnd.jupyter.widget-view+json": {
       "model_id": "483ccca2da134e1da4e22844a9a1ad82",
       "version_major": 2,
       "version_minor": 0
      },
      "text/plain": [
       "Training Step:   0%|          | 0/143 [00:00<?, ?it/s]"
      ]
     },
     "metadata": {},
     "output_type": "display_data"
    },
    {
     "name": "stdout",
     "output_type": "stream",
     "text": [
      "Finished Epoch 126: | Train Loss: 0.12377 | Val Loss: 0.00000 | Train Acc: 0.000| Val Acc: 0.000\n",
      "Epoch 127:\n"
     ]
    },
    {
     "data": {
      "application/vnd.jupyter.widget-view+json": {
       "model_id": "2472b4a532634c45b75da8cddf92e2e1",
       "version_major": 2,
       "version_minor": 0
      },
      "text/plain": [
       "Training Step:   0%|          | 0/143 [00:00<?, ?it/s]"
      ]
     },
     "metadata": {},
     "output_type": "display_data"
    },
    {
     "name": "stdout",
     "output_type": "stream",
     "text": [
      "Finished Epoch 127: | Train Loss: 0.11953 | Val Loss: 0.00000 | Train Acc: 0.000| Val Acc: 0.000\n",
      "Epoch 128:\n"
     ]
    },
    {
     "data": {
      "application/vnd.jupyter.widget-view+json": {
       "model_id": "af73790661e1423ab815c93edad9043a",
       "version_major": 2,
       "version_minor": 0
      },
      "text/plain": [
       "Training Step:   0%|          | 0/143 [00:00<?, ?it/s]"
      ]
     },
     "metadata": {},
     "output_type": "display_data"
    },
    {
     "name": "stdout",
     "output_type": "stream",
     "text": [
      "Finished Epoch 128: | Train Loss: 0.12863 | Val Loss: 0.00000 | Train Acc: 0.000| Val Acc: 0.000\n",
      "Epoch 129:\n"
     ]
    },
    {
     "data": {
      "application/vnd.jupyter.widget-view+json": {
       "model_id": "cd993591d7084516b3c57a7955479602",
       "version_major": 2,
       "version_minor": 0
      },
      "text/plain": [
       "Training Step:   0%|          | 0/143 [00:00<?, ?it/s]"
      ]
     },
     "metadata": {},
     "output_type": "display_data"
    },
    {
     "name": "stdout",
     "output_type": "stream",
     "text": [
      "Finished Epoch 129: | Train Loss: 0.12088 | Val Loss: 0.00000 | Train Acc: 0.000| Val Acc: 0.000\n",
      "Epoch 130:\n"
     ]
    },
    {
     "data": {
      "application/vnd.jupyter.widget-view+json": {
       "model_id": "b71b9024a4fc413faf0c1a96f1d2a8e2",
       "version_major": 2,
       "version_minor": 0
      },
      "text/plain": [
       "Training Step:   0%|          | 0/143 [00:00<?, ?it/s]"
      ]
     },
     "metadata": {},
     "output_type": "display_data"
    },
    {
     "name": "stdout",
     "output_type": "stream",
     "text": [
      "Finished Epoch 130: | Train Loss: 0.12394 | Val Loss: 0.00000 | Train Acc: 0.000| Val Acc: 0.000\n",
      "Epoch 131:\n"
     ]
    },
    {
     "data": {
      "application/vnd.jupyter.widget-view+json": {
       "model_id": "ca4a8d5c228f43f195a6a2dfb02db14a",
       "version_major": 2,
       "version_minor": 0
      },
      "text/plain": [
       "Training Step:   0%|          | 0/143 [00:00<?, ?it/s]"
      ]
     },
     "metadata": {},
     "output_type": "display_data"
    },
    {
     "name": "stdout",
     "output_type": "stream",
     "text": [
      "Finished Epoch 131: | Train Loss: 0.11660 | Val Loss: 0.00000 | Train Acc: 0.000| Val Acc: 0.000\n",
      "Epoch 132:\n"
     ]
    },
    {
     "data": {
      "application/vnd.jupyter.widget-view+json": {
       "model_id": "86a1c869f045443da8b83d8e5ead07fa",
       "version_major": 2,
       "version_minor": 0
      },
      "text/plain": [
       "Training Step:   0%|          | 0/143 [00:00<?, ?it/s]"
      ]
     },
     "metadata": {},
     "output_type": "display_data"
    },
    {
     "name": "stdout",
     "output_type": "stream",
     "text": [
      "Finished Epoch 132: | Train Loss: 0.11781 | Val Loss: 0.00000 | Train Acc: 0.000| Val Acc: 0.000\n",
      "Epoch 133:\n"
     ]
    },
    {
     "data": {
      "application/vnd.jupyter.widget-view+json": {
       "model_id": "75fa743a43034553b8c0841bc748c067",
       "version_major": 2,
       "version_minor": 0
      },
      "text/plain": [
       "Training Step:   0%|          | 0/143 [00:00<?, ?it/s]"
      ]
     },
     "metadata": {},
     "output_type": "display_data"
    },
    {
     "name": "stdout",
     "output_type": "stream",
     "text": [
      "Finished Epoch 133: | Train Loss: 0.11636 | Val Loss: 0.00000 | Train Acc: 0.000| Val Acc: 0.000\n",
      "Epoch 134:\n"
     ]
    },
    {
     "data": {
      "application/vnd.jupyter.widget-view+json": {
       "model_id": "1ba21c7e15784082862e34517169e206",
       "version_major": 2,
       "version_minor": 0
      },
      "text/plain": [
       "Training Step:   0%|          | 0/143 [00:00<?, ?it/s]"
      ]
     },
     "metadata": {},
     "output_type": "display_data"
    },
    {
     "name": "stdout",
     "output_type": "stream",
     "text": [
      "Finished Epoch 134: | Train Loss: 0.12338 | Val Loss: 0.00000 | Train Acc: 0.000| Val Acc: 0.000\n",
      "Epoch 135:\n"
     ]
    },
    {
     "data": {
      "application/vnd.jupyter.widget-view+json": {
       "model_id": "a413c790246045da9b353be3cd8c2e30",
       "version_major": 2,
       "version_minor": 0
      },
      "text/plain": [
       "Training Step:   0%|          | 0/143 [00:00<?, ?it/s]"
      ]
     },
     "metadata": {},
     "output_type": "display_data"
    },
    {
     "name": "stdout",
     "output_type": "stream",
     "text": [
      "Finished Epoch 135: | Train Loss: 0.12091 | Val Loss: 0.00000 | Train Acc: 0.000| Val Acc: 0.000\n",
      "Epoch 136:\n"
     ]
    },
    {
     "data": {
      "application/vnd.jupyter.widget-view+json": {
       "model_id": "5831941abcf040268b2eec5c64eaf8c8",
       "version_major": 2,
       "version_minor": 0
      },
      "text/plain": [
       "Training Step:   0%|          | 0/143 [00:00<?, ?it/s]"
      ]
     },
     "metadata": {},
     "output_type": "display_data"
    },
    {
     "name": "stdout",
     "output_type": "stream",
     "text": [
      "Finished Epoch 136: | Train Loss: 0.12681 | Val Loss: 0.00000 | Train Acc: 0.000| Val Acc: 0.000\n",
      "Epoch 137:\n"
     ]
    },
    {
     "data": {
      "application/vnd.jupyter.widget-view+json": {
       "model_id": "e72d6f212bb54719b0c2a7717d06dc15",
       "version_major": 2,
       "version_minor": 0
      },
      "text/plain": [
       "Training Step:   0%|          | 0/143 [00:00<?, ?it/s]"
      ]
     },
     "metadata": {},
     "output_type": "display_data"
    },
    {
     "name": "stdout",
     "output_type": "stream",
     "text": [
      "Finished Epoch 137: | Train Loss: 0.11502 | Val Loss: 0.00000 | Train Acc: 0.000| Val Acc: 0.000\n",
      "Epoch 138:\n"
     ]
    },
    {
     "data": {
      "application/vnd.jupyter.widget-view+json": {
       "model_id": "181681f1c2774aefb1a4754a60495985",
       "version_major": 2,
       "version_minor": 0
      },
      "text/plain": [
       "Training Step:   0%|          | 0/143 [00:00<?, ?it/s]"
      ]
     },
     "metadata": {},
     "output_type": "display_data"
    },
    {
     "name": "stdout",
     "output_type": "stream",
     "text": [
      "Finished Epoch 138: | Train Loss: 0.11445 | Val Loss: 0.00000 | Train Acc: 0.000| Val Acc: 0.000\n",
      "Epoch 139:\n"
     ]
    },
    {
     "data": {
      "application/vnd.jupyter.widget-view+json": {
       "model_id": "25f6af45e9ae4df1a451446dc5c1543a",
       "version_major": 2,
       "version_minor": 0
      },
      "text/plain": [
       "Training Step:   0%|          | 0/143 [00:00<?, ?it/s]"
      ]
     },
     "metadata": {},
     "output_type": "display_data"
    },
    {
     "name": "stdout",
     "output_type": "stream",
     "text": [
      "Finished Epoch 139: | Train Loss: 0.11165 | Val Loss: 0.00000 | Train Acc: 0.000| Val Acc: 0.000\n",
      "Epoch 140:\n"
     ]
    },
    {
     "data": {
      "application/vnd.jupyter.widget-view+json": {
       "model_id": "badd895c78794184ab56bf7a1dfb8aa6",
       "version_major": 2,
       "version_minor": 0
      },
      "text/plain": [
       "Training Step:   0%|          | 0/143 [00:00<?, ?it/s]"
      ]
     },
     "metadata": {},
     "output_type": "display_data"
    },
    {
     "name": "stdout",
     "output_type": "stream",
     "text": [
      "Finished Epoch 140: | Train Loss: 0.11190 | Val Loss: 0.00000 | Train Acc: 0.000| Val Acc: 0.000\n",
      "Epoch 141:\n"
     ]
    },
    {
     "data": {
      "application/vnd.jupyter.widget-view+json": {
       "model_id": "914648a9ad0f4540aaf1dd71d073c105",
       "version_major": 2,
       "version_minor": 0
      },
      "text/plain": [
       "Training Step:   0%|          | 0/143 [00:00<?, ?it/s]"
      ]
     },
     "metadata": {},
     "output_type": "display_data"
    },
    {
     "name": "stdout",
     "output_type": "stream",
     "text": [
      "Finished Epoch 141: | Train Loss: 0.11874 | Val Loss: 0.00000 | Train Acc: 0.000| Val Acc: 0.000\n",
      "Epoch 142:\n"
     ]
    },
    {
     "data": {
      "application/vnd.jupyter.widget-view+json": {
       "model_id": "2e1027c49c7b442aa20334d860c5bff9",
       "version_major": 2,
       "version_minor": 0
      },
      "text/plain": [
       "Training Step:   0%|          | 0/143 [00:00<?, ?it/s]"
      ]
     },
     "metadata": {},
     "output_type": "display_data"
    },
    {
     "name": "stdout",
     "output_type": "stream",
     "text": [
      "Finished Epoch 142: | Train Loss: 0.11966 | Val Loss: 0.00000 | Train Acc: 0.000| Val Acc: 0.000\n",
      "Epoch 143:\n"
     ]
    },
    {
     "data": {
      "application/vnd.jupyter.widget-view+json": {
       "model_id": "749c6cd29edb433fb036ab255b36dc9d",
       "version_major": 2,
       "version_minor": 0
      },
      "text/plain": [
       "Training Step:   0%|          | 0/143 [00:00<?, ?it/s]"
      ]
     },
     "metadata": {},
     "output_type": "display_data"
    },
    {
     "name": "stdout",
     "output_type": "stream",
     "text": [
      "Finished Epoch 143: | Train Loss: 0.14203 | Val Loss: 0.00000 | Train Acc: 0.000| Val Acc: 0.000\n",
      "Epoch 144:\n"
     ]
    },
    {
     "data": {
      "application/vnd.jupyter.widget-view+json": {
       "model_id": "018302f6094945ff940aa1283fd49a45",
       "version_major": 2,
       "version_minor": 0
      },
      "text/plain": [
       "Training Step:   0%|          | 0/143 [00:00<?, ?it/s]"
      ]
     },
     "metadata": {},
     "output_type": "display_data"
    },
    {
     "name": "stdout",
     "output_type": "stream",
     "text": [
      "Finished Epoch 144: | Train Loss: 0.12357 | Val Loss: 0.00000 | Train Acc: 0.000| Val Acc: 0.000\n",
      "Epoch 145:\n"
     ]
    },
    {
     "data": {
      "application/vnd.jupyter.widget-view+json": {
       "model_id": "a5241f4681014ab3b3c877ae89307735",
       "version_major": 2,
       "version_minor": 0
      },
      "text/plain": [
       "Training Step:   0%|          | 0/143 [00:00<?, ?it/s]"
      ]
     },
     "metadata": {},
     "output_type": "display_data"
    },
    {
     "name": "stdout",
     "output_type": "stream",
     "text": [
      "Finished Epoch 145: | Train Loss: 0.11858 | Val Loss: 0.00000 | Train Acc: 0.000| Val Acc: 0.000\n",
      "Epoch 146:\n"
     ]
    },
    {
     "data": {
      "application/vnd.jupyter.widget-view+json": {
       "model_id": "98f816b489d54f6895ea63af56022620",
       "version_major": 2,
       "version_minor": 0
      },
      "text/plain": [
       "Training Step:   0%|          | 0/143 [00:00<?, ?it/s]"
      ]
     },
     "metadata": {},
     "output_type": "display_data"
    },
    {
     "name": "stdout",
     "output_type": "stream",
     "text": [
      "Finished Epoch 146: | Train Loss: 0.11560 | Val Loss: 0.00000 | Train Acc: 0.000| Val Acc: 0.000\n",
      "Epoch 147:\n"
     ]
    },
    {
     "data": {
      "application/vnd.jupyter.widget-view+json": {
       "model_id": "6ddd84ecba79494ea739d375d1ec589a",
       "version_major": 2,
       "version_minor": 0
      },
      "text/plain": [
       "Training Step:   0%|          | 0/143 [00:00<?, ?it/s]"
      ]
     },
     "metadata": {},
     "output_type": "display_data"
    },
    {
     "name": "stdout",
     "output_type": "stream",
     "text": [
      "Finished Epoch 147: | Train Loss: 0.11326 | Val Loss: 0.00000 | Train Acc: 0.000| Val Acc: 0.000\n",
      "Epoch 148:\n"
     ]
    },
    {
     "data": {
      "application/vnd.jupyter.widget-view+json": {
       "model_id": "b66c1a42fb43451796d9fe9584ad8ba3",
       "version_major": 2,
       "version_minor": 0
      },
      "text/plain": [
       "Training Step:   0%|          | 0/143 [00:00<?, ?it/s]"
      ]
     },
     "metadata": {},
     "output_type": "display_data"
    },
    {
     "name": "stdout",
     "output_type": "stream",
     "text": [
      "Finished Epoch 148: | Train Loss: 0.11560 | Val Loss: 0.00000 | Train Acc: 0.000| Val Acc: 0.000\n",
      "Epoch 149:\n"
     ]
    },
    {
     "data": {
      "application/vnd.jupyter.widget-view+json": {
       "model_id": "bb34d067ae9b42e9be59416d061d7d3e",
       "version_major": 2,
       "version_minor": 0
      },
      "text/plain": [
       "Training Step:   0%|          | 0/143 [00:00<?, ?it/s]"
      ]
     },
     "metadata": {},
     "output_type": "display_data"
    },
    {
     "name": "stdout",
     "output_type": "stream",
     "text": [
      "Finished Epoch 149: | Train Loss: 0.11283 | Val Loss: 0.00000 | Train Acc: 0.000| Val Acc: 0.000\n",
      "Epoch 150:\n"
     ]
    },
    {
     "data": {
      "application/vnd.jupyter.widget-view+json": {
       "model_id": "578ef63e28e94f36a97e0b6f383cfa7f",
       "version_major": 2,
       "version_minor": 0
      },
      "text/plain": [
       "Training Step:   0%|          | 0/143 [00:00<?, ?it/s]"
      ]
     },
     "metadata": {},
     "output_type": "display_data"
    },
    {
     "name": "stdout",
     "output_type": "stream",
     "text": [
      "Finished Epoch 150: | Train Loss: 0.11258 | Val Loss: 0.00000 | Train Acc: 0.000| Val Acc: 0.000\n",
      "Epoch 151:\n"
     ]
    },
    {
     "data": {
      "application/vnd.jupyter.widget-view+json": {
       "model_id": "6d64eb7e2000473eac4cd5108555dd22",
       "version_major": 2,
       "version_minor": 0
      },
      "text/plain": [
       "Training Step:   0%|          | 0/143 [00:00<?, ?it/s]"
      ]
     },
     "metadata": {},
     "output_type": "display_data"
    },
    {
     "name": "stdout",
     "output_type": "stream",
     "text": [
      "Finished Epoch 151: | Train Loss: 0.11319 | Val Loss: 0.00000 | Train Acc: 0.000| Val Acc: 0.000\n",
      "Epoch 152:\n"
     ]
    },
    {
     "data": {
      "application/vnd.jupyter.widget-view+json": {
       "model_id": "d6efe3075b9f4de184b85f9e74bf5763",
       "version_major": 2,
       "version_minor": 0
      },
      "text/plain": [
       "Training Step:   0%|          | 0/143 [00:00<?, ?it/s]"
      ]
     },
     "metadata": {},
     "output_type": "display_data"
    },
    {
     "name": "stdout",
     "output_type": "stream",
     "text": [
      "Finished Epoch 152: | Train Loss: 0.12446 | Val Loss: 0.00000 | Train Acc: 0.000| Val Acc: 0.000\n",
      "Epoch 153:\n"
     ]
    },
    {
     "data": {
      "application/vnd.jupyter.widget-view+json": {
       "model_id": "eb0a2676feb4424d93baa666b3ee8c94",
       "version_major": 2,
       "version_minor": 0
      },
      "text/plain": [
       "Training Step:   0%|          | 0/143 [00:00<?, ?it/s]"
      ]
     },
     "metadata": {},
     "output_type": "display_data"
    },
    {
     "name": "stdout",
     "output_type": "stream",
     "text": [
      "Finished Epoch 153: | Train Loss: 0.11405 | Val Loss: 0.00000 | Train Acc: 0.000| Val Acc: 0.000\n",
      "Epoch 154:\n"
     ]
    },
    {
     "data": {
      "application/vnd.jupyter.widget-view+json": {
       "model_id": "eed5a4a66c3c4778a7f0ef1bce0b9148",
       "version_major": 2,
       "version_minor": 0
      },
      "text/plain": [
       "Training Step:   0%|          | 0/143 [00:00<?, ?it/s]"
      ]
     },
     "metadata": {},
     "output_type": "display_data"
    },
    {
     "name": "stdout",
     "output_type": "stream",
     "text": [
      "Finished Epoch 154: | Train Loss: 0.10860 | Val Loss: 0.00000 | Train Acc: 0.000| Val Acc: 0.000\n",
      "Epoch 155:\n"
     ]
    },
    {
     "data": {
      "application/vnd.jupyter.widget-view+json": {
       "model_id": "c104203b90d94330b4b801ab667cb1d7",
       "version_major": 2,
       "version_minor": 0
      },
      "text/plain": [
       "Training Step:   0%|          | 0/143 [00:00<?, ?it/s]"
      ]
     },
     "metadata": {},
     "output_type": "display_data"
    },
    {
     "name": "stdout",
     "output_type": "stream",
     "text": [
      "Finished Epoch 155: | Train Loss: 0.10895 | Val Loss: 0.00000 | Train Acc: 0.000| Val Acc: 0.000\n",
      "Epoch 156:\n"
     ]
    },
    {
     "data": {
      "application/vnd.jupyter.widget-view+json": {
       "model_id": "fd92e00c17af4ff4b2b5fe7522577cc7",
       "version_major": 2,
       "version_minor": 0
      },
      "text/plain": [
       "Training Step:   0%|          | 0/143 [00:00<?, ?it/s]"
      ]
     },
     "metadata": {},
     "output_type": "display_data"
    },
    {
     "name": "stdout",
     "output_type": "stream",
     "text": [
      "Finished Epoch 156: | Train Loss: 0.10836 | Val Loss: 0.00000 | Train Acc: 0.000| Val Acc: 0.000\n",
      "Epoch 157:\n"
     ]
    },
    {
     "data": {
      "application/vnd.jupyter.widget-view+json": {
       "model_id": "eff39cdfd8214a8c9312fa217cc26e8d",
       "version_major": 2,
       "version_minor": 0
      },
      "text/plain": [
       "Training Step:   0%|          | 0/143 [00:00<?, ?it/s]"
      ]
     },
     "metadata": {},
     "output_type": "display_data"
    },
    {
     "name": "stdout",
     "output_type": "stream",
     "text": [
      "Finished Epoch 157: | Train Loss: 0.11035 | Val Loss: 0.00000 | Train Acc: 0.000| Val Acc: 0.000\n",
      "Epoch 158:\n"
     ]
    },
    {
     "data": {
      "application/vnd.jupyter.widget-view+json": {
       "model_id": "bb09e8f7fd374b449034e00cf64a35d5",
       "version_major": 2,
       "version_minor": 0
      },
      "text/plain": [
       "Training Step:   0%|          | 0/143 [00:00<?, ?it/s]"
      ]
     },
     "metadata": {},
     "output_type": "display_data"
    },
    {
     "name": "stdout",
     "output_type": "stream",
     "text": [
      "Finished Epoch 158: | Train Loss: 0.12412 | Val Loss: 0.00000 | Train Acc: 0.000| Val Acc: 0.000\n",
      "Epoch 159:\n"
     ]
    },
    {
     "data": {
      "application/vnd.jupyter.widget-view+json": {
       "model_id": "932a962b3b59481d9d1d8271d89397a8",
       "version_major": 2,
       "version_minor": 0
      },
      "text/plain": [
       "Training Step:   0%|          | 0/143 [00:00<?, ?it/s]"
      ]
     },
     "metadata": {},
     "output_type": "display_data"
    },
    {
     "name": "stdout",
     "output_type": "stream",
     "text": [
      "Finished Epoch 159: | Train Loss: 0.11093 | Val Loss: 0.00000 | Train Acc: 0.000| Val Acc: 0.000\n",
      "Epoch 160:\n"
     ]
    },
    {
     "data": {
      "application/vnd.jupyter.widget-view+json": {
       "model_id": "e1aa4a2d7b934a839122dd34b29537a9",
       "version_major": 2,
       "version_minor": 0
      },
      "text/plain": [
       "Training Step:   0%|          | 0/143 [00:00<?, ?it/s]"
      ]
     },
     "metadata": {},
     "output_type": "display_data"
    },
    {
     "name": "stdout",
     "output_type": "stream",
     "text": [
      "Finished Epoch 160: | Train Loss: 0.11523 | Val Loss: 0.00000 | Train Acc: 0.000| Val Acc: 0.000\n",
      "Epoch 161:\n"
     ]
    },
    {
     "data": {
      "application/vnd.jupyter.widget-view+json": {
       "model_id": "1c892717408b4bac8214d644b2250560",
       "version_major": 2,
       "version_minor": 0
      },
      "text/plain": [
       "Training Step:   0%|          | 0/143 [00:00<?, ?it/s]"
      ]
     },
     "metadata": {},
     "output_type": "display_data"
    },
    {
     "name": "stdout",
     "output_type": "stream",
     "text": [
      "Finished Epoch 161: | Train Loss: 0.11648 | Val Loss: 0.00000 | Train Acc: 0.000| Val Acc: 0.000\n",
      "Epoch 162:\n"
     ]
    },
    {
     "data": {
      "application/vnd.jupyter.widget-view+json": {
       "model_id": "d427213619134af09a799b875f2bc3f6",
       "version_major": 2,
       "version_minor": 0
      },
      "text/plain": [
       "Training Step:   0%|          | 0/143 [00:00<?, ?it/s]"
      ]
     },
     "metadata": {},
     "output_type": "display_data"
    },
    {
     "name": "stdout",
     "output_type": "stream",
     "text": [
      "Finished Epoch 162: | Train Loss: 0.11439 | Val Loss: 0.00000 | Train Acc: 0.000| Val Acc: 0.000\n",
      "Epoch 163:\n"
     ]
    },
    {
     "data": {
      "application/vnd.jupyter.widget-view+json": {
       "model_id": "6f91ff401a984e9e976680051ae17f3e",
       "version_major": 2,
       "version_minor": 0
      },
      "text/plain": [
       "Training Step:   0%|          | 0/143 [00:00<?, ?it/s]"
      ]
     },
     "metadata": {},
     "output_type": "display_data"
    },
    {
     "name": "stdout",
     "output_type": "stream",
     "text": [
      "Finished Epoch 163: | Train Loss: 0.11088 | Val Loss: 0.00000 | Train Acc: 0.000| Val Acc: 0.000\n",
      "Epoch 164:\n"
     ]
    },
    {
     "data": {
      "application/vnd.jupyter.widget-view+json": {
       "model_id": "e5378b59ee88435c964724358e7a6cda",
       "version_major": 2,
       "version_minor": 0
      },
      "text/plain": [
       "Training Step:   0%|          | 0/143 [00:00<?, ?it/s]"
      ]
     },
     "metadata": {},
     "output_type": "display_data"
    },
    {
     "name": "stdout",
     "output_type": "stream",
     "text": [
      "Finished Epoch 164: | Train Loss: 0.10968 | Val Loss: 0.00000 | Train Acc: 0.000| Val Acc: 0.000\n",
      "Epoch 165:\n"
     ]
    },
    {
     "data": {
      "application/vnd.jupyter.widget-view+json": {
       "model_id": "b40096f6b9dd4e6794079ed268083fdb",
       "version_major": 2,
       "version_minor": 0
      },
      "text/plain": [
       "Training Step:   0%|          | 0/143 [00:00<?, ?it/s]"
      ]
     },
     "metadata": {},
     "output_type": "display_data"
    },
    {
     "name": "stdout",
     "output_type": "stream",
     "text": [
      "Finished Epoch 165: | Train Loss: 0.11029 | Val Loss: 0.00000 | Train Acc: 0.000| Val Acc: 0.000\n",
      "Epoch 166:\n"
     ]
    },
    {
     "data": {
      "application/vnd.jupyter.widget-view+json": {
       "model_id": "f51405f5fe4f4ec085e61cf3e4a40e17",
       "version_major": 2,
       "version_minor": 0
      },
      "text/plain": [
       "Training Step:   0%|          | 0/143 [00:00<?, ?it/s]"
      ]
     },
     "metadata": {},
     "output_type": "display_data"
    },
    {
     "name": "stdout",
     "output_type": "stream",
     "text": [
      "Finished Epoch 166: | Train Loss: 0.10859 | Val Loss: 0.00000 | Train Acc: 0.000| Val Acc: 0.000\n",
      "Epoch 167:\n"
     ]
    },
    {
     "data": {
      "application/vnd.jupyter.widget-view+json": {
       "model_id": "f2ff1f32aea246738e982b86f8f9c35b",
       "version_major": 2,
       "version_minor": 0
      },
      "text/plain": [
       "Training Step:   0%|          | 0/143 [00:00<?, ?it/s]"
      ]
     },
     "metadata": {},
     "output_type": "display_data"
    },
    {
     "name": "stdout",
     "output_type": "stream",
     "text": [
      "Finished Epoch 167: | Train Loss: 0.11592 | Val Loss: 0.00000 | Train Acc: 0.000| Val Acc: 0.000\n",
      "Epoch 168:\n"
     ]
    },
    {
     "data": {
      "application/vnd.jupyter.widget-view+json": {
       "model_id": "998f2b23ccc14e679428e10b3263f832",
       "version_major": 2,
       "version_minor": 0
      },
      "text/plain": [
       "Training Step:   0%|          | 0/143 [00:00<?, ?it/s]"
      ]
     },
     "metadata": {},
     "output_type": "display_data"
    },
    {
     "name": "stdout",
     "output_type": "stream",
     "text": [
      "Finished Epoch 168: | Train Loss: 0.10829 | Val Loss: 0.00000 | Train Acc: 0.000| Val Acc: 0.000\n",
      "Epoch 169:\n"
     ]
    },
    {
     "data": {
      "application/vnd.jupyter.widget-view+json": {
       "model_id": "08338264c6bd448c932a9c130e3c517d",
       "version_major": 2,
       "version_minor": 0
      },
      "text/plain": [
       "Training Step:   0%|          | 0/143 [00:00<?, ?it/s]"
      ]
     },
     "metadata": {},
     "output_type": "display_data"
    },
    {
     "name": "stdout",
     "output_type": "stream",
     "text": [
      "Finished Epoch 169: | Train Loss: 0.10846 | Val Loss: 0.00000 | Train Acc: 0.000| Val Acc: 0.000\n",
      "Epoch 170:\n"
     ]
    },
    {
     "data": {
      "application/vnd.jupyter.widget-view+json": {
       "model_id": "93eb1ce9b8f642cdb84cf8ac2bf3d136",
       "version_major": 2,
       "version_minor": 0
      },
      "text/plain": [
       "Training Step:   0%|          | 0/143 [00:00<?, ?it/s]"
      ]
     },
     "metadata": {},
     "output_type": "display_data"
    },
    {
     "name": "stdout",
     "output_type": "stream",
     "text": [
      "Finished Epoch 170: | Train Loss: 0.10650 | Val Loss: 0.00000 | Train Acc: 0.000| Val Acc: 0.000\n",
      "Epoch 171:\n"
     ]
    },
    {
     "data": {
      "application/vnd.jupyter.widget-view+json": {
       "model_id": "154a22df19a240a2b8b36d093050415d",
       "version_major": 2,
       "version_minor": 0
      },
      "text/plain": [
       "Training Step:   0%|          | 0/143 [00:00<?, ?it/s]"
      ]
     },
     "metadata": {},
     "output_type": "display_data"
    },
    {
     "name": "stdout",
     "output_type": "stream",
     "text": [
      "Finished Epoch 171: | Train Loss: 0.10742 | Val Loss: 0.00000 | Train Acc: 0.000| Val Acc: 0.000\n",
      "Epoch 172:\n"
     ]
    },
    {
     "data": {
      "application/vnd.jupyter.widget-view+json": {
       "model_id": "4bb852c1b1a1448fae0620b49acdfc9a",
       "version_major": 2,
       "version_minor": 0
      },
      "text/plain": [
       "Training Step:   0%|          | 0/143 [00:00<?, ?it/s]"
      ]
     },
     "metadata": {},
     "output_type": "display_data"
    },
    {
     "name": "stdout",
     "output_type": "stream",
     "text": [
      "Finished Epoch 172: | Train Loss: 0.10627 | Val Loss: 0.00000 | Train Acc: 0.000| Val Acc: 0.000\n",
      "Epoch 173:\n"
     ]
    },
    {
     "data": {
      "application/vnd.jupyter.widget-view+json": {
       "model_id": "de44f21fe68c4557a356e1f47a795eef",
       "version_major": 2,
       "version_minor": 0
      },
      "text/plain": [
       "Training Step:   0%|          | 0/143 [00:00<?, ?it/s]"
      ]
     },
     "metadata": {},
     "output_type": "display_data"
    },
    {
     "name": "stdout",
     "output_type": "stream",
     "text": [
      "Finished Epoch 173: | Train Loss: 0.11003 | Val Loss: 0.00000 | Train Acc: 0.000| Val Acc: 0.000\n",
      "Epoch 174:\n"
     ]
    },
    {
     "data": {
      "application/vnd.jupyter.widget-view+json": {
       "model_id": "96d08fc7348047d3b17ae66cf64b25f5",
       "version_major": 2,
       "version_minor": 0
      },
      "text/plain": [
       "Training Step:   0%|          | 0/143 [00:00<?, ?it/s]"
      ]
     },
     "metadata": {},
     "output_type": "display_data"
    },
    {
     "name": "stdout",
     "output_type": "stream",
     "text": [
      "Finished Epoch 174: | Train Loss: 0.10671 | Val Loss: 0.00000 | Train Acc: 0.000| Val Acc: 0.000\n",
      "Epoch 175:\n"
     ]
    },
    {
     "data": {
      "application/vnd.jupyter.widget-view+json": {
       "model_id": "4f73471fa9124a4180141aaa64156427",
       "version_major": 2,
       "version_minor": 0
      },
      "text/plain": [
       "Training Step:   0%|          | 0/143 [00:00<?, ?it/s]"
      ]
     },
     "metadata": {},
     "output_type": "display_data"
    },
    {
     "name": "stdout",
     "output_type": "stream",
     "text": [
      "Finished Epoch 175: | Train Loss: 0.10922 | Val Loss: 0.00000 | Train Acc: 0.000| Val Acc: 0.000\n",
      "Epoch 176:\n"
     ]
    },
    {
     "data": {
      "application/vnd.jupyter.widget-view+json": {
       "model_id": "6486944751a84f9facd4c9e835c31fbd",
       "version_major": 2,
       "version_minor": 0
      },
      "text/plain": [
       "Training Step:   0%|          | 0/143 [00:00<?, ?it/s]"
      ]
     },
     "metadata": {},
     "output_type": "display_data"
    },
    {
     "name": "stdout",
     "output_type": "stream",
     "text": [
      "Finished Epoch 176: | Train Loss: 0.11177 | Val Loss: 0.00000 | Train Acc: 0.000| Val Acc: 0.000\n",
      "Epoch 177:\n"
     ]
    },
    {
     "data": {
      "application/vnd.jupyter.widget-view+json": {
       "model_id": "98f428d6d48a486484d0b2ad067ef503",
       "version_major": 2,
       "version_minor": 0
      },
      "text/plain": [
       "Training Step:   0%|          | 0/143 [00:00<?, ?it/s]"
      ]
     },
     "metadata": {},
     "output_type": "display_data"
    },
    {
     "name": "stdout",
     "output_type": "stream",
     "text": [
      "Finished Epoch 177: | Train Loss: 0.11333 | Val Loss: 0.00000 | Train Acc: 0.000| Val Acc: 0.000\n",
      "Epoch 178:\n"
     ]
    },
    {
     "data": {
      "application/vnd.jupyter.widget-view+json": {
       "model_id": "26088c7a8dd746e2a898854cea862ed5",
       "version_major": 2,
       "version_minor": 0
      },
      "text/plain": [
       "Training Step:   0%|          | 0/143 [00:00<?, ?it/s]"
      ]
     },
     "metadata": {},
     "output_type": "display_data"
    },
    {
     "name": "stdout",
     "output_type": "stream",
     "text": [
      "Finished Epoch 178: | Train Loss: 0.10634 | Val Loss: 0.00000 | Train Acc: 0.000| Val Acc: 0.000\n",
      "Epoch 179:\n"
     ]
    },
    {
     "data": {
      "application/vnd.jupyter.widget-view+json": {
       "model_id": "af3b6064baa640db9e50ef4d5e9f6fc8",
       "version_major": 2,
       "version_minor": 0
      },
      "text/plain": [
       "Training Step:   0%|          | 0/143 [00:00<?, ?it/s]"
      ]
     },
     "metadata": {},
     "output_type": "display_data"
    },
    {
     "name": "stdout",
     "output_type": "stream",
     "text": [
      "Finished Epoch 179: | Train Loss: 0.10546 | Val Loss: 0.00000 | Train Acc: 0.000| Val Acc: 0.000\n",
      "Epoch 180:\n"
     ]
    },
    {
     "data": {
      "application/vnd.jupyter.widget-view+json": {
       "model_id": "53e36651a36b451db737433d0e87b5ff",
       "version_major": 2,
       "version_minor": 0
      },
      "text/plain": [
       "Training Step:   0%|          | 0/143 [00:00<?, ?it/s]"
      ]
     },
     "metadata": {},
     "output_type": "display_data"
    },
    {
     "name": "stdout",
     "output_type": "stream",
     "text": [
      "Finished Epoch 180: | Train Loss: 0.10700 | Val Loss: 0.00000 | Train Acc: 0.000| Val Acc: 0.000\n",
      "Epoch 181:\n"
     ]
    },
    {
     "data": {
      "application/vnd.jupyter.widget-view+json": {
       "model_id": "4b221531a3824142a1891c48bd09e680",
       "version_major": 2,
       "version_minor": 0
      },
      "text/plain": [
       "Training Step:   0%|          | 0/143 [00:00<?, ?it/s]"
      ]
     },
     "metadata": {},
     "output_type": "display_data"
    },
    {
     "name": "stdout",
     "output_type": "stream",
     "text": [
      "Finished Epoch 181: | Train Loss: 0.11129 | Val Loss: 0.00000 | Train Acc: 0.000| Val Acc: 0.000\n",
      "Epoch 182:\n"
     ]
    },
    {
     "data": {
      "application/vnd.jupyter.widget-view+json": {
       "model_id": "947cac37da5c41c58d06736af4629bb3",
       "version_major": 2,
       "version_minor": 0
      },
      "text/plain": [
       "Training Step:   0%|          | 0/143 [00:00<?, ?it/s]"
      ]
     },
     "metadata": {},
     "output_type": "display_data"
    },
    {
     "name": "stdout",
     "output_type": "stream",
     "text": [
      "Finished Epoch 182: | Train Loss: 0.10762 | Val Loss: 0.00000 | Train Acc: 0.000| Val Acc: 0.000\n",
      "Epoch 183:\n"
     ]
    },
    {
     "data": {
      "application/vnd.jupyter.widget-view+json": {
       "model_id": "857388a0c20742e9b190269354cd1b58",
       "version_major": 2,
       "version_minor": 0
      },
      "text/plain": [
       "Training Step:   0%|          | 0/143 [00:00<?, ?it/s]"
      ]
     },
     "metadata": {},
     "output_type": "display_data"
    },
    {
     "name": "stdout",
     "output_type": "stream",
     "text": [
      "Finished Epoch 183: | Train Loss: 0.11028 | Val Loss: 0.00000 | Train Acc: 0.000| Val Acc: 0.000\n",
      "Epoch 184:\n"
     ]
    },
    {
     "data": {
      "application/vnd.jupyter.widget-view+json": {
       "model_id": "ec9e34ff6f2a4af48092fa7758f5969d",
       "version_major": 2,
       "version_minor": 0
      },
      "text/plain": [
       "Training Step:   0%|          | 0/143 [00:00<?, ?it/s]"
      ]
     },
     "metadata": {},
     "output_type": "display_data"
    },
    {
     "name": "stdout",
     "output_type": "stream",
     "text": [
      "Finished Epoch 184: | Train Loss: 0.10571 | Val Loss: 0.00000 | Train Acc: 0.000| Val Acc: 0.000\n",
      "Epoch 185:\n"
     ]
    },
    {
     "data": {
      "application/vnd.jupyter.widget-view+json": {
       "model_id": "e757e1d1fb4741ffbf25b3186d681f93",
       "version_major": 2,
       "version_minor": 0
      },
      "text/plain": [
       "Training Step:   0%|          | 0/143 [00:00<?, ?it/s]"
      ]
     },
     "metadata": {},
     "output_type": "display_data"
    },
    {
     "name": "stdout",
     "output_type": "stream",
     "text": [
      "Finished Epoch 185: | Train Loss: 0.10844 | Val Loss: 0.00000 | Train Acc: 0.000| Val Acc: 0.000\n",
      "Epoch 186:\n"
     ]
    },
    {
     "data": {
      "application/vnd.jupyter.widget-view+json": {
       "model_id": "a7371a6d7b674a71803d453ef3642980",
       "version_major": 2,
       "version_minor": 0
      },
      "text/plain": [
       "Training Step:   0%|          | 0/143 [00:00<?, ?it/s]"
      ]
     },
     "metadata": {},
     "output_type": "display_data"
    },
    {
     "name": "stdout",
     "output_type": "stream",
     "text": [
      "Finished Epoch 186: | Train Loss: 0.10458 | Val Loss: 0.00000 | Train Acc: 0.000| Val Acc: 0.000\n",
      "Epoch 187:\n"
     ]
    },
    {
     "data": {
      "application/vnd.jupyter.widget-view+json": {
       "model_id": "9d53113c32084dd69be53a168219dbc9",
       "version_major": 2,
       "version_minor": 0
      },
      "text/plain": [
       "Training Step:   0%|          | 0/143 [00:00<?, ?it/s]"
      ]
     },
     "metadata": {},
     "output_type": "display_data"
    },
    {
     "name": "stdout",
     "output_type": "stream",
     "text": [
      "Finished Epoch 187: | Train Loss: 0.10689 | Val Loss: 0.00000 | Train Acc: 0.000| Val Acc: 0.000\n",
      "Epoch 188:\n"
     ]
    },
    {
     "data": {
      "application/vnd.jupyter.widget-view+json": {
       "model_id": "49e4a53e999f499b91ed812f5e210626",
       "version_major": 2,
       "version_minor": 0
      },
      "text/plain": [
       "Training Step:   0%|          | 0/143 [00:00<?, ?it/s]"
      ]
     },
     "metadata": {},
     "output_type": "display_data"
    },
    {
     "name": "stdout",
     "output_type": "stream",
     "text": [
      "Finished Epoch 188: | Train Loss: 0.10353 | Val Loss: 0.00000 | Train Acc: 0.000| Val Acc: 0.000\n",
      "Epoch 189:\n"
     ]
    },
    {
     "data": {
      "application/vnd.jupyter.widget-view+json": {
       "model_id": "33f311e972e248f9bab11e8f46db8571",
       "version_major": 2,
       "version_minor": 0
      },
      "text/plain": [
       "Training Step:   0%|          | 0/143 [00:00<?, ?it/s]"
      ]
     },
     "metadata": {},
     "output_type": "display_data"
    },
    {
     "name": "stdout",
     "output_type": "stream",
     "text": [
      "Finished Epoch 189: | Train Loss: 0.10438 | Val Loss: 0.00000 | Train Acc: 0.000| Val Acc: 0.000\n",
      "Epoch 190:\n"
     ]
    },
    {
     "data": {
      "application/vnd.jupyter.widget-view+json": {
       "model_id": "3c1fe8342f514bf3bbe37fc0e804ac87",
       "version_major": 2,
       "version_minor": 0
      },
      "text/plain": [
       "Training Step:   0%|          | 0/143 [00:00<?, ?it/s]"
      ]
     },
     "metadata": {},
     "output_type": "display_data"
    },
    {
     "name": "stdout",
     "output_type": "stream",
     "text": [
      "Finished Epoch 190: | Train Loss: 0.10601 | Val Loss: 0.00000 | Train Acc: 0.000| Val Acc: 0.000\n",
      "Epoch 191:\n"
     ]
    },
    {
     "data": {
      "application/vnd.jupyter.widget-view+json": {
       "model_id": "51cdc0d0d9b44c6584be4d9a5643af8f",
       "version_major": 2,
       "version_minor": 0
      },
      "text/plain": [
       "Training Step:   0%|          | 0/143 [00:00<?, ?it/s]"
      ]
     },
     "metadata": {},
     "output_type": "display_data"
    },
    {
     "name": "stdout",
     "output_type": "stream",
     "text": [
      "Finished Epoch 191: | Train Loss: 0.10445 | Val Loss: 0.00000 | Train Acc: 0.000| Val Acc: 0.000\n",
      "Epoch 192:\n"
     ]
    },
    {
     "data": {
      "application/vnd.jupyter.widget-view+json": {
       "model_id": "46f74011cdce432fbdf56695cae8e7d2",
       "version_major": 2,
       "version_minor": 0
      },
      "text/plain": [
       "Training Step:   0%|          | 0/143 [00:00<?, ?it/s]"
      ]
     },
     "metadata": {},
     "output_type": "display_data"
    },
    {
     "name": "stdout",
     "output_type": "stream",
     "text": [
      "Finished Epoch 192: | Train Loss: 0.10478 | Val Loss: 0.00000 | Train Acc: 0.000| Val Acc: 0.000\n",
      "Epoch 193:\n"
     ]
    },
    {
     "data": {
      "application/vnd.jupyter.widget-view+json": {
       "model_id": "eda47cede39e433893065bf2353ed129",
       "version_major": 2,
       "version_minor": 0
      },
      "text/plain": [
       "Training Step:   0%|          | 0/143 [00:00<?, ?it/s]"
      ]
     },
     "metadata": {},
     "output_type": "display_data"
    },
    {
     "name": "stdout",
     "output_type": "stream",
     "text": [
      "Finished Epoch 193: | Train Loss: 0.10300 | Val Loss: 0.00000 | Train Acc: 0.000| Val Acc: 0.000\n",
      "Epoch 194:\n"
     ]
    },
    {
     "data": {
      "application/vnd.jupyter.widget-view+json": {
       "model_id": "044f8f5583de409e92fc40e7953188fb",
       "version_major": 2,
       "version_minor": 0
      },
      "text/plain": [
       "Training Step:   0%|          | 0/143 [00:00<?, ?it/s]"
      ]
     },
     "metadata": {},
     "output_type": "display_data"
    },
    {
     "name": "stdout",
     "output_type": "stream",
     "text": [
      "Finished Epoch 194: | Train Loss: 0.11102 | Val Loss: 0.00000 | Train Acc: 0.000| Val Acc: 0.000\n",
      "Epoch 195:\n"
     ]
    },
    {
     "data": {
      "application/vnd.jupyter.widget-view+json": {
       "model_id": "f3e0f552a70e438d90068168f6d7fd8b",
       "version_major": 2,
       "version_minor": 0
      },
      "text/plain": [
       "Training Step:   0%|          | 0/143 [00:00<?, ?it/s]"
      ]
     },
     "metadata": {},
     "output_type": "display_data"
    },
    {
     "name": "stdout",
     "output_type": "stream",
     "text": [
      "Finished Epoch 195: | Train Loss: 0.10325 | Val Loss: 0.00000 | Train Acc: 0.000| Val Acc: 0.000\n",
      "Epoch 196:\n"
     ]
    },
    {
     "data": {
      "application/vnd.jupyter.widget-view+json": {
       "model_id": "bb7313177a2e4fd5b99b22790d5652f7",
       "version_major": 2,
       "version_minor": 0
      },
      "text/plain": [
       "Training Step:   0%|          | 0/143 [00:00<?, ?it/s]"
      ]
     },
     "metadata": {},
     "output_type": "display_data"
    },
    {
     "name": "stdout",
     "output_type": "stream",
     "text": [
      "Finished Epoch 196: | Train Loss: 0.10589 | Val Loss: 0.00000 | Train Acc: 0.000| Val Acc: 0.000\n",
      "Epoch 197:\n"
     ]
    },
    {
     "data": {
      "application/vnd.jupyter.widget-view+json": {
       "model_id": "c542677b8fa340c2a934a6e03f4dfe80",
       "version_major": 2,
       "version_minor": 0
      },
      "text/plain": [
       "Training Step:   0%|          | 0/143 [00:00<?, ?it/s]"
      ]
     },
     "metadata": {},
     "output_type": "display_data"
    },
    {
     "name": "stdout",
     "output_type": "stream",
     "text": [
      "Finished Epoch 197: | Train Loss: 0.10439 | Val Loss: 0.00000 | Train Acc: 0.000| Val Acc: 0.000\n",
      "Epoch 198:\n"
     ]
    },
    {
     "data": {
      "application/vnd.jupyter.widget-view+json": {
       "model_id": "5974d6420e3f4e01a101f8d7db69adcd",
       "version_major": 2,
       "version_minor": 0
      },
      "text/plain": [
       "Training Step:   0%|          | 0/143 [00:00<?, ?it/s]"
      ]
     },
     "metadata": {},
     "output_type": "display_data"
    },
    {
     "name": "stdout",
     "output_type": "stream",
     "text": [
      "Finished Epoch 198: | Train Loss: 0.10348 | Val Loss: 0.00000 | Train Acc: 0.000| Val Acc: 0.000\n",
      "Epoch 199:\n"
     ]
    },
    {
     "data": {
      "application/vnd.jupyter.widget-view+json": {
       "model_id": "4a2e10fa41e1491db29ffc31f05f9496",
       "version_major": 2,
       "version_minor": 0
      },
      "text/plain": [
       "Training Step:   0%|          | 0/143 [00:00<?, ?it/s]"
      ]
     },
     "metadata": {},
     "output_type": "display_data"
    },
    {
     "name": "stdout",
     "output_type": "stream",
     "text": [
      "Finished Epoch 199: | Train Loss: 0.11118 | Val Loss: 0.00000 | Train Acc: 0.000| Val Acc: 0.000\n",
      "Epoch 200:\n"
     ]
    },
    {
     "data": {
      "application/vnd.jupyter.widget-view+json": {
       "model_id": "9a637c1a6f42482d99cd8f09a83af1bb",
       "version_major": 2,
       "version_minor": 0
      },
      "text/plain": [
       "Training Step:   0%|          | 0/143 [00:00<?, ?it/s]"
      ]
     },
     "metadata": {},
     "output_type": "display_data"
    },
    {
     "name": "stdout",
     "output_type": "stream",
     "text": [
      "Finished Epoch 200: | Train Loss: 0.10349 | Val Loss: 0.00000 | Train Acc: 0.000| Val Acc: 0.000\n",
      "Epoch 201:\n"
     ]
    },
    {
     "data": {
      "application/vnd.jupyter.widget-view+json": {
       "model_id": "9f45ef3c28d04466b4be9536564efcb5",
       "version_major": 2,
       "version_minor": 0
      },
      "text/plain": [
       "Training Step:   0%|          | 0/143 [00:00<?, ?it/s]"
      ]
     },
     "metadata": {},
     "output_type": "display_data"
    },
    {
     "name": "stdout",
     "output_type": "stream",
     "text": [
      "Finished Epoch 201: | Train Loss: 0.10187 | Val Loss: 0.00000 | Train Acc: 0.000| Val Acc: 0.000\n",
      "Epoch 202:\n"
     ]
    },
    {
     "data": {
      "application/vnd.jupyter.widget-view+json": {
       "model_id": "88629e846b394a8f9c13c66e084ed0d2",
       "version_major": 2,
       "version_minor": 0
      },
      "text/plain": [
       "Training Step:   0%|          | 0/143 [00:00<?, ?it/s]"
      ]
     },
     "metadata": {},
     "output_type": "display_data"
    },
    {
     "name": "stdout",
     "output_type": "stream",
     "text": [
      "Finished Epoch 202: | Train Loss: 0.10130 | Val Loss: 0.00000 | Train Acc: 0.000| Val Acc: 0.000\n",
      "Epoch 203:\n"
     ]
    },
    {
     "data": {
      "application/vnd.jupyter.widget-view+json": {
       "model_id": "eb72cdeee178462e8e289b7db61ecfc8",
       "version_major": 2,
       "version_minor": 0
      },
      "text/plain": [
       "Training Step:   0%|          | 0/143 [00:00<?, ?it/s]"
      ]
     },
     "metadata": {},
     "output_type": "display_data"
    },
    {
     "name": "stdout",
     "output_type": "stream",
     "text": [
      "Finished Epoch 203: | Train Loss: 0.10125 | Val Loss: 0.00000 | Train Acc: 0.000| Val Acc: 0.000\n",
      "Epoch 204:\n"
     ]
    },
    {
     "data": {
      "application/vnd.jupyter.widget-view+json": {
       "model_id": "6e9e87b0982b4e5a8d7d9c63b32e3c72",
       "version_major": 2,
       "version_minor": 0
      },
      "text/plain": [
       "Training Step:   0%|          | 0/143 [00:00<?, ?it/s]"
      ]
     },
     "metadata": {},
     "output_type": "display_data"
    },
    {
     "name": "stdout",
     "output_type": "stream",
     "text": [
      "Finished Epoch 204: | Train Loss: 0.10503 | Val Loss: 0.00000 | Train Acc: 0.000| Val Acc: 0.000\n",
      "Epoch 205:\n"
     ]
    },
    {
     "data": {
      "application/vnd.jupyter.widget-view+json": {
       "model_id": "637c17b45d4b4750a6086fa523771cdb",
       "version_major": 2,
       "version_minor": 0
      },
      "text/plain": [
       "Training Step:   0%|          | 0/143 [00:00<?, ?it/s]"
      ]
     },
     "metadata": {},
     "output_type": "display_data"
    },
    {
     "name": "stdout",
     "output_type": "stream",
     "text": [
      "Finished Epoch 205: | Train Loss: 0.10250 | Val Loss: 0.00000 | Train Acc: 0.000| Val Acc: 0.000\n",
      "Epoch 206:\n"
     ]
    },
    {
     "data": {
      "application/vnd.jupyter.widget-view+json": {
       "model_id": "8506b4a9ab2e42b198cc367b906136f4",
       "version_major": 2,
       "version_minor": 0
      },
      "text/plain": [
       "Training Step:   0%|          | 0/143 [00:00<?, ?it/s]"
      ]
     },
     "metadata": {},
     "output_type": "display_data"
    },
    {
     "name": "stdout",
     "output_type": "stream",
     "text": [
      "Finished Epoch 206: | Train Loss: 0.11050 | Val Loss: 0.00000 | Train Acc: 0.000| Val Acc: 0.000\n",
      "Epoch 207:\n"
     ]
    },
    {
     "data": {
      "application/vnd.jupyter.widget-view+json": {
       "model_id": "91faad8478354d569c0503eef214cd29",
       "version_major": 2,
       "version_minor": 0
      },
      "text/plain": [
       "Training Step:   0%|          | 0/143 [00:00<?, ?it/s]"
      ]
     },
     "metadata": {},
     "output_type": "display_data"
    },
    {
     "name": "stdout",
     "output_type": "stream",
     "text": [
      "Finished Epoch 207: | Train Loss: 0.10154 | Val Loss: 0.00000 | Train Acc: 0.000| Val Acc: 0.000\n",
      "Epoch 208:\n"
     ]
    },
    {
     "data": {
      "application/vnd.jupyter.widget-view+json": {
       "model_id": "458635830b5c47259e13cdfc92aee530",
       "version_major": 2,
       "version_minor": 0
      },
      "text/plain": [
       "Training Step:   0%|          | 0/143 [00:00<?, ?it/s]"
      ]
     },
     "metadata": {},
     "output_type": "display_data"
    },
    {
     "name": "stdout",
     "output_type": "stream",
     "text": [
      "Finished Epoch 208: | Train Loss: 0.10358 | Val Loss: 0.00000 | Train Acc: 0.000| Val Acc: 0.000\n",
      "Epoch 209:\n"
     ]
    },
    {
     "data": {
      "application/vnd.jupyter.widget-view+json": {
       "model_id": "c8990bfc59264c36b090a0dc023e67ea",
       "version_major": 2,
       "version_minor": 0
      },
      "text/plain": [
       "Training Step:   0%|          | 0/143 [00:00<?, ?it/s]"
      ]
     },
     "metadata": {},
     "output_type": "display_data"
    },
    {
     "name": "stdout",
     "output_type": "stream",
     "text": [
      "Finished Epoch 209: | Train Loss: 0.09996 | Val Loss: 0.00000 | Train Acc: 0.000| Val Acc: 0.000\n",
      "Epoch 210:\n"
     ]
    },
    {
     "data": {
      "application/vnd.jupyter.widget-view+json": {
       "model_id": "f9d06a481a834bbfac5bc89f6162b162",
       "version_major": 2,
       "version_minor": 0
      },
      "text/plain": [
       "Training Step:   0%|          | 0/143 [00:00<?, ?it/s]"
      ]
     },
     "metadata": {},
     "output_type": "display_data"
    },
    {
     "name": "stdout",
     "output_type": "stream",
     "text": [
      "Finished Epoch 210: | Train Loss: 0.10095 | Val Loss: 0.00000 | Train Acc: 0.000| Val Acc: 0.000\n",
      "Epoch 211:\n"
     ]
    },
    {
     "data": {
      "application/vnd.jupyter.widget-view+json": {
       "model_id": "a7343fb791814bcba3b264829af71bf2",
       "version_major": 2,
       "version_minor": 0
      },
      "text/plain": [
       "Training Step:   0%|          | 0/143 [00:00<?, ?it/s]"
      ]
     },
     "metadata": {},
     "output_type": "display_data"
    },
    {
     "name": "stdout",
     "output_type": "stream",
     "text": [
      "Finished Epoch 211: | Train Loss: 0.09906 | Val Loss: 0.00000 | Train Acc: 0.000| Val Acc: 0.000\n",
      "Epoch 212:\n"
     ]
    },
    {
     "data": {
      "application/vnd.jupyter.widget-view+json": {
       "model_id": "1b2165b9e4b6449492b13fda75e084b5",
       "version_major": 2,
       "version_minor": 0
      },
      "text/plain": [
       "Training Step:   0%|          | 0/143 [00:00<?, ?it/s]"
      ]
     },
     "metadata": {},
     "output_type": "display_data"
    },
    {
     "name": "stdout",
     "output_type": "stream",
     "text": [
      "Finished Epoch 212: | Train Loss: 0.09874 | Val Loss: 0.00000 | Train Acc: 0.000| Val Acc: 0.000\n",
      "Epoch 213:\n"
     ]
    },
    {
     "data": {
      "application/vnd.jupyter.widget-view+json": {
       "model_id": "ff8ac37e430e40c79c113ef01f5424f1",
       "version_major": 2,
       "version_minor": 0
      },
      "text/plain": [
       "Training Step:   0%|          | 0/143 [00:00<?, ?it/s]"
      ]
     },
     "metadata": {},
     "output_type": "display_data"
    },
    {
     "name": "stdout",
     "output_type": "stream",
     "text": [
      "Finished Epoch 213: | Train Loss: 0.09849 | Val Loss: 0.00000 | Train Acc: 0.000| Val Acc: 0.000\n",
      "Epoch 214:\n"
     ]
    },
    {
     "data": {
      "application/vnd.jupyter.widget-view+json": {
       "model_id": "e18a961c3a8d4968a1ca689122fd648d",
       "version_major": 2,
       "version_minor": 0
      },
      "text/plain": [
       "Training Step:   0%|          | 0/143 [00:00<?, ?it/s]"
      ]
     },
     "metadata": {},
     "output_type": "display_data"
    },
    {
     "name": "stdout",
     "output_type": "stream",
     "text": [
      "Finished Epoch 214: | Train Loss: 0.09900 | Val Loss: 0.00000 | Train Acc: 0.000| Val Acc: 0.000\n",
      "Epoch 215:\n"
     ]
    },
    {
     "data": {
      "application/vnd.jupyter.widget-view+json": {
       "model_id": "c9b26372959049d1844e243d0d6fb751",
       "version_major": 2,
       "version_minor": 0
      },
      "text/plain": [
       "Training Step:   0%|          | 0/143 [00:00<?, ?it/s]"
      ]
     },
     "metadata": {},
     "output_type": "display_data"
    },
    {
     "name": "stdout",
     "output_type": "stream",
     "text": [
      "Finished Epoch 215: | Train Loss: 0.10536 | Val Loss: 0.00000 | Train Acc: 0.000| Val Acc: 0.000\n",
      "Epoch 216:\n"
     ]
    },
    {
     "data": {
      "application/vnd.jupyter.widget-view+json": {
       "model_id": "8ef2b79fd20441daa5017c3ca51454c0",
       "version_major": 2,
       "version_minor": 0
      },
      "text/plain": [
       "Training Step:   0%|          | 0/143 [00:00<?, ?it/s]"
      ]
     },
     "metadata": {},
     "output_type": "display_data"
    },
    {
     "name": "stdout",
     "output_type": "stream",
     "text": [
      "Finished Epoch 216: | Train Loss: 0.10355 | Val Loss: 0.00000 | Train Acc: 0.000| Val Acc: 0.000\n",
      "Epoch 217:\n"
     ]
    },
    {
     "data": {
      "application/vnd.jupyter.widget-view+json": {
       "model_id": "3bd9b3d31c3a45a58904de347f30cdb9",
       "version_major": 2,
       "version_minor": 0
      },
      "text/plain": [
       "Training Step:   0%|          | 0/143 [00:00<?, ?it/s]"
      ]
     },
     "metadata": {},
     "output_type": "display_data"
    },
    {
     "name": "stdout",
     "output_type": "stream",
     "text": [
      "Finished Epoch 217: | Train Loss: 0.11585 | Val Loss: 0.00000 | Train Acc: 0.000| Val Acc: 0.000\n",
      "Epoch 218:\n"
     ]
    },
    {
     "data": {
      "application/vnd.jupyter.widget-view+json": {
       "model_id": "caf4aef378844c1d8556ac6b39f309a2",
       "version_major": 2,
       "version_minor": 0
      },
      "text/plain": [
       "Training Step:   0%|          | 0/143 [00:00<?, ?it/s]"
      ]
     },
     "metadata": {},
     "output_type": "display_data"
    },
    {
     "name": "stdout",
     "output_type": "stream",
     "text": [
      "Finished Epoch 218: | Train Loss: 0.10074 | Val Loss: 0.00000 | Train Acc: 0.000| Val Acc: 0.000\n",
      "Epoch 219:\n"
     ]
    },
    {
     "data": {
      "application/vnd.jupyter.widget-view+json": {
       "model_id": "0cfdc9f251db498b98e4e441f641cec5",
       "version_major": 2,
       "version_minor": 0
      },
      "text/plain": [
       "Training Step:   0%|          | 0/143 [00:00<?, ?it/s]"
      ]
     },
     "metadata": {},
     "output_type": "display_data"
    },
    {
     "name": "stdout",
     "output_type": "stream",
     "text": [
      "Finished Epoch 219: | Train Loss: 0.10664 | Val Loss: 0.00000 | Train Acc: 0.000| Val Acc: 0.000\n",
      "Epoch 220:\n"
     ]
    },
    {
     "data": {
      "application/vnd.jupyter.widget-view+json": {
       "model_id": "2b57af3bdcc940e99d087896b479668b",
       "version_major": 2,
       "version_minor": 0
      },
      "text/plain": [
       "Training Step:   0%|          | 0/143 [00:00<?, ?it/s]"
      ]
     },
     "metadata": {},
     "output_type": "display_data"
    },
    {
     "name": "stdout",
     "output_type": "stream",
     "text": [
      "Finished Epoch 220: | Train Loss: 0.11551 | Val Loss: 0.00000 | Train Acc: 0.000| Val Acc: 0.000\n",
      "Epoch 221:\n"
     ]
    },
    {
     "data": {
      "application/vnd.jupyter.widget-view+json": {
       "model_id": "f474b23ddb144d81ba4d3ed6028452b3",
       "version_major": 2,
       "version_minor": 0
      },
      "text/plain": [
       "Training Step:   0%|          | 0/143 [00:00<?, ?it/s]"
      ]
     },
     "metadata": {},
     "output_type": "display_data"
    },
    {
     "name": "stdout",
     "output_type": "stream",
     "text": [
      "Finished Epoch 221: | Train Loss: 0.10256 | Val Loss: 0.00000 | Train Acc: 0.000| Val Acc: 0.000\n",
      "Epoch 222:\n"
     ]
    },
    {
     "data": {
      "application/vnd.jupyter.widget-view+json": {
       "model_id": "c0545de07eb447449717a510136113a5",
       "version_major": 2,
       "version_minor": 0
      },
      "text/plain": [
       "Training Step:   0%|          | 0/143 [00:00<?, ?it/s]"
      ]
     },
     "metadata": {},
     "output_type": "display_data"
    },
    {
     "name": "stdout",
     "output_type": "stream",
     "text": [
      "Finished Epoch 222: | Train Loss: 0.10870 | Val Loss: 0.00000 | Train Acc: 0.000| Val Acc: 0.000\n",
      "Epoch 223:\n"
     ]
    },
    {
     "data": {
      "application/vnd.jupyter.widget-view+json": {
       "model_id": "460fff35133c4219b6db086e558afe46",
       "version_major": 2,
       "version_minor": 0
      },
      "text/plain": [
       "Training Step:   0%|          | 0/143 [00:00<?, ?it/s]"
      ]
     },
     "metadata": {},
     "output_type": "display_data"
    },
    {
     "name": "stdout",
     "output_type": "stream",
     "text": [
      "Finished Epoch 223: | Train Loss: 0.11676 | Val Loss: 0.00000 | Train Acc: 0.000| Val Acc: 0.000\n",
      "Epoch 224:\n"
     ]
    },
    {
     "data": {
      "application/vnd.jupyter.widget-view+json": {
       "model_id": "079678fbd18440eb8653b62748778541",
       "version_major": 2,
       "version_minor": 0
      },
      "text/plain": [
       "Training Step:   0%|          | 0/143 [00:00<?, ?it/s]"
      ]
     },
     "metadata": {},
     "output_type": "display_data"
    },
    {
     "name": "stdout",
     "output_type": "stream",
     "text": [
      "Finished Epoch 224: | Train Loss: 0.10376 | Val Loss: 0.00000 | Train Acc: 0.000| Val Acc: 0.000\n",
      "Epoch 225:\n"
     ]
    },
    {
     "data": {
      "application/vnd.jupyter.widget-view+json": {
       "model_id": "5d756d815d434de5956717c43faec5ca",
       "version_major": 2,
       "version_minor": 0
      },
      "text/plain": [
       "Training Step:   0%|          | 0/143 [00:00<?, ?it/s]"
      ]
     },
     "metadata": {},
     "output_type": "display_data"
    },
    {
     "name": "stdout",
     "output_type": "stream",
     "text": [
      "Finished Epoch 225: | Train Loss: 0.10879 | Val Loss: 0.00000 | Train Acc: 0.000| Val Acc: 0.000\n",
      "Epoch 226:\n"
     ]
    },
    {
     "data": {
      "application/vnd.jupyter.widget-view+json": {
       "model_id": "2d3c521692a44eb28254ce13a72df145",
       "version_major": 2,
       "version_minor": 0
      },
      "text/plain": [
       "Training Step:   0%|          | 0/143 [00:00<?, ?it/s]"
      ]
     },
     "metadata": {},
     "output_type": "display_data"
    },
    {
     "name": "stdout",
     "output_type": "stream",
     "text": [
      "Finished Epoch 226: | Train Loss: 0.11540 | Val Loss: 0.00000 | Train Acc: 0.000| Val Acc: 0.000\n",
      "Epoch 227:\n"
     ]
    },
    {
     "data": {
      "application/vnd.jupyter.widget-view+json": {
       "model_id": "cf6328912ae64ae38297ae41c75d4176",
       "version_major": 2,
       "version_minor": 0
      },
      "text/plain": [
       "Training Step:   0%|          | 0/143 [00:00<?, ?it/s]"
      ]
     },
     "metadata": {},
     "output_type": "display_data"
    },
    {
     "name": "stdout",
     "output_type": "stream",
     "text": [
      "Finished Epoch 227: | Train Loss: 0.11903 | Val Loss: 0.00000 | Train Acc: 0.000| Val Acc: 0.000\n",
      "Epoch 228:\n"
     ]
    },
    {
     "data": {
      "application/vnd.jupyter.widget-view+json": {
       "model_id": "94135f44483e489fa48915c961973920",
       "version_major": 2,
       "version_minor": 0
      },
      "text/plain": [
       "Training Step:   0%|          | 0/143 [00:00<?, ?it/s]"
      ]
     },
     "metadata": {},
     "output_type": "display_data"
    },
    {
     "name": "stdout",
     "output_type": "stream",
     "text": [
      "Finished Epoch 228: | Train Loss: 0.11228 | Val Loss: 0.00000 | Train Acc: 0.000| Val Acc: 0.000\n",
      "Epoch 229:\n"
     ]
    },
    {
     "data": {
      "application/vnd.jupyter.widget-view+json": {
       "model_id": "3d298bac65aa4e0f80236a4d110124f4",
       "version_major": 2,
       "version_minor": 0
      },
      "text/plain": [
       "Training Step:   0%|          | 0/143 [00:00<?, ?it/s]"
      ]
     },
     "metadata": {},
     "output_type": "display_data"
    },
    {
     "name": "stdout",
     "output_type": "stream",
     "text": [
      "Finished Epoch 229: | Train Loss: 0.10733 | Val Loss: 0.00000 | Train Acc: 0.000| Val Acc: 0.000\n",
      "Epoch 230:\n"
     ]
    },
    {
     "data": {
      "application/vnd.jupyter.widget-view+json": {
       "model_id": "54aac879ba9d4e499df8cd7dbe4a4ae5",
       "version_major": 2,
       "version_minor": 0
      },
      "text/plain": [
       "Training Step:   0%|          | 0/143 [00:00<?, ?it/s]"
      ]
     },
     "metadata": {},
     "output_type": "display_data"
    },
    {
     "name": "stdout",
     "output_type": "stream",
     "text": [
      "Finished Epoch 230: | Train Loss: 0.10213 | Val Loss: 0.00000 | Train Acc: 0.000| Val Acc: 0.000\n",
      "Epoch 231:\n"
     ]
    },
    {
     "data": {
      "application/vnd.jupyter.widget-view+json": {
       "model_id": "aeabdb32002a4adbbc9334f960a3e384",
       "version_major": 2,
       "version_minor": 0
      },
      "text/plain": [
       "Training Step:   0%|          | 0/143 [00:00<?, ?it/s]"
      ]
     },
     "metadata": {},
     "output_type": "display_data"
    },
    {
     "name": "stdout",
     "output_type": "stream",
     "text": [
      "Finished Epoch 231: | Train Loss: 0.10282 | Val Loss: 0.00000 | Train Acc: 0.000| Val Acc: 0.000\n",
      "Epoch 232:\n"
     ]
    },
    {
     "data": {
      "application/vnd.jupyter.widget-view+json": {
       "model_id": "eab6ecd7f0274bc883083776ad650165",
       "version_major": 2,
       "version_minor": 0
      },
      "text/plain": [
       "Training Step:   0%|          | 0/143 [00:00<?, ?it/s]"
      ]
     },
     "metadata": {},
     "output_type": "display_data"
    },
    {
     "name": "stdout",
     "output_type": "stream",
     "text": [
      "Finished Epoch 232: | Train Loss: 0.09964 | Val Loss: 0.00000 | Train Acc: 0.000| Val Acc: 0.000\n",
      "Epoch 233:\n"
     ]
    },
    {
     "data": {
      "application/vnd.jupyter.widget-view+json": {
       "model_id": "a989f7c620e54f089732ad4e0620cf05",
       "version_major": 2,
       "version_minor": 0
      },
      "text/plain": [
       "Training Step:   0%|          | 0/143 [00:00<?, ?it/s]"
      ]
     },
     "metadata": {},
     "output_type": "display_data"
    },
    {
     "name": "stdout",
     "output_type": "stream",
     "text": [
      "Finished Epoch 233: | Train Loss: 0.09885 | Val Loss: 0.00000 | Train Acc: 0.000| Val Acc: 0.000\n",
      "Epoch 234:\n"
     ]
    },
    {
     "data": {
      "application/vnd.jupyter.widget-view+json": {
       "model_id": "306f93ddb8314aa588cd3046965b9a4c",
       "version_major": 2,
       "version_minor": 0
      },
      "text/plain": [
       "Training Step:   0%|          | 0/143 [00:00<?, ?it/s]"
      ]
     },
     "metadata": {},
     "output_type": "display_data"
    },
    {
     "name": "stdout",
     "output_type": "stream",
     "text": [
      "Finished Epoch 234: | Train Loss: 0.09787 | Val Loss: 0.00000 | Train Acc: 0.000| Val Acc: 0.000\n",
      "Epoch 235:\n"
     ]
    },
    {
     "data": {
      "application/vnd.jupyter.widget-view+json": {
       "model_id": "0d3872a3fc2543d1a0925f499436c8ed",
       "version_major": 2,
       "version_minor": 0
      },
      "text/plain": [
       "Training Step:   0%|          | 0/143 [00:00<?, ?it/s]"
      ]
     },
     "metadata": {},
     "output_type": "display_data"
    },
    {
     "name": "stdout",
     "output_type": "stream",
     "text": [
      "Finished Epoch 235: | Train Loss: 0.09828 | Val Loss: 0.00000 | Train Acc: 0.000| Val Acc: 0.000\n",
      "Epoch 236:\n"
     ]
    },
    {
     "data": {
      "application/vnd.jupyter.widget-view+json": {
       "model_id": "41fcab274e8b40b5b4def62723a97ef5",
       "version_major": 2,
       "version_minor": 0
      },
      "text/plain": [
       "Training Step:   0%|          | 0/143 [00:00<?, ?it/s]"
      ]
     },
     "metadata": {},
     "output_type": "display_data"
    },
    {
     "name": "stdout",
     "output_type": "stream",
     "text": [
      "Finished Epoch 236: | Train Loss: 0.09785 | Val Loss: 0.00000 | Train Acc: 0.000| Val Acc: 0.000\n",
      "Epoch 237:\n"
     ]
    },
    {
     "data": {
      "application/vnd.jupyter.widget-view+json": {
       "model_id": "92491b4f19884f3ea1957ab040aa8e66",
       "version_major": 2,
       "version_minor": 0
      },
      "text/plain": [
       "Training Step:   0%|          | 0/143 [00:00<?, ?it/s]"
      ]
     },
     "metadata": {},
     "output_type": "display_data"
    },
    {
     "name": "stdout",
     "output_type": "stream",
     "text": [
      "Finished Epoch 237: | Train Loss: 0.09980 | Val Loss: 0.00000 | Train Acc: 0.000| Val Acc: 0.000\n",
      "Epoch 238:\n"
     ]
    },
    {
     "data": {
      "application/vnd.jupyter.widget-view+json": {
       "model_id": "c12cc05fc1164a38bcb4558c0899f668",
       "version_major": 2,
       "version_minor": 0
      },
      "text/plain": [
       "Training Step:   0%|          | 0/143 [00:00<?, ?it/s]"
      ]
     },
     "metadata": {},
     "output_type": "display_data"
    },
    {
     "name": "stdout",
     "output_type": "stream",
     "text": [
      "Finished Epoch 238: | Train Loss: 0.09860 | Val Loss: 0.00000 | Train Acc: 0.000| Val Acc: 0.000\n",
      "Epoch 239:\n"
     ]
    },
    {
     "data": {
      "application/vnd.jupyter.widget-view+json": {
       "model_id": "d1525afcfb624665ab72c734520b1ef0",
       "version_major": 2,
       "version_minor": 0
      },
      "text/plain": [
       "Training Step:   0%|          | 0/143 [00:00<?, ?it/s]"
      ]
     },
     "metadata": {},
     "output_type": "display_data"
    },
    {
     "name": "stdout",
     "output_type": "stream",
     "text": [
      "Finished Epoch 239: | Train Loss: 0.10116 | Val Loss: 0.00000 | Train Acc: 0.000| Val Acc: 0.000\n",
      "Epoch 240:\n"
     ]
    },
    {
     "data": {
      "application/vnd.jupyter.widget-view+json": {
       "model_id": "fc4ae620df244cb68024bad072a11407",
       "version_major": 2,
       "version_minor": 0
      },
      "text/plain": [
       "Training Step:   0%|          | 0/143 [00:00<?, ?it/s]"
      ]
     },
     "metadata": {},
     "output_type": "display_data"
    },
    {
     "name": "stdout",
     "output_type": "stream",
     "text": [
      "Finished Epoch 240: | Train Loss: 0.10055 | Val Loss: 0.00000 | Train Acc: 0.000| Val Acc: 0.000\n",
      "Epoch 241:\n"
     ]
    },
    {
     "data": {
      "application/vnd.jupyter.widget-view+json": {
       "model_id": "de6351115cab471ba3970555138fa5f7",
       "version_major": 2,
       "version_minor": 0
      },
      "text/plain": [
       "Training Step:   0%|          | 0/143 [00:00<?, ?it/s]"
      ]
     },
     "metadata": {},
     "output_type": "display_data"
    },
    {
     "name": "stdout",
     "output_type": "stream",
     "text": [
      "Finished Epoch 241: | Train Loss: 0.09940 | Val Loss: 0.00000 | Train Acc: 0.000| Val Acc: 0.000\n",
      "Epoch 242:\n"
     ]
    },
    {
     "data": {
      "application/vnd.jupyter.widget-view+json": {
       "model_id": "34b35b17ab3f4def9adb01f1870698c7",
       "version_major": 2,
       "version_minor": 0
      },
      "text/plain": [
       "Training Step:   0%|          | 0/143 [00:00<?, ?it/s]"
      ]
     },
     "metadata": {},
     "output_type": "display_data"
    },
    {
     "name": "stdout",
     "output_type": "stream",
     "text": [
      "Finished Epoch 242: | Train Loss: 0.09742 | Val Loss: 0.00000 | Train Acc: 0.000| Val Acc: 0.000\n",
      "Epoch 243:\n"
     ]
    },
    {
     "data": {
      "application/vnd.jupyter.widget-view+json": {
       "model_id": "0188d8a4f4c6413f8a71a4ab85480270",
       "version_major": 2,
       "version_minor": 0
      },
      "text/plain": [
       "Training Step:   0%|          | 0/143 [00:00<?, ?it/s]"
      ]
     },
     "metadata": {},
     "output_type": "display_data"
    },
    {
     "name": "stdout",
     "output_type": "stream",
     "text": [
      "Finished Epoch 243: | Train Loss: 0.09763 | Val Loss: 0.00000 | Train Acc: 0.000| Val Acc: 0.000\n",
      "Epoch 244:\n"
     ]
    },
    {
     "data": {
      "application/vnd.jupyter.widget-view+json": {
       "model_id": "e1b6b22af0184001ab7f1640e9f9d8c4",
       "version_major": 2,
       "version_minor": 0
      },
      "text/plain": [
       "Training Step:   0%|          | 0/143 [00:00<?, ?it/s]"
      ]
     },
     "metadata": {},
     "output_type": "display_data"
    },
    {
     "name": "stdout",
     "output_type": "stream",
     "text": [
      "Finished Epoch 244: | Train Loss: 0.09694 | Val Loss: 0.00000 | Train Acc: 0.000| Val Acc: 0.000\n",
      "Epoch 245:\n"
     ]
    },
    {
     "data": {
      "application/vnd.jupyter.widget-view+json": {
       "model_id": "c398f643cf64415c9a33a3ba3f030878",
       "version_major": 2,
       "version_minor": 0
      },
      "text/plain": [
       "Training Step:   0%|          | 0/143 [00:00<?, ?it/s]"
      ]
     },
     "metadata": {},
     "output_type": "display_data"
    },
    {
     "name": "stdout",
     "output_type": "stream",
     "text": [
      "Finished Epoch 245: | Train Loss: 0.09890 | Val Loss: 0.00000 | Train Acc: 0.000| Val Acc: 0.000\n",
      "Epoch 246:\n"
     ]
    },
    {
     "data": {
      "application/vnd.jupyter.widget-view+json": {
       "model_id": "cf9e1b689c7a4af3baecbb02bb5b33db",
       "version_major": 2,
       "version_minor": 0
      },
      "text/plain": [
       "Training Step:   0%|          | 0/143 [00:00<?, ?it/s]"
      ]
     },
     "metadata": {},
     "output_type": "display_data"
    },
    {
     "name": "stdout",
     "output_type": "stream",
     "text": [
      "Finished Epoch 246: | Train Loss: 0.09821 | Val Loss: 0.00000 | Train Acc: 0.000| Val Acc: 0.000\n",
      "Epoch 247:\n"
     ]
    },
    {
     "data": {
      "application/vnd.jupyter.widget-view+json": {
       "model_id": "80c7c9f5d1434ac7a5dfd601a7841384",
       "version_major": 2,
       "version_minor": 0
      },
      "text/plain": [
       "Training Step:   0%|          | 0/143 [00:00<?, ?it/s]"
      ]
     },
     "metadata": {},
     "output_type": "display_data"
    },
    {
     "name": "stdout",
     "output_type": "stream",
     "text": [
      "Finished Epoch 247: | Train Loss: 0.09937 | Val Loss: 0.00000 | Train Acc: 0.000| Val Acc: 0.000\n",
      "Epoch 248:\n"
     ]
    },
    {
     "data": {
      "application/vnd.jupyter.widget-view+json": {
       "model_id": "e6b0b4f1b44a4b5d81c64253e9ad31be",
       "version_major": 2,
       "version_minor": 0
      },
      "text/plain": [
       "Training Step:   0%|          | 0/143 [00:00<?, ?it/s]"
      ]
     },
     "metadata": {},
     "output_type": "display_data"
    },
    {
     "name": "stdout",
     "output_type": "stream",
     "text": [
      "Finished Epoch 248: | Train Loss: 0.09986 | Val Loss: 0.00000 | Train Acc: 0.000| Val Acc: 0.000\n",
      "Epoch 249:\n"
     ]
    },
    {
     "data": {
      "application/vnd.jupyter.widget-view+json": {
       "model_id": "537e43e39a1843e4a2d563f2c36114a1",
       "version_major": 2,
       "version_minor": 0
      },
      "text/plain": [
       "Training Step:   0%|          | 0/143 [00:00<?, ?it/s]"
      ]
     },
     "metadata": {},
     "output_type": "display_data"
    },
    {
     "name": "stdout",
     "output_type": "stream",
     "text": [
      "Finished Epoch 249: | Train Loss: 0.09799 | Val Loss: 0.00000 | Train Acc: 0.000| Val Acc: 0.000\n",
      "Epoch 250:\n"
     ]
    },
    {
     "data": {
      "application/vnd.jupyter.widget-view+json": {
       "model_id": "255582a42e9b49c6968b84aa0ff778bd",
       "version_major": 2,
       "version_minor": 0
      },
      "text/plain": [
       "Training Step:   0%|          | 0/143 [00:00<?, ?it/s]"
      ]
     },
     "metadata": {},
     "output_type": "display_data"
    },
    {
     "name": "stdout",
     "output_type": "stream",
     "text": [
      "Finished Epoch 250: | Train Loss: 0.09706 | Val Loss: 0.00000 | Train Acc: 0.000| Val Acc: 0.000\n",
      "Epoch 251:\n"
     ]
    },
    {
     "data": {
      "application/vnd.jupyter.widget-view+json": {
       "model_id": "54c732ff456f485484727bbe82966012",
       "version_major": 2,
       "version_minor": 0
      },
      "text/plain": [
       "Training Step:   0%|          | 0/143 [00:00<?, ?it/s]"
      ]
     },
     "metadata": {},
     "output_type": "display_data"
    },
    {
     "name": "stdout",
     "output_type": "stream",
     "text": [
      "Finished Epoch 251: | Train Loss: 0.10178 | Val Loss: 0.00000 | Train Acc: 0.000| Val Acc: 0.000\n",
      "Epoch 252:\n"
     ]
    },
    {
     "data": {
      "application/vnd.jupyter.widget-view+json": {
       "model_id": "3505809957c54699ba3a76ea7367ae38",
       "version_major": 2,
       "version_minor": 0
      },
      "text/plain": [
       "Training Step:   0%|          | 0/143 [00:00<?, ?it/s]"
      ]
     },
     "metadata": {},
     "output_type": "display_data"
    },
    {
     "name": "stdout",
     "output_type": "stream",
     "text": [
      "Finished Epoch 252: | Train Loss: 0.09756 | Val Loss: 0.00000 | Train Acc: 0.000| Val Acc: 0.000\n",
      "Epoch 253:\n"
     ]
    },
    {
     "data": {
      "application/vnd.jupyter.widget-view+json": {
       "model_id": "7c01d6ae19e442028f89d0381881e3ac",
       "version_major": 2,
       "version_minor": 0
      },
      "text/plain": [
       "Training Step:   0%|          | 0/143 [00:00<?, ?it/s]"
      ]
     },
     "metadata": {},
     "output_type": "display_data"
    },
    {
     "name": "stdout",
     "output_type": "stream",
     "text": [
      "Finished Epoch 253: | Train Loss: 0.09997 | Val Loss: 0.00000 | Train Acc: 0.000| Val Acc: 0.000\n",
      "Epoch 254:\n"
     ]
    },
    {
     "data": {
      "application/vnd.jupyter.widget-view+json": {
       "model_id": "fd7ccc3f13ac4ded97b96ffb58c3bce3",
       "version_major": 2,
       "version_minor": 0
      },
      "text/plain": [
       "Training Step:   0%|          | 0/143 [00:00<?, ?it/s]"
      ]
     },
     "metadata": {},
     "output_type": "display_data"
    },
    {
     "name": "stdout",
     "output_type": "stream",
     "text": [
      "Finished Epoch 254: | Train Loss: 0.09657 | Val Loss: 0.00000 | Train Acc: 0.000| Val Acc: 0.000\n",
      "Epoch 255:\n"
     ]
    },
    {
     "data": {
      "application/vnd.jupyter.widget-view+json": {
       "model_id": "4d5eb074aa6b47b7984a24cd6f1c8686",
       "version_major": 2,
       "version_minor": 0
      },
      "text/plain": [
       "Training Step:   0%|          | 0/143 [00:00<?, ?it/s]"
      ]
     },
     "metadata": {},
     "output_type": "display_data"
    },
    {
     "name": "stdout",
     "output_type": "stream",
     "text": [
      "Finished Epoch 255: | Train Loss: 0.09720 | Val Loss: 0.00000 | Train Acc: 0.000| Val Acc: 0.000\n",
      "Epoch 256:\n"
     ]
    },
    {
     "data": {
      "application/vnd.jupyter.widget-view+json": {
       "model_id": "cb89594f91db4715bc64def1fb26b590",
       "version_major": 2,
       "version_minor": 0
      },
      "text/plain": [
       "Training Step:   0%|          | 0/143 [00:00<?, ?it/s]"
      ]
     },
     "metadata": {},
     "output_type": "display_data"
    },
    {
     "name": "stdout",
     "output_type": "stream",
     "text": [
      "Finished Epoch 256: | Train Loss: 0.09600 | Val Loss: 0.00000 | Train Acc: 0.000| Val Acc: 0.000\n",
      "Epoch 257:\n"
     ]
    },
    {
     "data": {
      "application/vnd.jupyter.widget-view+json": {
       "model_id": "a81aa2fb2c6e4820bd7a16205786e489",
       "version_major": 2,
       "version_minor": 0
      },
      "text/plain": [
       "Training Step:   0%|          | 0/143 [00:00<?, ?it/s]"
      ]
     },
     "metadata": {},
     "output_type": "display_data"
    },
    {
     "name": "stdout",
     "output_type": "stream",
     "text": [
      "Finished Epoch 257: | Train Loss: 0.09698 | Val Loss: 0.00000 | Train Acc: 0.000| Val Acc: 0.000\n",
      "Epoch 258:\n"
     ]
    },
    {
     "data": {
      "application/vnd.jupyter.widget-view+json": {
       "model_id": "0d41e57b96844fe89d98006ec3d5b6bf",
       "version_major": 2,
       "version_minor": 0
      },
      "text/plain": [
       "Training Step:   0%|          | 0/143 [00:00<?, ?it/s]"
      ]
     },
     "metadata": {},
     "output_type": "display_data"
    },
    {
     "name": "stdout",
     "output_type": "stream",
     "text": [
      "Finished Epoch 258: | Train Loss: 0.09516 | Val Loss: 0.00000 | Train Acc: 0.000| Val Acc: 0.000\n",
      "Epoch 259:\n"
     ]
    },
    {
     "data": {
      "application/vnd.jupyter.widget-view+json": {
       "model_id": "4290cd7bcd2c4c70a5e29c74818c21d5",
       "version_major": 2,
       "version_minor": 0
      },
      "text/plain": [
       "Training Step:   0%|          | 0/143 [00:00<?, ?it/s]"
      ]
     },
     "metadata": {},
     "output_type": "display_data"
    },
    {
     "name": "stdout",
     "output_type": "stream",
     "text": [
      "Finished Epoch 259: | Train Loss: 0.09586 | Val Loss: 0.00000 | Train Acc: 0.000| Val Acc: 0.000\n",
      "Epoch 260:\n"
     ]
    },
    {
     "data": {
      "application/vnd.jupyter.widget-view+json": {
       "model_id": "8f1a853661bf4eea93c086cd9112ff35",
       "version_major": 2,
       "version_minor": 0
      },
      "text/plain": [
       "Training Step:   0%|          | 0/143 [00:00<?, ?it/s]"
      ]
     },
     "metadata": {},
     "output_type": "display_data"
    },
    {
     "name": "stdout",
     "output_type": "stream",
     "text": [
      "Finished Epoch 260: | Train Loss: 0.09580 | Val Loss: 0.00000 | Train Acc: 0.000| Val Acc: 0.000\n",
      "Epoch 261:\n"
     ]
    },
    {
     "data": {
      "application/vnd.jupyter.widget-view+json": {
       "model_id": "411083009cb944ed8435d87bfa7a8236",
       "version_major": 2,
       "version_minor": 0
      },
      "text/plain": [
       "Training Step:   0%|          | 0/143 [00:00<?, ?it/s]"
      ]
     },
     "metadata": {},
     "output_type": "display_data"
    },
    {
     "name": "stdout",
     "output_type": "stream",
     "text": [
      "Finished Epoch 261: | Train Loss: 0.10024 | Val Loss: 0.00000 | Train Acc: 0.000| Val Acc: 0.000\n",
      "Epoch 262:\n"
     ]
    },
    {
     "data": {
      "application/vnd.jupyter.widget-view+json": {
       "model_id": "6ce1cf9f35f44abfa4b0af6967a7fc4c",
       "version_major": 2,
       "version_minor": 0
      },
      "text/plain": [
       "Training Step:   0%|          | 0/143 [00:00<?, ?it/s]"
      ]
     },
     "metadata": {},
     "output_type": "display_data"
    },
    {
     "name": "stdout",
     "output_type": "stream",
     "text": [
      "Finished Epoch 262: | Train Loss: 0.10083 | Val Loss: 0.00000 | Train Acc: 0.000| Val Acc: 0.000\n",
      "Epoch 263:\n"
     ]
    },
    {
     "data": {
      "application/vnd.jupyter.widget-view+json": {
       "model_id": "8c28c17829f64102975b474da0337cbb",
       "version_major": 2,
       "version_minor": 0
      },
      "text/plain": [
       "Training Step:   0%|          | 0/143 [00:00<?, ?it/s]"
      ]
     },
     "metadata": {},
     "output_type": "display_data"
    },
    {
     "name": "stdout",
     "output_type": "stream",
     "text": [
      "Finished Epoch 263: | Train Loss: 0.10102 | Val Loss: 0.00000 | Train Acc: 0.000| Val Acc: 0.000\n",
      "Epoch 264:\n"
     ]
    },
    {
     "data": {
      "application/vnd.jupyter.widget-view+json": {
       "model_id": "d8fd88a49f4c4b64a39e2b0a15629b2b",
       "version_major": 2,
       "version_minor": 0
      },
      "text/plain": [
       "Training Step:   0%|          | 0/143 [00:00<?, ?it/s]"
      ]
     },
     "metadata": {},
     "output_type": "display_data"
    },
    {
     "name": "stdout",
     "output_type": "stream",
     "text": [
      "Finished Epoch 264: | Train Loss: 0.09828 | Val Loss: 0.00000 | Train Acc: 0.000| Val Acc: 0.000\n",
      "Epoch 265:\n"
     ]
    },
    {
     "data": {
      "application/vnd.jupyter.widget-view+json": {
       "model_id": "3cd4541d8f804c6fb2f2252a6ea8a42d",
       "version_major": 2,
       "version_minor": 0
      },
      "text/plain": [
       "Training Step:   0%|          | 0/143 [00:00<?, ?it/s]"
      ]
     },
     "metadata": {},
     "output_type": "display_data"
    },
    {
     "name": "stdout",
     "output_type": "stream",
     "text": [
      "Finished Epoch 265: | Train Loss: 0.09598 | Val Loss: 0.00000 | Train Acc: 0.000| Val Acc: 0.000\n",
      "Epoch 266:\n"
     ]
    },
    {
     "data": {
      "application/vnd.jupyter.widget-view+json": {
       "model_id": "53864c1835fe4e6884b71393c62f7dfc",
       "version_major": 2,
       "version_minor": 0
      },
      "text/plain": [
       "Training Step:   0%|          | 0/143 [00:00<?, ?it/s]"
      ]
     },
     "metadata": {},
     "output_type": "display_data"
    },
    {
     "name": "stdout",
     "output_type": "stream",
     "text": [
      "Finished Epoch 266: | Train Loss: 0.09621 | Val Loss: 0.00000 | Train Acc: 0.000| Val Acc: 0.000\n",
      "Epoch 267:\n"
     ]
    },
    {
     "data": {
      "application/vnd.jupyter.widget-view+json": {
       "model_id": "c26797642ef24c958037183ea57e5b50",
       "version_major": 2,
       "version_minor": 0
      },
      "text/plain": [
       "Training Step:   0%|          | 0/143 [00:00<?, ?it/s]"
      ]
     },
     "metadata": {},
     "output_type": "display_data"
    },
    {
     "name": "stdout",
     "output_type": "stream",
     "text": [
      "Finished Epoch 267: | Train Loss: 0.09953 | Val Loss: 0.00000 | Train Acc: 0.000| Val Acc: 0.000\n",
      "Epoch 268:\n"
     ]
    },
    {
     "data": {
      "application/vnd.jupyter.widget-view+json": {
       "model_id": "7c37d66ea6a84e01804d4b4378930326",
       "version_major": 2,
       "version_minor": 0
      },
      "text/plain": [
       "Training Step:   0%|          | 0/143 [00:00<?, ?it/s]"
      ]
     },
     "metadata": {},
     "output_type": "display_data"
    },
    {
     "name": "stdout",
     "output_type": "stream",
     "text": [
      "Finished Epoch 268: | Train Loss: 0.10256 | Val Loss: 0.00000 | Train Acc: 0.000| Val Acc: 0.000\n",
      "Epoch 269:\n"
     ]
    },
    {
     "data": {
      "application/vnd.jupyter.widget-view+json": {
       "model_id": "c91663c3e3e34e9c8bef22b0f546df03",
       "version_major": 2,
       "version_minor": 0
      },
      "text/plain": [
       "Training Step:   0%|          | 0/143 [00:00<?, ?it/s]"
      ]
     },
     "metadata": {},
     "output_type": "display_data"
    },
    {
     "name": "stdout",
     "output_type": "stream",
     "text": [
      "Finished Epoch 269: | Train Loss: 0.09486 | Val Loss: 0.00000 | Train Acc: 0.000| Val Acc: 0.000\n",
      "Epoch 270:\n"
     ]
    },
    {
     "data": {
      "application/vnd.jupyter.widget-view+json": {
       "model_id": "b45634f796174389ab33ea7083b14c95",
       "version_major": 2,
       "version_minor": 0
      },
      "text/plain": [
       "Training Step:   0%|          | 0/143 [00:00<?, ?it/s]"
      ]
     },
     "metadata": {},
     "output_type": "display_data"
    },
    {
     "name": "stdout",
     "output_type": "stream",
     "text": [
      "Finished Epoch 270: | Train Loss: 0.09686 | Val Loss: 0.00000 | Train Acc: 0.000| Val Acc: 0.000\n",
      "Epoch 271:\n"
     ]
    },
    {
     "data": {
      "application/vnd.jupyter.widget-view+json": {
       "model_id": "8f3aafbc15f644aaa217d72b1513dd13",
       "version_major": 2,
       "version_minor": 0
      },
      "text/plain": [
       "Training Step:   0%|          | 0/143 [00:00<?, ?it/s]"
      ]
     },
     "metadata": {},
     "output_type": "display_data"
    },
    {
     "name": "stdout",
     "output_type": "stream",
     "text": [
      "Finished Epoch 271: | Train Loss: 0.09737 | Val Loss: 0.00000 | Train Acc: 0.000| Val Acc: 0.000\n",
      "Epoch 272:\n"
     ]
    },
    {
     "data": {
      "application/vnd.jupyter.widget-view+json": {
       "model_id": "9542fc31775445ef8113651c6baac05c",
       "version_major": 2,
       "version_minor": 0
      },
      "text/plain": [
       "Training Step:   0%|          | 0/143 [00:00<?, ?it/s]"
      ]
     },
     "metadata": {},
     "output_type": "display_data"
    },
    {
     "name": "stdout",
     "output_type": "stream",
     "text": [
      "Finished Epoch 272: | Train Loss: 0.09867 | Val Loss: 0.00000 | Train Acc: 0.000| Val Acc: 0.000\n",
      "Epoch 273:\n"
     ]
    },
    {
     "data": {
      "application/vnd.jupyter.widget-view+json": {
       "model_id": "2fb5d601fef74dc6ad5eb8cf58a75f0e",
       "version_major": 2,
       "version_minor": 0
      },
      "text/plain": [
       "Training Step:   0%|          | 0/143 [00:00<?, ?it/s]"
      ]
     },
     "metadata": {},
     "output_type": "display_data"
    },
    {
     "name": "stdout",
     "output_type": "stream",
     "text": [
      "Finished Epoch 273: | Train Loss: 0.09545 | Val Loss: 0.00000 | Train Acc: 0.000| Val Acc: 0.000\n",
      "Epoch 274:\n"
     ]
    },
    {
     "data": {
      "application/vnd.jupyter.widget-view+json": {
       "model_id": "73f54220bac84965a67284f51da9b6b1",
       "version_major": 2,
       "version_minor": 0
      },
      "text/plain": [
       "Training Step:   0%|          | 0/143 [00:00<?, ?it/s]"
      ]
     },
     "metadata": {},
     "output_type": "display_data"
    },
    {
     "name": "stdout",
     "output_type": "stream",
     "text": [
      "Finished Epoch 274: | Train Loss: 0.09664 | Val Loss: 0.00000 | Train Acc: 0.000| Val Acc: 0.000\n",
      "Epoch 275:\n"
     ]
    },
    {
     "data": {
      "application/vnd.jupyter.widget-view+json": {
       "model_id": "f769347537b4402d9c6e5267d69c9fd9",
       "version_major": 2,
       "version_minor": 0
      },
      "text/plain": [
       "Training Step:   0%|          | 0/143 [00:00<?, ?it/s]"
      ]
     },
     "metadata": {},
     "output_type": "display_data"
    },
    {
     "name": "stdout",
     "output_type": "stream",
     "text": [
      "Finished Epoch 275: | Train Loss: 0.09497 | Val Loss: 0.00000 | Train Acc: 0.000| Val Acc: 0.000\n",
      "Epoch 276:\n"
     ]
    },
    {
     "data": {
      "application/vnd.jupyter.widget-view+json": {
       "model_id": "1b90f9b7d7164ab1a28d0f65c4ec854f",
       "version_major": 2,
       "version_minor": 0
      },
      "text/plain": [
       "Training Step:   0%|          | 0/143 [00:00<?, ?it/s]"
      ]
     },
     "metadata": {},
     "output_type": "display_data"
    },
    {
     "name": "stdout",
     "output_type": "stream",
     "text": [
      "Finished Epoch 276: | Train Loss: 0.09895 | Val Loss: 0.00000 | Train Acc: 0.000| Val Acc: 0.000\n",
      "Epoch 277:\n"
     ]
    },
    {
     "data": {
      "application/vnd.jupyter.widget-view+json": {
       "model_id": "f92df93813fd40c396acdfdf82e1c5f0",
       "version_major": 2,
       "version_minor": 0
      },
      "text/plain": [
       "Training Step:   0%|          | 0/143 [00:00<?, ?it/s]"
      ]
     },
     "metadata": {},
     "output_type": "display_data"
    },
    {
     "name": "stdout",
     "output_type": "stream",
     "text": [
      "Finished Epoch 277: | Train Loss: 0.09723 | Val Loss: 0.00000 | Train Acc: 0.000| Val Acc: 0.000\n",
      "Epoch 278:\n"
     ]
    },
    {
     "data": {
      "application/vnd.jupyter.widget-view+json": {
       "model_id": "3a153ae5b9df4df8a60185d01a86fb80",
       "version_major": 2,
       "version_minor": 0
      },
      "text/plain": [
       "Training Step:   0%|          | 0/143 [00:00<?, ?it/s]"
      ]
     },
     "metadata": {},
     "output_type": "display_data"
    },
    {
     "name": "stdout",
     "output_type": "stream",
     "text": [
      "Finished Epoch 278: | Train Loss: 0.10088 | Val Loss: 0.00000 | Train Acc: 0.000| Val Acc: 0.000\n",
      "Epoch 279:\n"
     ]
    },
    {
     "data": {
      "application/vnd.jupyter.widget-view+json": {
       "model_id": "4c04249558c143b581c5d2c6ebd64640",
       "version_major": 2,
       "version_minor": 0
      },
      "text/plain": [
       "Training Step:   0%|          | 0/143 [00:00<?, ?it/s]"
      ]
     },
     "metadata": {},
     "output_type": "display_data"
    },
    {
     "name": "stdout",
     "output_type": "stream",
     "text": [
      "Finished Epoch 279: | Train Loss: 0.09774 | Val Loss: 0.00000 | Train Acc: 0.000| Val Acc: 0.000\n",
      "Epoch 280:\n"
     ]
    },
    {
     "data": {
      "application/vnd.jupyter.widget-view+json": {
       "model_id": "66d93ccd77574acea31e8aefe4e7e71d",
       "version_major": 2,
       "version_minor": 0
      },
      "text/plain": [
       "Training Step:   0%|          | 0/143 [00:00<?, ?it/s]"
      ]
     },
     "metadata": {},
     "output_type": "display_data"
    },
    {
     "name": "stdout",
     "output_type": "stream",
     "text": [
      "Finished Epoch 280: | Train Loss: 0.09434 | Val Loss: 0.00000 | Train Acc: 0.000| Val Acc: 0.000\n",
      "Epoch 281:\n"
     ]
    },
    {
     "data": {
      "application/vnd.jupyter.widget-view+json": {
       "model_id": "97e014babcd34a7394f3c4f0c75be141",
       "version_major": 2,
       "version_minor": 0
      },
      "text/plain": [
       "Training Step:   0%|          | 0/143 [00:00<?, ?it/s]"
      ]
     },
     "metadata": {},
     "output_type": "display_data"
    },
    {
     "name": "stdout",
     "output_type": "stream",
     "text": [
      "Finished Epoch 281: | Train Loss: 0.09608 | Val Loss: 0.00000 | Train Acc: 0.000| Val Acc: 0.000\n",
      "Epoch 282:\n"
     ]
    },
    {
     "data": {
      "application/vnd.jupyter.widget-view+json": {
       "model_id": "707f40bb2a84427791f567a048be32fa",
       "version_major": 2,
       "version_minor": 0
      },
      "text/plain": [
       "Training Step:   0%|          | 0/143 [00:00<?, ?it/s]"
      ]
     },
     "metadata": {},
     "output_type": "display_data"
    },
    {
     "name": "stdout",
     "output_type": "stream",
     "text": [
      "Finished Epoch 282: | Train Loss: 0.09648 | Val Loss: 0.00000 | Train Acc: 0.000| Val Acc: 0.000\n",
      "Epoch 283:\n"
     ]
    },
    {
     "data": {
      "application/vnd.jupyter.widget-view+json": {
       "model_id": "52384742d1164ebabc6117649708dabd",
       "version_major": 2,
       "version_minor": 0
      },
      "text/plain": [
       "Training Step:   0%|          | 0/143 [00:00<?, ?it/s]"
      ]
     },
     "metadata": {},
     "output_type": "display_data"
    },
    {
     "name": "stdout",
     "output_type": "stream",
     "text": [
      "Finished Epoch 283: | Train Loss: 0.09389 | Val Loss: 0.00000 | Train Acc: 0.000| Val Acc: 0.000\n",
      "Epoch 284:\n"
     ]
    },
    {
     "data": {
      "application/vnd.jupyter.widget-view+json": {
       "model_id": "5fcc6667fc9f48849dd54d57b5537753",
       "version_major": 2,
       "version_minor": 0
      },
      "text/plain": [
       "Training Step:   0%|          | 0/143 [00:00<?, ?it/s]"
      ]
     },
     "metadata": {},
     "output_type": "display_data"
    },
    {
     "name": "stdout",
     "output_type": "stream",
     "text": [
      "Finished Epoch 284: | Train Loss: 0.09310 | Val Loss: 0.00000 | Train Acc: 0.000| Val Acc: 0.000\n",
      "Epoch 285:\n"
     ]
    },
    {
     "data": {
      "application/vnd.jupyter.widget-view+json": {
       "model_id": "b9c96c30c04149668e39675446050cf0",
       "version_major": 2,
       "version_minor": 0
      },
      "text/plain": [
       "Training Step:   0%|          | 0/143 [00:00<?, ?it/s]"
      ]
     },
     "metadata": {},
     "output_type": "display_data"
    },
    {
     "name": "stdout",
     "output_type": "stream",
     "text": [
      "Finished Epoch 285: | Train Loss: 0.09612 | Val Loss: 0.00000 | Train Acc: 0.000| Val Acc: 0.000\n",
      "Epoch 286:\n"
     ]
    },
    {
     "data": {
      "application/vnd.jupyter.widget-view+json": {
       "model_id": "2300d294ea344088b8ee49c3c65200da",
       "version_major": 2,
       "version_minor": 0
      },
      "text/plain": [
       "Training Step:   0%|          | 0/143 [00:00<?, ?it/s]"
      ]
     },
     "metadata": {},
     "output_type": "display_data"
    },
    {
     "name": "stdout",
     "output_type": "stream",
     "text": [
      "Finished Epoch 286: | Train Loss: 0.09746 | Val Loss: 0.00000 | Train Acc: 0.000| Val Acc: 0.000\n",
      "Epoch 287:\n"
     ]
    },
    {
     "data": {
      "application/vnd.jupyter.widget-view+json": {
       "model_id": "eab82a82ff1e49d7a9f218ff90daa37e",
       "version_major": 2,
       "version_minor": 0
      },
      "text/plain": [
       "Training Step:   0%|          | 0/143 [00:00<?, ?it/s]"
      ]
     },
     "metadata": {},
     "output_type": "display_data"
    },
    {
     "name": "stdout",
     "output_type": "stream",
     "text": [
      "Finished Epoch 287: | Train Loss: 0.11218 | Val Loss: 0.00000 | Train Acc: 0.000| Val Acc: 0.000\n",
      "Epoch 288:\n"
     ]
    },
    {
     "data": {
      "application/vnd.jupyter.widget-view+json": {
       "model_id": "25df07fef5284b55bcc9673510991784",
       "version_major": 2,
       "version_minor": 0
      },
      "text/plain": [
       "Training Step:   0%|          | 0/143 [00:00<?, ?it/s]"
      ]
     },
     "metadata": {},
     "output_type": "display_data"
    },
    {
     "name": "stdout",
     "output_type": "stream",
     "text": [
      "Finished Epoch 288: | Train Loss: 0.09783 | Val Loss: 0.00000 | Train Acc: 0.000| Val Acc: 0.000\n",
      "Epoch 289:\n"
     ]
    },
    {
     "data": {
      "application/vnd.jupyter.widget-view+json": {
       "model_id": "9fcdca03039a47e8acd450ff65fabd91",
       "version_major": 2,
       "version_minor": 0
      },
      "text/plain": [
       "Training Step:   0%|          | 0/143 [00:00<?, ?it/s]"
      ]
     },
     "metadata": {},
     "output_type": "display_data"
    },
    {
     "name": "stdout",
     "output_type": "stream",
     "text": [
      "Finished Epoch 289: | Train Loss: 0.09902 | Val Loss: 0.00000 | Train Acc: 0.000| Val Acc: 0.000\n",
      "Epoch 290:\n"
     ]
    },
    {
     "data": {
      "application/vnd.jupyter.widget-view+json": {
       "model_id": "7995b30f8efb42e1bdba3eb2ad87d0b0",
       "version_major": 2,
       "version_minor": 0
      },
      "text/plain": [
       "Training Step:   0%|          | 0/143 [00:00<?, ?it/s]"
      ]
     },
     "metadata": {},
     "output_type": "display_data"
    },
    {
     "name": "stdout",
     "output_type": "stream",
     "text": [
      "Finished Epoch 290: | Train Loss: 0.09911 | Val Loss: 0.00000 | Train Acc: 0.000| Val Acc: 0.000\n",
      "Epoch 291:\n"
     ]
    },
    {
     "data": {
      "application/vnd.jupyter.widget-view+json": {
       "model_id": "2bff7e641e1d4df5b96bce845a938284",
       "version_major": 2,
       "version_minor": 0
      },
      "text/plain": [
       "Training Step:   0%|          | 0/143 [00:00<?, ?it/s]"
      ]
     },
     "metadata": {},
     "output_type": "display_data"
    },
    {
     "name": "stdout",
     "output_type": "stream",
     "text": [
      "Finished Epoch 291: | Train Loss: 0.09438 | Val Loss: 0.00000 | Train Acc: 0.000| Val Acc: 0.000\n",
      "Epoch 292:\n"
     ]
    },
    {
     "data": {
      "application/vnd.jupyter.widget-view+json": {
       "model_id": "b6c6f759b7ee494784efe97dea5aa856",
       "version_major": 2,
       "version_minor": 0
      },
      "text/plain": [
       "Training Step:   0%|          | 0/143 [00:00<?, ?it/s]"
      ]
     },
     "metadata": {},
     "output_type": "display_data"
    },
    {
     "name": "stdout",
     "output_type": "stream",
     "text": [
      "Finished Epoch 292: | Train Loss: 0.09488 | Val Loss: 0.00000 | Train Acc: 0.000| Val Acc: 0.000\n",
      "Epoch 293:\n"
     ]
    },
    {
     "data": {
      "application/vnd.jupyter.widget-view+json": {
       "model_id": "760b98c378d04adc99a67cb0cf8410f4",
       "version_major": 2,
       "version_minor": 0
      },
      "text/plain": [
       "Training Step:   0%|          | 0/143 [00:00<?, ?it/s]"
      ]
     },
     "metadata": {},
     "output_type": "display_data"
    },
    {
     "name": "stdout",
     "output_type": "stream",
     "text": [
      "Finished Epoch 293: | Train Loss: 0.09423 | Val Loss: 0.00000 | Train Acc: 0.000| Val Acc: 0.000\n",
      "Epoch 294:\n"
     ]
    },
    {
     "data": {
      "application/vnd.jupyter.widget-view+json": {
       "model_id": "5904b23cb9094690b316a4de8d863d30",
       "version_major": 2,
       "version_minor": 0
      },
      "text/plain": [
       "Training Step:   0%|          | 0/143 [00:00<?, ?it/s]"
      ]
     },
     "metadata": {},
     "output_type": "display_data"
    },
    {
     "name": "stdout",
     "output_type": "stream",
     "text": [
      "Finished Epoch 294: | Train Loss: 0.09565 | Val Loss: 0.00000 | Train Acc: 0.000| Val Acc: 0.000\n",
      "Epoch 295:\n"
     ]
    },
    {
     "data": {
      "application/vnd.jupyter.widget-view+json": {
       "model_id": "418442e323b64a0f8cff4cda45d1045c",
       "version_major": 2,
       "version_minor": 0
      },
      "text/plain": [
       "Training Step:   0%|          | 0/143 [00:00<?, ?it/s]"
      ]
     },
     "metadata": {},
     "output_type": "display_data"
    },
    {
     "name": "stdout",
     "output_type": "stream",
     "text": [
      "Finished Epoch 295: | Train Loss: 0.09257 | Val Loss: 0.00000 | Train Acc: 0.000| Val Acc: 0.000\n",
      "Epoch 296:\n"
     ]
    },
    {
     "data": {
      "application/vnd.jupyter.widget-view+json": {
       "model_id": "1eafdba282b64d30928e2dceb6b8bfa7",
       "version_major": 2,
       "version_minor": 0
      },
      "text/plain": [
       "Training Step:   0%|          | 0/143 [00:00<?, ?it/s]"
      ]
     },
     "metadata": {},
     "output_type": "display_data"
    },
    {
     "name": "stdout",
     "output_type": "stream",
     "text": [
      "Finished Epoch 296: | Train Loss: 0.09177 | Val Loss: 0.00000 | Train Acc: 0.000| Val Acc: 0.000\n",
      "Epoch 297:\n"
     ]
    },
    {
     "data": {
      "application/vnd.jupyter.widget-view+json": {
       "model_id": "e2b94c0250f64e0486b54cc847034816",
       "version_major": 2,
       "version_minor": 0
      },
      "text/plain": [
       "Training Step:   0%|          | 0/143 [00:00<?, ?it/s]"
      ]
     },
     "metadata": {},
     "output_type": "display_data"
    },
    {
     "name": "stdout",
     "output_type": "stream",
     "text": [
      "Finished Epoch 297: | Train Loss: 0.09179 | Val Loss: 0.00000 | Train Acc: 0.000| Val Acc: 0.000\n",
      "Epoch 298:\n"
     ]
    },
    {
     "data": {
      "application/vnd.jupyter.widget-view+json": {
       "model_id": "27e5ea061685402ba834d00db1fd2f00",
       "version_major": 2,
       "version_minor": 0
      },
      "text/plain": [
       "Training Step:   0%|          | 0/143 [00:00<?, ?it/s]"
      ]
     },
     "metadata": {},
     "output_type": "display_data"
    },
    {
     "name": "stdout",
     "output_type": "stream",
     "text": [
      "Finished Epoch 298: | Train Loss: 0.09244 | Val Loss: 0.00000 | Train Acc: 0.000| Val Acc: 0.000\n",
      "Epoch 299:\n"
     ]
    },
    {
     "data": {
      "application/vnd.jupyter.widget-view+json": {
       "model_id": "9835f227268644bab06149db68c34745",
       "version_major": 2,
       "version_minor": 0
      },
      "text/plain": [
       "Training Step:   0%|          | 0/143 [00:00<?, ?it/s]"
      ]
     },
     "metadata": {},
     "output_type": "display_data"
    },
    {
     "name": "stdout",
     "output_type": "stream",
     "text": [
      "Finished Epoch 299: | Train Loss: 0.09497 | Val Loss: 0.00000 | Train Acc: 0.000| Val Acc: 0.000\n",
      "Epoch 300:\n"
     ]
    },
    {
     "data": {
      "application/vnd.jupyter.widget-view+json": {
       "model_id": "668e5b29b13b468aaf1d5dabe20afa1a",
       "version_major": 2,
       "version_minor": 0
      },
      "text/plain": [
       "Training Step:   0%|          | 0/143 [00:00<?, ?it/s]"
      ]
     },
     "metadata": {},
     "output_type": "display_data"
    },
    {
     "name": "stdout",
     "output_type": "stream",
     "text": [
      "Finished Epoch 300: | Train Loss: 0.09574 | Val Loss: 0.00000 | Train Acc: 0.000| Val Acc: 0.000\n",
      "Epoch 301:\n"
     ]
    },
    {
     "data": {
      "application/vnd.jupyter.widget-view+json": {
       "model_id": "f0a58121497941b9a12f942c4f3bf2eb",
       "version_major": 2,
       "version_minor": 0
      },
      "text/plain": [
       "Training Step:   0%|          | 0/143 [00:00<?, ?it/s]"
      ]
     },
     "metadata": {},
     "output_type": "display_data"
    },
    {
     "name": "stdout",
     "output_type": "stream",
     "text": [
      "Finished Epoch 301: | Train Loss: 0.09357 | Val Loss: 0.00000 | Train Acc: 0.000| Val Acc: 0.000\n",
      "Epoch 302:\n"
     ]
    },
    {
     "data": {
      "application/vnd.jupyter.widget-view+json": {
       "model_id": "051d8c855b124aa0a628bb6d06930491",
       "version_major": 2,
       "version_minor": 0
      },
      "text/plain": [
       "Training Step:   0%|          | 0/143 [00:00<?, ?it/s]"
      ]
     },
     "metadata": {},
     "output_type": "display_data"
    },
    {
     "name": "stdout",
     "output_type": "stream",
     "text": [
      "Finished Epoch 302: | Train Loss: 0.09531 | Val Loss: 0.00000 | Train Acc: 0.000| Val Acc: 0.000\n",
      "Epoch 303:\n"
     ]
    },
    {
     "data": {
      "application/vnd.jupyter.widget-view+json": {
       "model_id": "6a64b42cef6041d79ccd7a7caa90df1a",
       "version_major": 2,
       "version_minor": 0
      },
      "text/plain": [
       "Training Step:   0%|          | 0/143 [00:00<?, ?it/s]"
      ]
     },
     "metadata": {},
     "output_type": "display_data"
    },
    {
     "name": "stdout",
     "output_type": "stream",
     "text": [
      "Finished Epoch 303: | Train Loss: 0.09401 | Val Loss: 0.00000 | Train Acc: 0.000| Val Acc: 0.000\n",
      "Epoch 304:\n"
     ]
    },
    {
     "data": {
      "application/vnd.jupyter.widget-view+json": {
       "model_id": "21dac3b622bb41cbb3c0ba0709f719a9",
       "version_major": 2,
       "version_minor": 0
      },
      "text/plain": [
       "Training Step:   0%|          | 0/143 [00:00<?, ?it/s]"
      ]
     },
     "metadata": {},
     "output_type": "display_data"
    },
    {
     "name": "stdout",
     "output_type": "stream",
     "text": [
      "Finished Epoch 304: | Train Loss: 0.10179 | Val Loss: 0.00000 | Train Acc: 0.000| Val Acc: 0.000\n",
      "Epoch 305:\n"
     ]
    },
    {
     "data": {
      "application/vnd.jupyter.widget-view+json": {
       "model_id": "602d5535ffb34183be99b17266cbf702",
       "version_major": 2,
       "version_minor": 0
      },
      "text/plain": [
       "Training Step:   0%|          | 0/143 [00:00<?, ?it/s]"
      ]
     },
     "metadata": {},
     "output_type": "display_data"
    },
    {
     "name": "stdout",
     "output_type": "stream",
     "text": [
      "Finished Epoch 305: | Train Loss: 0.09484 | Val Loss: 0.00000 | Train Acc: 0.000| Val Acc: 0.000\n",
      "Epoch 306:\n"
     ]
    },
    {
     "data": {
      "application/vnd.jupyter.widget-view+json": {
       "model_id": "2b468c34728c4274961dacf9faf76060",
       "version_major": 2,
       "version_minor": 0
      },
      "text/plain": [
       "Training Step:   0%|          | 0/143 [00:00<?, ?it/s]"
      ]
     },
     "metadata": {},
     "output_type": "display_data"
    },
    {
     "name": "stdout",
     "output_type": "stream",
     "text": [
      "Finished Epoch 306: | Train Loss: 0.09821 | Val Loss: 0.00000 | Train Acc: 0.000| Val Acc: 0.000\n",
      "Epoch 307:\n"
     ]
    },
    {
     "data": {
      "application/vnd.jupyter.widget-view+json": {
       "model_id": "0e5f2d86536644a3818911d5d5bae4f4",
       "version_major": 2,
       "version_minor": 0
      },
      "text/plain": [
       "Training Step:   0%|          | 0/143 [00:00<?, ?it/s]"
      ]
     },
     "metadata": {},
     "output_type": "display_data"
    },
    {
     "name": "stdout",
     "output_type": "stream",
     "text": [
      "Finished Epoch 307: | Train Loss: 0.09679 | Val Loss: 0.00000 | Train Acc: 0.000| Val Acc: 0.000\n",
      "Epoch 308:\n"
     ]
    },
    {
     "data": {
      "application/vnd.jupyter.widget-view+json": {
       "model_id": "acd04dfc5659414389b23f33c8278591",
       "version_major": 2,
       "version_minor": 0
      },
      "text/plain": [
       "Training Step:   0%|          | 0/143 [00:00<?, ?it/s]"
      ]
     },
     "metadata": {},
     "output_type": "display_data"
    },
    {
     "name": "stdout",
     "output_type": "stream",
     "text": [
      "Finished Epoch 308: | Train Loss: 0.09349 | Val Loss: 0.00000 | Train Acc: 0.000| Val Acc: 0.000\n",
      "Epoch 309:\n"
     ]
    },
    {
     "data": {
      "application/vnd.jupyter.widget-view+json": {
       "model_id": "055ba68141374578a7f66f1a2af162cd",
       "version_major": 2,
       "version_minor": 0
      },
      "text/plain": [
       "Training Step:   0%|          | 0/143 [00:00<?, ?it/s]"
      ]
     },
     "metadata": {},
     "output_type": "display_data"
    },
    {
     "name": "stdout",
     "output_type": "stream",
     "text": [
      "Finished Epoch 309: | Train Loss: 0.09658 | Val Loss: 0.00000 | Train Acc: 0.000| Val Acc: 0.000\n",
      "Epoch 310:\n"
     ]
    },
    {
     "data": {
      "application/vnd.jupyter.widget-view+json": {
       "model_id": "d39fc3056aa2438ebd26c082b86c5e01",
       "version_major": 2,
       "version_minor": 0
      },
      "text/plain": [
       "Training Step:   0%|          | 0/143 [00:00<?, ?it/s]"
      ]
     },
     "metadata": {},
     "output_type": "display_data"
    },
    {
     "name": "stdout",
     "output_type": "stream",
     "text": [
      "Finished Epoch 310: | Train Loss: 0.09171 | Val Loss: 0.00000 | Train Acc: 0.000| Val Acc: 0.000\n",
      "Epoch 311:\n"
     ]
    },
    {
     "data": {
      "application/vnd.jupyter.widget-view+json": {
       "model_id": "b2a30b76ba304312a4f47103e450070d",
       "version_major": 2,
       "version_minor": 0
      },
      "text/plain": [
       "Training Step:   0%|          | 0/143 [00:00<?, ?it/s]"
      ]
     },
     "metadata": {},
     "output_type": "display_data"
    },
    {
     "name": "stdout",
     "output_type": "stream",
     "text": [
      "Finished Epoch 311: | Train Loss: 0.09095 | Val Loss: 0.00000 | Train Acc: 0.000| Val Acc: 0.000\n",
      "Epoch 312:\n"
     ]
    },
    {
     "data": {
      "application/vnd.jupyter.widget-view+json": {
       "model_id": "689ab425a9ce4c3bab3f4480b1649411",
       "version_major": 2,
       "version_minor": 0
      },
      "text/plain": [
       "Training Step:   0%|          | 0/143 [00:00<?, ?it/s]"
      ]
     },
     "metadata": {},
     "output_type": "display_data"
    },
    {
     "name": "stdout",
     "output_type": "stream",
     "text": [
      "Finished Epoch 312: | Train Loss: 0.09050 | Val Loss: 0.00000 | Train Acc: 0.000| Val Acc: 0.000\n",
      "Epoch 313:\n"
     ]
    },
    {
     "data": {
      "application/vnd.jupyter.widget-view+json": {
       "model_id": "3f9044ad9d0248b394f0ee9bb0e66962",
       "version_major": 2,
       "version_minor": 0
      },
      "text/plain": [
       "Training Step:   0%|          | 0/143 [00:00<?, ?it/s]"
      ]
     },
     "metadata": {},
     "output_type": "display_data"
    },
    {
     "name": "stdout",
     "output_type": "stream",
     "text": [
      "Finished Epoch 313: | Train Loss: 0.09028 | Val Loss: 0.00000 | Train Acc: 0.000| Val Acc: 0.000\n",
      "Epoch 314:\n"
     ]
    },
    {
     "data": {
      "application/vnd.jupyter.widget-view+json": {
       "model_id": "55bbae487d384d3b84204c3fa3b83234",
       "version_major": 2,
       "version_minor": 0
      },
      "text/plain": [
       "Training Step:   0%|          | 0/143 [00:00<?, ?it/s]"
      ]
     },
     "metadata": {},
     "output_type": "display_data"
    },
    {
     "name": "stdout",
     "output_type": "stream",
     "text": [
      "Finished Epoch 314: | Train Loss: 0.09051 | Val Loss: 0.00000 | Train Acc: 0.000| Val Acc: 0.000\n",
      "Epoch 315:\n"
     ]
    },
    {
     "data": {
      "application/vnd.jupyter.widget-view+json": {
       "model_id": "ac713b384dee4fb9b5e3f2b748002d19",
       "version_major": 2,
       "version_minor": 0
      },
      "text/plain": [
       "Training Step:   0%|          | 0/143 [00:00<?, ?it/s]"
      ]
     },
     "metadata": {},
     "output_type": "display_data"
    },
    {
     "name": "stdout",
     "output_type": "stream",
     "text": [
      "Finished Epoch 315: | Train Loss: 0.09134 | Val Loss: 0.00000 | Train Acc: 0.000| Val Acc: 0.000\n",
      "Epoch 316:\n"
     ]
    },
    {
     "data": {
      "application/vnd.jupyter.widget-view+json": {
       "model_id": "ab4134b56bb94a6bae565996f8e709d9",
       "version_major": 2,
       "version_minor": 0
      },
      "text/plain": [
       "Training Step:   0%|          | 0/143 [00:00<?, ?it/s]"
      ]
     },
     "metadata": {},
     "output_type": "display_data"
    },
    {
     "name": "stdout",
     "output_type": "stream",
     "text": [
      "Finished Epoch 316: | Train Loss: 0.09301 | Val Loss: 0.00000 | Train Acc: 0.000| Val Acc: 0.000\n",
      "Epoch 317:\n"
     ]
    },
    {
     "data": {
      "application/vnd.jupyter.widget-view+json": {
       "model_id": "81fcdc2640824bde9a84c68c8e50bb7b",
       "version_major": 2,
       "version_minor": 0
      },
      "text/plain": [
       "Training Step:   0%|          | 0/143 [00:00<?, ?it/s]"
      ]
     },
     "metadata": {},
     "output_type": "display_data"
    },
    {
     "name": "stdout",
     "output_type": "stream",
     "text": [
      "Finished Epoch 317: | Train Loss: 0.09607 | Val Loss: 0.00000 | Train Acc: 0.000| Val Acc: 0.000\n",
      "Epoch 318:\n"
     ]
    },
    {
     "data": {
      "application/vnd.jupyter.widget-view+json": {
       "model_id": "aa766221cdc04352847afc2456317778",
       "version_major": 2,
       "version_minor": 0
      },
      "text/plain": [
       "Training Step:   0%|          | 0/143 [00:00<?, ?it/s]"
      ]
     },
     "metadata": {},
     "output_type": "display_data"
    },
    {
     "name": "stdout",
     "output_type": "stream",
     "text": [
      "Finished Epoch 318: | Train Loss: 0.09356 | Val Loss: 0.00000 | Train Acc: 0.000| Val Acc: 0.000\n",
      "Epoch 319:\n"
     ]
    },
    {
     "data": {
      "application/vnd.jupyter.widget-view+json": {
       "model_id": "07db75ff7a3f4644accbe11ec76d4fb9",
       "version_major": 2,
       "version_minor": 0
      },
      "text/plain": [
       "Training Step:   0%|          | 0/143 [00:00<?, ?it/s]"
      ]
     },
     "metadata": {},
     "output_type": "display_data"
    },
    {
     "name": "stdout",
     "output_type": "stream",
     "text": [
      "Finished Epoch 319: | Train Loss: 0.09057 | Val Loss: 0.00000 | Train Acc: 0.000| Val Acc: 0.000\n",
      "Epoch 320:\n"
     ]
    },
    {
     "data": {
      "application/vnd.jupyter.widget-view+json": {
       "model_id": "37dbb84350b94417aa6015583f4982b4",
       "version_major": 2,
       "version_minor": 0
      },
      "text/plain": [
       "Training Step:   0%|          | 0/143 [00:00<?, ?it/s]"
      ]
     },
     "metadata": {},
     "output_type": "display_data"
    },
    {
     "name": "stdout",
     "output_type": "stream",
     "text": [
      "Finished Epoch 320: | Train Loss: 0.09052 | Val Loss: 0.00000 | Train Acc: 0.000| Val Acc: 0.000\n",
      "Epoch 321:\n"
     ]
    },
    {
     "data": {
      "application/vnd.jupyter.widget-view+json": {
       "model_id": "6cfdf6921250480d8a71996e738eef0c",
       "version_major": 2,
       "version_minor": 0
      },
      "text/plain": [
       "Training Step:   0%|          | 0/143 [00:00<?, ?it/s]"
      ]
     },
     "metadata": {},
     "output_type": "display_data"
    },
    {
     "name": "stdout",
     "output_type": "stream",
     "text": [
      "Finished Epoch 321: | Train Loss: 0.09232 | Val Loss: 0.00000 | Train Acc: 0.000| Val Acc: 0.000\n",
      "Epoch 322:\n"
     ]
    },
    {
     "data": {
      "application/vnd.jupyter.widget-view+json": {
       "model_id": "945949f9f3674ab1ace54fd265f8686b",
       "version_major": 2,
       "version_minor": 0
      },
      "text/plain": [
       "Training Step:   0%|          | 0/143 [00:00<?, ?it/s]"
      ]
     },
     "metadata": {},
     "output_type": "display_data"
    },
    {
     "name": "stdout",
     "output_type": "stream",
     "text": [
      "Finished Epoch 322: | Train Loss: 0.10368 | Val Loss: 0.00000 | Train Acc: 0.000| Val Acc: 0.000\n",
      "Epoch 323:\n"
     ]
    },
    {
     "data": {
      "application/vnd.jupyter.widget-view+json": {
       "model_id": "4d81eb2539b2441299a4292b652dd8a4",
       "version_major": 2,
       "version_minor": 0
      },
      "text/plain": [
       "Training Step:   0%|          | 0/143 [00:00<?, ?it/s]"
      ]
     },
     "metadata": {},
     "output_type": "display_data"
    },
    {
     "name": "stdout",
     "output_type": "stream",
     "text": [
      "Finished Epoch 323: | Train Loss: 0.09592 | Val Loss: 0.00000 | Train Acc: 0.000| Val Acc: 0.000\n",
      "Epoch 324:\n"
     ]
    },
    {
     "data": {
      "application/vnd.jupyter.widget-view+json": {
       "model_id": "3e6067065fe24322ae2e6bdb5fac11a6",
       "version_major": 2,
       "version_minor": 0
      },
      "text/plain": [
       "Training Step:   0%|          | 0/143 [00:00<?, ?it/s]"
      ]
     },
     "metadata": {},
     "output_type": "display_data"
    },
    {
     "name": "stdout",
     "output_type": "stream",
     "text": [
      "Finished Epoch 324: | Train Loss: 0.09919 | Val Loss: 0.00000 | Train Acc: 0.000| Val Acc: 0.000\n",
      "Epoch 325:\n"
     ]
    },
    {
     "data": {
      "application/vnd.jupyter.widget-view+json": {
       "model_id": "d83ab762573941c3930e7843f2690e9a",
       "version_major": 2,
       "version_minor": 0
      },
      "text/plain": [
       "Training Step:   0%|          | 0/143 [00:00<?, ?it/s]"
      ]
     },
     "metadata": {},
     "output_type": "display_data"
    },
    {
     "name": "stdout",
     "output_type": "stream",
     "text": [
      "Finished Epoch 325: | Train Loss: 0.09187 | Val Loss: 0.00000 | Train Acc: 0.000| Val Acc: 0.000\n",
      "Epoch 326:\n"
     ]
    },
    {
     "data": {
      "application/vnd.jupyter.widget-view+json": {
       "model_id": "271a7e65a8454ec88323f6501d2684ee",
       "version_major": 2,
       "version_minor": 0
      },
      "text/plain": [
       "Training Step:   0%|          | 0/143 [00:00<?, ?it/s]"
      ]
     },
     "metadata": {},
     "output_type": "display_data"
    },
    {
     "name": "stdout",
     "output_type": "stream",
     "text": [
      "Finished Epoch 326: | Train Loss: 0.09261 | Val Loss: 0.00000 | Train Acc: 0.000| Val Acc: 0.000\n",
      "Epoch 327:\n"
     ]
    },
    {
     "data": {
      "application/vnd.jupyter.widget-view+json": {
       "model_id": "9224371221fd44f6ad70ba9ffff9ff30",
       "version_major": 2,
       "version_minor": 0
      },
      "text/plain": [
       "Training Step:   0%|          | 0/143 [00:00<?, ?it/s]"
      ]
     },
     "metadata": {},
     "output_type": "display_data"
    },
    {
     "name": "stdout",
     "output_type": "stream",
     "text": [
      "Finished Epoch 327: | Train Loss: 0.09192 | Val Loss: 0.00000 | Train Acc: 0.000| Val Acc: 0.000\n",
      "Epoch 328:\n"
     ]
    },
    {
     "data": {
      "application/vnd.jupyter.widget-view+json": {
       "model_id": "a5f69c8c1c08417ebdbf5d0c8d4309aa",
       "version_major": 2,
       "version_minor": 0
      },
      "text/plain": [
       "Training Step:   0%|          | 0/143 [00:00<?, ?it/s]"
      ]
     },
     "metadata": {},
     "output_type": "display_data"
    },
    {
     "name": "stdout",
     "output_type": "stream",
     "text": [
      "Finished Epoch 328: | Train Loss: 0.09039 | Val Loss: 0.00000 | Train Acc: 0.000| Val Acc: 0.000\n",
      "Epoch 329:\n"
     ]
    },
    {
     "data": {
      "application/vnd.jupyter.widget-view+json": {
       "model_id": "eea9002594fb4cdf9b1e5461991a3b9a",
       "version_major": 2,
       "version_minor": 0
      },
      "text/plain": [
       "Training Step:   0%|          | 0/143 [00:00<?, ?it/s]"
      ]
     },
     "metadata": {},
     "output_type": "display_data"
    },
    {
     "name": "stdout",
     "output_type": "stream",
     "text": [
      "Finished Epoch 329: | Train Loss: 0.09147 | Val Loss: 0.00000 | Train Acc: 0.000| Val Acc: 0.000\n",
      "Epoch 330:\n"
     ]
    },
    {
     "data": {
      "application/vnd.jupyter.widget-view+json": {
       "model_id": "13f675de20854451ba7fdfa614a2c718",
       "version_major": 2,
       "version_minor": 0
      },
      "text/plain": [
       "Training Step:   0%|          | 0/143 [00:00<?, ?it/s]"
      ]
     },
     "metadata": {},
     "output_type": "display_data"
    },
    {
     "name": "stdout",
     "output_type": "stream",
     "text": [
      "Finished Epoch 330: | Train Loss: 0.09451 | Val Loss: 0.00000 | Train Acc: 0.000| Val Acc: 0.000\n",
      "Epoch 331:\n"
     ]
    },
    {
     "data": {
      "application/vnd.jupyter.widget-view+json": {
       "model_id": "699229f9e4fb454d898f0a6f088aab61",
       "version_major": 2,
       "version_minor": 0
      },
      "text/plain": [
       "Training Step:   0%|          | 0/143 [00:00<?, ?it/s]"
      ]
     },
     "metadata": {},
     "output_type": "display_data"
    },
    {
     "name": "stdout",
     "output_type": "stream",
     "text": [
      "Finished Epoch 331: | Train Loss: 0.10043 | Val Loss: 0.00000 | Train Acc: 0.000| Val Acc: 0.000\n",
      "Epoch 332:\n"
     ]
    },
    {
     "data": {
      "application/vnd.jupyter.widget-view+json": {
       "model_id": "337eddc176b948e882ca3f627ae85654",
       "version_major": 2,
       "version_minor": 0
      },
      "text/plain": [
       "Training Step:   0%|          | 0/143 [00:00<?, ?it/s]"
      ]
     },
     "metadata": {},
     "output_type": "display_data"
    },
    {
     "name": "stdout",
     "output_type": "stream",
     "text": [
      "Finished Epoch 332: | Train Loss: 0.09761 | Val Loss: 0.00000 | Train Acc: 0.000| Val Acc: 0.000\n",
      "Epoch 333:\n"
     ]
    },
    {
     "data": {
      "application/vnd.jupyter.widget-view+json": {
       "model_id": "18198cf28c464d82ae6a1a2ce2ea2002",
       "version_major": 2,
       "version_minor": 0
      },
      "text/plain": [
       "Training Step:   0%|          | 0/143 [00:00<?, ?it/s]"
      ]
     },
     "metadata": {},
     "output_type": "display_data"
    },
    {
     "name": "stdout",
     "output_type": "stream",
     "text": [
      "Finished Epoch 333: | Train Loss: 0.09242 | Val Loss: 0.00000 | Train Acc: 0.000| Val Acc: 0.000\n",
      "Epoch 334:\n"
     ]
    },
    {
     "data": {
      "application/vnd.jupyter.widget-view+json": {
       "model_id": "d2bd06e94fbd43d09c12653da8a750b5",
       "version_major": 2,
       "version_minor": 0
      },
      "text/plain": [
       "Training Step:   0%|          | 0/143 [00:00<?, ?it/s]"
      ]
     },
     "metadata": {},
     "output_type": "display_data"
    },
    {
     "name": "stdout",
     "output_type": "stream",
     "text": [
      "Finished Epoch 334: | Train Loss: 0.09389 | Val Loss: 0.00000 | Train Acc: 0.000| Val Acc: 0.000\n",
      "Epoch 335:\n"
     ]
    },
    {
     "data": {
      "application/vnd.jupyter.widget-view+json": {
       "model_id": "75510334eab44a8fb22afa8c42ea61af",
       "version_major": 2,
       "version_minor": 0
      },
      "text/plain": [
       "Training Step:   0%|          | 0/143 [00:00<?, ?it/s]"
      ]
     },
     "metadata": {},
     "output_type": "display_data"
    },
    {
     "name": "stdout",
     "output_type": "stream",
     "text": [
      "Finished Epoch 335: | Train Loss: 0.09312 | Val Loss: 0.00000 | Train Acc: 0.000| Val Acc: 0.000\n",
      "Epoch 336:\n"
     ]
    },
    {
     "data": {
      "application/vnd.jupyter.widget-view+json": {
       "model_id": "46fdbc8fb08f442395e94ce8d0a581ab",
       "version_major": 2,
       "version_minor": 0
      },
      "text/plain": [
       "Training Step:   0%|          | 0/143 [00:00<?, ?it/s]"
      ]
     },
     "metadata": {},
     "output_type": "display_data"
    },
    {
     "name": "stdout",
     "output_type": "stream",
     "text": [
      "Finished Epoch 336: | Train Loss: 0.09949 | Val Loss: 0.00000 | Train Acc: 0.000| Val Acc: 0.000\n",
      "Epoch 337:\n"
     ]
    },
    {
     "data": {
      "application/vnd.jupyter.widget-view+json": {
       "model_id": "dce4ac8d7bcc447aac8b61d04c1f09a3",
       "version_major": 2,
       "version_minor": 0
      },
      "text/plain": [
       "Training Step:   0%|          | 0/143 [00:00<?, ?it/s]"
      ]
     },
     "metadata": {},
     "output_type": "display_data"
    },
    {
     "name": "stdout",
     "output_type": "stream",
     "text": [
      "Finished Epoch 337: | Train Loss: 0.09134 | Val Loss: 0.00000 | Train Acc: 0.000| Val Acc: 0.000\n",
      "Epoch 338:\n"
     ]
    },
    {
     "data": {
      "application/vnd.jupyter.widget-view+json": {
       "model_id": "8fba72f6382e445286aa7c9414317866",
       "version_major": 2,
       "version_minor": 0
      },
      "text/plain": [
       "Training Step:   0%|          | 0/143 [00:00<?, ?it/s]"
      ]
     },
     "metadata": {},
     "output_type": "display_data"
    },
    {
     "name": "stdout",
     "output_type": "stream",
     "text": [
      "Finished Epoch 338: | Train Loss: 0.09200 | Val Loss: 0.00000 | Train Acc: 0.000| Val Acc: 0.000\n",
      "Epoch 339:\n"
     ]
    },
    {
     "data": {
      "application/vnd.jupyter.widget-view+json": {
       "model_id": "28f05d9f0026468aadfaa83dd7adf78d",
       "version_major": 2,
       "version_minor": 0
      },
      "text/plain": [
       "Training Step:   0%|          | 0/143 [00:00<?, ?it/s]"
      ]
     },
     "metadata": {},
     "output_type": "display_data"
    },
    {
     "name": "stdout",
     "output_type": "stream",
     "text": [
      "Finished Epoch 339: | Train Loss: 0.09074 | Val Loss: 0.00000 | Train Acc: 0.000| Val Acc: 0.000\n",
      "Epoch 340:\n"
     ]
    },
    {
     "data": {
      "application/vnd.jupyter.widget-view+json": {
       "model_id": "faf5b2a112ab4f199e44e2b3ab2aa186",
       "version_major": 2,
       "version_minor": 0
      },
      "text/plain": [
       "Training Step:   0%|          | 0/143 [00:00<?, ?it/s]"
      ]
     },
     "metadata": {},
     "output_type": "display_data"
    },
    {
     "name": "stdout",
     "output_type": "stream",
     "text": [
      "Finished Epoch 340: | Train Loss: 0.09011 | Val Loss: 0.00000 | Train Acc: 0.000| Val Acc: 0.000\n",
      "Epoch 341:\n"
     ]
    },
    {
     "data": {
      "application/vnd.jupyter.widget-view+json": {
       "model_id": "a4ac10cbf8024e1e99153484c1939712",
       "version_major": 2,
       "version_minor": 0
      },
      "text/plain": [
       "Training Step:   0%|          | 0/143 [00:00<?, ?it/s]"
      ]
     },
     "metadata": {},
     "output_type": "display_data"
    },
    {
     "name": "stdout",
     "output_type": "stream",
     "text": [
      "Finished Epoch 341: | Train Loss: 0.09089 | Val Loss: 0.00000 | Train Acc: 0.000| Val Acc: 0.000\n",
      "Epoch 342:\n"
     ]
    },
    {
     "data": {
      "application/vnd.jupyter.widget-view+json": {
       "model_id": "5c0578220ae64ef9a33bf085b5173355",
       "version_major": 2,
       "version_minor": 0
      },
      "text/plain": [
       "Training Step:   0%|          | 0/143 [00:00<?, ?it/s]"
      ]
     },
     "metadata": {},
     "output_type": "display_data"
    },
    {
     "name": "stdout",
     "output_type": "stream",
     "text": [
      "Finished Epoch 342: | Train Loss: 0.09024 | Val Loss: 0.00000 | Train Acc: 0.000| Val Acc: 0.000\n",
      "Epoch 343:\n"
     ]
    },
    {
     "data": {
      "application/vnd.jupyter.widget-view+json": {
       "model_id": "63f00d09a0884bafbd1ef524e511486a",
       "version_major": 2,
       "version_minor": 0
      },
      "text/plain": [
       "Training Step:   0%|          | 0/143 [00:00<?, ?it/s]"
      ]
     },
     "metadata": {},
     "output_type": "display_data"
    },
    {
     "name": "stdout",
     "output_type": "stream",
     "text": [
      "Finished Epoch 343: | Train Loss: 0.08992 | Val Loss: 0.00000 | Train Acc: 0.000| Val Acc: 0.000\n",
      "Epoch 344:\n"
     ]
    },
    {
     "data": {
      "application/vnd.jupyter.widget-view+json": {
       "model_id": "a417726dedb442b7a49562f2a53861ff",
       "version_major": 2,
       "version_minor": 0
      },
      "text/plain": [
       "Training Step:   0%|          | 0/143 [00:00<?, ?it/s]"
      ]
     },
     "metadata": {},
     "output_type": "display_data"
    },
    {
     "name": "stdout",
     "output_type": "stream",
     "text": [
      "Finished Epoch 344: | Train Loss: 0.08983 | Val Loss: 0.00000 | Train Acc: 0.000| Val Acc: 0.000\n",
      "Epoch 345:\n"
     ]
    },
    {
     "data": {
      "application/vnd.jupyter.widget-view+json": {
       "model_id": "00ef8a901390478aa486fe78f7a8245e",
       "version_major": 2,
       "version_minor": 0
      },
      "text/plain": [
       "Training Step:   0%|          | 0/143 [00:00<?, ?it/s]"
      ]
     },
     "metadata": {},
     "output_type": "display_data"
    },
    {
     "name": "stdout",
     "output_type": "stream",
     "text": [
      "Finished Epoch 345: | Train Loss: 0.08970 | Val Loss: 0.00000 | Train Acc: 0.000| Val Acc: 0.000\n",
      "Epoch 346:\n"
     ]
    },
    {
     "data": {
      "application/vnd.jupyter.widget-view+json": {
       "model_id": "8ef2c143689a4efdbe283c2cb845d5ec",
       "version_major": 2,
       "version_minor": 0
      },
      "text/plain": [
       "Training Step:   0%|          | 0/143 [00:00<?, ?it/s]"
      ]
     },
     "metadata": {},
     "output_type": "display_data"
    },
    {
     "name": "stdout",
     "output_type": "stream",
     "text": [
      "Finished Epoch 346: | Train Loss: 0.09318 | Val Loss: 0.00000 | Train Acc: 0.000| Val Acc: 0.000\n",
      "Epoch 347:\n"
     ]
    },
    {
     "data": {
      "application/vnd.jupyter.widget-view+json": {
       "model_id": "cc7e39257672410db2e8139a56a8aa7e",
       "version_major": 2,
       "version_minor": 0
      },
      "text/plain": [
       "Training Step:   0%|          | 0/143 [00:00<?, ?it/s]"
      ]
     },
     "metadata": {},
     "output_type": "display_data"
    },
    {
     "name": "stdout",
     "output_type": "stream",
     "text": [
      "Finished Epoch 347: | Train Loss: 0.09473 | Val Loss: 0.00000 | Train Acc: 0.000| Val Acc: 0.000\n",
      "Epoch 348:\n"
     ]
    },
    {
     "data": {
      "application/vnd.jupyter.widget-view+json": {
       "model_id": "c2c831936b4f4bddbe2a3b02b45eb3ee",
       "version_major": 2,
       "version_minor": 0
      },
      "text/plain": [
       "Training Step:   0%|          | 0/143 [00:00<?, ?it/s]"
      ]
     },
     "metadata": {},
     "output_type": "display_data"
    },
    {
     "name": "stdout",
     "output_type": "stream",
     "text": [
      "Finished Epoch 348: | Train Loss: 0.11340 | Val Loss: 0.00000 | Train Acc: 0.000| Val Acc: 0.000\n",
      "Epoch 349:\n"
     ]
    },
    {
     "data": {
      "application/vnd.jupyter.widget-view+json": {
       "model_id": "af27ed63c1d74bd3a80cec11e164ff00",
       "version_major": 2,
       "version_minor": 0
      },
      "text/plain": [
       "Training Step:   0%|          | 0/143 [00:00<?, ?it/s]"
      ]
     },
     "metadata": {},
     "output_type": "display_data"
    },
    {
     "name": "stdout",
     "output_type": "stream",
     "text": [
      "Finished Epoch 349: | Train Loss: 0.09614 | Val Loss: 0.00000 | Train Acc: 0.000| Val Acc: 0.000\n",
      "Epoch 350:\n"
     ]
    },
    {
     "data": {
      "application/vnd.jupyter.widget-view+json": {
       "model_id": "5ed50a5ce64d419ea7781dc812ab51db",
       "version_major": 2,
       "version_minor": 0
      },
      "text/plain": [
       "Training Step:   0%|          | 0/143 [00:00<?, ?it/s]"
      ]
     },
     "metadata": {},
     "output_type": "display_data"
    },
    {
     "name": "stdout",
     "output_type": "stream",
     "text": [
      "Finished Epoch 350: | Train Loss: 0.09776 | Val Loss: 0.00000 | Train Acc: 0.000| Val Acc: 0.000\n",
      "Epoch 351:\n"
     ]
    },
    {
     "data": {
      "application/vnd.jupyter.widget-view+json": {
       "model_id": "0cb1f14744494d148c6c84057528af0b",
       "version_major": 2,
       "version_minor": 0
      },
      "text/plain": [
       "Training Step:   0%|          | 0/143 [00:00<?, ?it/s]"
      ]
     },
     "metadata": {},
     "output_type": "display_data"
    },
    {
     "name": "stdout",
     "output_type": "stream",
     "text": [
      "Finished Epoch 351: | Train Loss: 0.10125 | Val Loss: 0.00000 | Train Acc: 0.000| Val Acc: 0.000\n",
      "Epoch 352:\n"
     ]
    },
    {
     "data": {
      "application/vnd.jupyter.widget-view+json": {
       "model_id": "b120bb9f1a6f4a9f9f6fe5cd11547022",
       "version_major": 2,
       "version_minor": 0
      },
      "text/plain": [
       "Training Step:   0%|          | 0/143 [00:00<?, ?it/s]"
      ]
     },
     "metadata": {},
     "output_type": "display_data"
    },
    {
     "name": "stdout",
     "output_type": "stream",
     "text": [
      "Finished Epoch 352: | Train Loss: 0.09337 | Val Loss: 0.00000 | Train Acc: 0.000| Val Acc: 0.000\n",
      "Epoch 353:\n"
     ]
    },
    {
     "data": {
      "application/vnd.jupyter.widget-view+json": {
       "model_id": "09f52d59b5ad4e4b8d2ceef92c9be2db",
       "version_major": 2,
       "version_minor": 0
      },
      "text/plain": [
       "Training Step:   0%|          | 0/143 [00:00<?, ?it/s]"
      ]
     },
     "metadata": {},
     "output_type": "display_data"
    },
    {
     "name": "stdout",
     "output_type": "stream",
     "text": [
      "Finished Epoch 353: | Train Loss: 0.09515 | Val Loss: 0.00000 | Train Acc: 0.000| Val Acc: 0.000\n",
      "Epoch 354:\n"
     ]
    },
    {
     "data": {
      "application/vnd.jupyter.widget-view+json": {
       "model_id": "a3168ff085c849e397dd77bcc4ee1051",
       "version_major": 2,
       "version_minor": 0
      },
      "text/plain": [
       "Training Step:   0%|          | 0/143 [00:00<?, ?it/s]"
      ]
     },
     "metadata": {},
     "output_type": "display_data"
    },
    {
     "name": "stdout",
     "output_type": "stream",
     "text": [
      "Finished Epoch 354: | Train Loss: 0.09520 | Val Loss: 0.00000 | Train Acc: 0.000| Val Acc: 0.000\n",
      "Epoch 355:\n"
     ]
    },
    {
     "data": {
      "application/vnd.jupyter.widget-view+json": {
       "model_id": "2b68a71993154728a2e0980ef2ebb614",
       "version_major": 2,
       "version_minor": 0
      },
      "text/plain": [
       "Training Step:   0%|          | 0/143 [00:00<?, ?it/s]"
      ]
     },
     "metadata": {},
     "output_type": "display_data"
    },
    {
     "name": "stdout",
     "output_type": "stream",
     "text": [
      "Finished Epoch 355: | Train Loss: 0.09147 | Val Loss: 0.00000 | Train Acc: 0.000| Val Acc: 0.000\n",
      "Epoch 356:\n"
     ]
    },
    {
     "data": {
      "application/vnd.jupyter.widget-view+json": {
       "model_id": "e37b2d5b598b41e89bb3681a89e45a91",
       "version_major": 2,
       "version_minor": 0
      },
      "text/plain": [
       "Training Step:   0%|          | 0/143 [00:00<?, ?it/s]"
      ]
     },
     "metadata": {},
     "output_type": "display_data"
    },
    {
     "name": "stdout",
     "output_type": "stream",
     "text": [
      "Finished Epoch 356: | Train Loss: 0.09387 | Val Loss: 0.00000 | Train Acc: 0.000| Val Acc: 0.000\n",
      "Epoch 357:\n"
     ]
    },
    {
     "data": {
      "application/vnd.jupyter.widget-view+json": {
       "model_id": "4613f089c08f4266ad577a2c75fda3ca",
       "version_major": 2,
       "version_minor": 0
      },
      "text/plain": [
       "Training Step:   0%|          | 0/143 [00:00<?, ?it/s]"
      ]
     },
     "metadata": {},
     "output_type": "display_data"
    },
    {
     "name": "stdout",
     "output_type": "stream",
     "text": [
      "Finished Epoch 357: | Train Loss: 0.09316 | Val Loss: 0.00000 | Train Acc: 0.000| Val Acc: 0.000\n",
      "Epoch 358:\n"
     ]
    },
    {
     "data": {
      "application/vnd.jupyter.widget-view+json": {
       "model_id": "38e561dbce8844c2a4fd3ffec2b4dcff",
       "version_major": 2,
       "version_minor": 0
      },
      "text/plain": [
       "Training Step:   0%|          | 0/143 [00:00<?, ?it/s]"
      ]
     },
     "metadata": {},
     "output_type": "display_data"
    }
   ],
   "source": [
    "if reduceKeypoints:\n",
    "    model = CPM(28)\n",
    "    accurate_dist = torch.from_numpy(np.array([[2,2]]*28))\n",
    "\n",
    "else:\n",
    "    model = CPM(62)\n",
    "    accurate_dist = torch.from_numpy(np.array([[1,1]]*62))\n",
    "\n",
    "\n",
    "epochs = 1500\n",
    "learning_rate = 8e-6\n",
    "optimizer = torch.optim.Adam(params=model.parameters(), lr=learning_rate, betas=(0.5, 0.999))\n",
    "liftingtrainer = Train_CPM_Network(model,optimizer, accurate_dist, train_dataloader, valid_dataloader)\n",
    "trained_model = liftingtrainer.run(epochs)"
   ]
  },
  {
   "cell_type": "code",
   "execution_count": 22,
   "id": "983795ef",
   "metadata": {},
   "outputs": [],
   "source": [
    "trained_model = liftingtrainer.model\n",
    "trained_model.eval()\n",
    "# Code get the first batch of results\n",
    "with torch.no_grad():\n",
    "    for data in train_dataloader:\n",
    "        image = data['image']\n",
    "        center = data['centermap']\n",
    "        heatmap = data['heatmap']\n",
    "        file_name = data['file_name']\n",
    "        kp = data['key_points_2D']\n",
    "        visib = data['visibility']\n",
    "        input_var = image.to(liftingtrainer.device, dtype=torch.float)\n",
    "        heatmap_var = heatmap.to(liftingtrainer.device, dtype=torch.float)\n",
    "        centermap_var = center.to(liftingtrainer.device, dtype=torch.float)\n",
    "\n",
    "        heat1, heat2, heat3, heat4, heat5, heat6 = trained_model(input_var, centermap_var)\n",
    "        break"
   ]
  },
  {
   "cell_type": "code",
   "execution_count": 23,
   "id": "e2833e10",
   "metadata": {},
   "outputs": [],
   "source": [
    "def get_kpt(maps, img_h = 152.0, img_w = 152.0):\n",
    "        # maps (1,63,76,76)\n",
    "        maps = maps.clone().cpu().data.numpy()\n",
    "        map_6 = maps\n",
    "\n",
    "        kpts = []\n",
    "        for m in map_6[1:]:\n",
    "            h, w = np.unravel_index(m.argmax(), m.shape)\n",
    "            x = int(w * img_w / m.shape[1])\n",
    "            y = int(h * img_h / m.shape[0])\n",
    "            kpts.append([x,y])\n",
    "        return np.array(kpts)"
   ]
  },
  {
   "cell_type": "code",
   "execution_count": 42,
   "id": "e6a373ac",
   "metadata": {},
   "outputs": [
    {
     "data": {
      "application/vnd.jupyter.widget-view+json": {
       "model_id": "31f115167ad04987878dd90f56435db3",
       "version_major": 2,
       "version_minor": 0
      },
      "text/plain": [
       "Canvas(toolbar=Toolbar(toolitems=[('Home', 'Reset original view', 'home', 'home'), ('Back', 'Back to previous …"
      ]
     },
     "metadata": {},
     "output_type": "display_data"
    },
    {
     "data": {
      "text/plain": [
       "0.03571428571428571"
      ]
     },
     "execution_count": 42,
     "metadata": {},
     "output_type": "execute_result"
    }
   ],
   "source": [
    "sample = 13\n",
    "limb = 27\n",
    "\n",
    "name = file_name[sample]\n",
    "\n",
    "img = image[sample].numpy()\n",
    "img=np.swapaxes(img,0,1)\n",
    "img=np.swapaxes(img,1,2)\n",
    "\n",
    "pred = heat6[sample].cpu().numpy()\n",
    "pred_kp = get_kpt(heat6[sample])\n",
    "\n",
    "acc = heatmap[sample].cpu().numpy()\n",
    "acc_kp = get_kpt(heatmap[sample])\n",
    "\n",
    "vis = visib[sample].cpu().numpy()\n",
    "keypoints = (kp[sample].numpy()*sungaya_dataset.std_2d)+sungaya_dataset.means_2d\n",
    "\n",
    "plt.figure()\n",
    "plt.imshow(img)\n",
    "\n",
    "# plt.scatter(pred_kp[limb,0]*vis, pred_kp[limb,1]*vis, marker='o', s=10,  color='r')\n",
    "plt.scatter(acc_kp[limb,0]*vis, acc_kp[limb,1]*vis, marker='o', s=10,  color='b')\n",
    "\n",
    "# plt.imshow(cv2.resize(pred[limb+1], (152,152)), alpha = .5,cmap='hot')\n",
    "plt.imshow(cv2.resize(acc[limb+1], (152,152)), alpha = .5,cmap='hot')\n",
    "\n",
    "plt.colorbar()\n",
    "plt.title(name)\n",
    "plt.show()\n",
    "((abs(pred_kp- acc_kp)<np.array([1,1])).sum().item())/(28*2)"
   ]
  }
 ],
 "metadata": {
  "kernelspec": {
   "display_name": "Python 3 (ipykernel)",
   "language": "python",
   "name": "python3"
  },
  "language_info": {
   "codemirror_mode": {
    "name": "ipython",
    "version": 3
   },
   "file_extension": ".py",
   "mimetype": "text/x-python",
   "name": "python",
   "nbconvert_exporter": "python",
   "pygments_lexer": "ipython3",
   "version": "3.8.11"
  }
 },
 "nbformat": 4,
 "nbformat_minor": 5
}
