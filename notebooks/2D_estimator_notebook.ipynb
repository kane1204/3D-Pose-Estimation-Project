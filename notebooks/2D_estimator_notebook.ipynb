{
 "cells": [
  {
   "cell_type": "markdown",
   "id": "0c2a29bd",
   "metadata": {},
   "source": [
    "# 2D Estimator"
   ]
  },
  {
   "cell_type": "markdown",
   "id": "57cc3068",
   "metadata": {},
   "source": [
    "## Imports and Setup"
   ]
  },
  {
   "cell_type": "code",
   "execution_count": 1,
   "id": "96be697e",
   "metadata": {},
   "outputs": [
    {
     "data": {
      "text/plain": [
       "<matplotlib.pyplot._IonContext at 0x1bae0d410a0>"
      ]
     },
     "execution_count": 1,
     "metadata": {},
     "output_type": "execute_result"
    }
   ],
   "source": [
    "import os\n",
    "import src.bug_dataset\n",
    "from src.cpm_model import CPM\n",
    "from src.train_cpm_network import Train_CPM_Network\n",
    "import numpy as np\n",
    "import pandas as pd\n",
    "from skimage import io\n",
    "import torch\n",
    "from torch.utils.data import DataLoader\n",
    "from torchvision import transforms\n",
    "import matplotlib.pyplot as plt\n",
    "plt.ion()   # interactive mode"
   ]
  },
  {
   "cell_type": "code",
   "execution_count": 2,
   "id": "dc82a48a",
   "metadata": {},
   "outputs": [],
   "source": [
    "# Plotting Code\n",
    "%matplotlib widget\n",
    "import matplotlib.pyplot as plt\n",
    "\n",
    "def plot_stick_bug(ax, points, vis, prediction=False):\n",
    "    limb_ranges=[[0,7],[8,14],[15,21],[22,28],[29,35],[36,42],[43,49],[53,56],[59,62]]\n",
    "    if len(points) < 62:\n",
    "        return\n",
    "    elif len(points) == 62:\n",
    "        points = np.array(points).T\n",
    "        for num in range(len(limb_ranges)):\n",
    "            visible_limb = []\n",
    "            for x in range(limb_ranges[num][0],limb_ranges[num][1]):\n",
    "                if vis[x]== 1:\n",
    "                    visible_limb.append(x) \n",
    "            if prediction:\n",
    "                line, = ax.plot(points[0][visible_limb], points[1][visible_limb], points[2][visible_limb],'--', alpha=0.7, label='Prediction', color='red')\n",
    "                ax.scatter(points[0][visible_limb], points[1][visible_limb], points[2][visible_limb], marker='X',s=10, color='red')\n",
    "            else:\n",
    "                line, = ax.plot(points[0][visible_limb], points[1][visible_limb], points[2][visible_limb], label='Actual', color='blue')\n",
    "                ax.scatter(points[0][visible_limb], points[1][visible_limb], points[2][visible_limb], marker='o',s=4, color='blue')\n",
    "        return ax, line\n",
    "\n",
    "def set_axes_equal(ax):\n",
    "    # workaround, as matplotlib's 3D plot has no option for equisised axes (10/2021)\n",
    "    x_limits = ax.get_xlim3d()\n",
    "    y_limits = ax.get_ylim3d()\n",
    "    z_limits = ax.get_zlim3d()\n",
    "\n",
    "    x_range = abs(x_limits[1] - x_limits[0])\n",
    "    x_middle = np.mean(x_limits)\n",
    "    y_range = abs(y_limits[1] - y_limits[0])\n",
    "    y_middle = np.mean(y_limits)\n",
    "    z_range = abs(z_limits[1] - z_limits[0])\n",
    "    z_middle = np.mean(z_limits)\n",
    "\n",
    "    plot_radius = 0.5*max([x_range, y_range, z_range])\n",
    "\n",
    "    ax.set_xlim3d([x_middle - plot_radius, x_middle + plot_radius])\n",
    "    ax.set_ylim3d([y_middle - plot_radius, y_middle + plot_radius])\n",
    "    ax.set_zlim3d([z_middle - plot_radius, z_middle + plot_radius])\n"
   ]
  },
  {
   "cell_type": "code",
   "execution_count": 3,
   "id": "0c44946e",
   "metadata": {},
   "outputs": [],
   "source": [
    "target_dir = \"../data/single_sungaya/\"\n",
    "out_df = pd.read_hdf(os.path.join(target_dir, \"Data_3D_Pose.hdf5\"))"
   ]
  },
  {
   "cell_type": "code",
   "execution_count": 4,
   "id": "d4a8ce47",
   "metadata": {},
   "outputs": [],
   "source": [
    "reduceKeypoints = True\n",
    "sungaya_dataset = src.bug_dataset.BugDataset(df=out_df,reduced=reduceKeypoints,\n",
    "                             root_dir=target_dir,transform=transforms.Compose([\n",
    "                                src.bug_dataset.ToTensor()\n",
    "                                   ]))"
   ]
  },
  {
   "cell_type": "code",
   "execution_count": 5,
   "id": "56744350",
   "metadata": {},
   "outputs": [
    {
     "data": {
      "application/vnd.jupyter.widget-view+json": {
       "model_id": "899c8f4f8f6e42dcb24f4c15f062124c",
       "version_major": 2,
       "version_minor": 0
      },
      "text/plain": [
       "Canvas(toolbar=Toolbar(toolitems=[('Home', 'Reset original view', 'home', 'home'), ('Back', 'Back to previous …"
      ]
     },
     "metadata": {},
     "output_type": "display_data"
    }
   ],
   "source": [
    "import cv2\n",
    "sample = sungaya_dataset[899]\n",
    "image = sample['image']\n",
    "img=image.numpy()\n",
    "img=np.swapaxes(img,0,1)\n",
    "img=np.swapaxes(img,1,2)\n",
    "name = sample['file_name']\n",
    "\n",
    "\n",
    "keypoints = (sample['key_points_2D']*sungaya_dataset.std_2d)+sungaya_dataset.means_2d\n",
    "# print(keypoints)\n",
    "center = sample['centermap'].numpy()\n",
    "center = np.swapaxes(center,0,1)\n",
    "center= np.swapaxes(center,1,2)\n",
    "heatmap = sample['heatmap'].numpy()\n",
    "# heatmap = np.swapaxes(heatmap,0,1)\n",
    "# heatmap= np.swapaxes(heatmap,1,2)\n",
    "# print(heatmap.shape)\n",
    "\n",
    "plt.figure()\n",
    "\n",
    "plt.imshow(img)\n",
    "\n",
    "plt.imshow(cv2.resize(heatmap[0], (152,152)), alpha = 0.4,cmap='hot')\n",
    "\n",
    "plt.imshow(center, alpha = 0.1)\n",
    "plt.scatter(keypoints[:,0], keypoints[:,1], marker='o', s=10,  color='b')\n",
    "plt.colorbar()\n",
    "plt.title(name)\n",
    "plt.show()"
   ]
  },
  {
   "cell_type": "code",
   "execution_count": 6,
   "id": "02b63446",
   "metadata": {},
   "outputs": [],
   "source": [
    "train_split = 0.7\n",
    "valid_split = 0.1\n",
    "train_size = int(train_split * len(sungaya_dataset))\n",
    "valid_size = int(valid_split * len(sungaya_dataset))\n",
    "test_size = len(sungaya_dataset) - (train_size+valid_size)\n",
    "train_dataset,valid_dataset ,test_dataset = torch.utils.data.random_split(sungaya_dataset, [train_size, valid_size, test_size], generator=torch.Generator().manual_seed(42))"
   ]
  },
  {
   "cell_type": "code",
   "execution_count": 7,
   "id": "5362d1c9",
   "metadata": {},
   "outputs": [],
   "source": [
    "batch_size = 16\n",
    "\n",
    "train_dataloader = DataLoader(train_dataset, batch_size=batch_size)\n",
    "valid_dataloader = DataLoader(valid_dataset, batch_size=batch_size)\n",
    "test_dataloader = DataLoader(test_dataset, batch_size=batch_size)"
   ]
  },
  {
   "cell_type": "code",
   "execution_count": 8,
   "id": "055d9fba",
   "metadata": {},
   "outputs": [
    {
     "name": "stdout",
     "output_type": "stream",
     "text": [
      "Using cuda device\n"
     ]
    },
    {
     "data": {
      "application/vnd.jupyter.widget-view+json": {
       "model_id": "da125afcfc594f27976d6e1d8a0a7cb5",
       "version_major": 2,
       "version_minor": 0
      },
      "text/plain": [
       "CPM Model Epochs:   0%|          | 0/6 [00:00<?, ?it/s]"
      ]
     },
     "metadata": {},
     "output_type": "display_data"
    },
    {
     "name": "stdout",
     "output_type": "stream",
     "text": [
      "Epoch 001:\n"
     ]
    },
    {
     "data": {
      "application/vnd.jupyter.widget-view+json": {
       "model_id": "a0788c16308c487f97e77aa8d809158d",
       "version_major": 2,
       "version_minor": 0
      },
      "text/plain": [
       "Training Step:   0%|          | 0/143 [00:00<?, ?it/s]"
      ]
     },
     "metadata": {},
     "output_type": "display_data"
    },
    {
     "data": {
      "application/vnd.jupyter.widget-view+json": {
       "model_id": "c4a5e657f6d2493499ca68bf4c1cb80e",
       "version_major": 2,
       "version_minor": 0
      },
      "text/plain": [
       "Validation Step:   0%|          | 0/21 [00:00<?, ?it/s]"
      ]
     },
     "metadata": {},
     "output_type": "display_data"
    },
    {
     "name": "stdout",
     "output_type": "stream",
     "text": [
      "Finished Epoch 001: | Train Loss: 34.81832 | Val Loss: 402.52656 | Train Acc: 8.355| Val Acc: 12.270\n",
      "Epoch 002:\n"
     ]
    },
    {
     "data": {
      "application/vnd.jupyter.widget-view+json": {
       "model_id": "0dbfc70098b24d0b8dd570ba47281272",
       "version_major": 2,
       "version_minor": 0
      },
      "text/plain": [
       "Training Step:   0%|          | 0/143 [00:00<?, ?it/s]"
      ]
     },
     "metadata": {},
     "output_type": "display_data"
    },
    {
     "data": {
      "application/vnd.jupyter.widget-view+json": {
       "model_id": "a7fc1864ddb44dcd9403bb797e7b42c9",
       "version_major": 2,
       "version_minor": 0
      },
      "text/plain": [
       "Validation Step:   0%|          | 0/21 [00:00<?, ?it/s]"
      ]
     },
     "metadata": {},
     "output_type": "display_data"
    },
    {
     "name": "stdout",
     "output_type": "stream",
     "text": [
      "Finished Epoch 002: | Train Loss: 20.54339 | Val Loss: 284.13720 | Train Acc: 7.130| Val Acc: 11.350\n",
      "Epoch 003:\n"
     ]
    },
    {
     "data": {
      "application/vnd.jupyter.widget-view+json": {
       "model_id": "206e70cdc8534cf09607a3a288169459",
       "version_major": 2,
       "version_minor": 0
      },
      "text/plain": [
       "Training Step:   0%|          | 0/143 [00:00<?, ?it/s]"
      ]
     },
     "metadata": {},
     "output_type": "display_data"
    },
    {
     "data": {
      "application/vnd.jupyter.widget-view+json": {
       "model_id": "d730d9330d544733bdef951b6c391256",
       "version_major": 2,
       "version_minor": 0
      },
      "text/plain": [
       "Validation Step:   0%|          | 0/21 [00:00<?, ?it/s]"
      ]
     },
     "metadata": {},
     "output_type": "display_data"
    },
    {
     "name": "stdout",
     "output_type": "stream",
     "text": [
      "Finished Epoch 003: | Train Loss: 17.14444 | Val Loss: 268.39981 | Train Acc: 8.224| Val Acc: 12.270\n",
      "Epoch 004:\n"
     ]
    },
    {
     "data": {
      "application/vnd.jupyter.widget-view+json": {
       "model_id": "f6eac8724dab4bb9a7878710f8ba4695",
       "version_major": 2,
       "version_minor": 0
      },
      "text/plain": [
       "Training Step:   0%|          | 0/143 [00:00<?, ?it/s]"
      ]
     },
     "metadata": {},
     "output_type": "display_data"
    },
    {
     "data": {
      "application/vnd.jupyter.widget-view+json": {
       "model_id": "ee0b6792f0e7499f99e97e4ba4dedeed",
       "version_major": 2,
       "version_minor": 0
      },
      "text/plain": [
       "Validation Step:   0%|          | 0/21 [00:00<?, ?it/s]"
      ]
     },
     "metadata": {},
     "output_type": "display_data"
    },
    {
     "name": "stdout",
     "output_type": "stream",
     "text": [
      "Finished Epoch 004: | Train Loss: 16.48233 | Val Loss: 264.27156 | Train Acc: 9.711| Val Acc: 13.497\n",
      "Epoch 005:\n"
     ]
    },
    {
     "data": {
      "application/vnd.jupyter.widget-view+json": {
       "model_id": "61030697cf2c4135bde880f2b325a60c",
       "version_major": 2,
       "version_minor": 0
      },
      "text/plain": [
       "Training Step:   0%|          | 0/143 [00:00<?, ?it/s]"
      ]
     },
     "metadata": {},
     "output_type": "display_data"
    },
    {
     "data": {
      "application/vnd.jupyter.widget-view+json": {
       "model_id": "a439590510db49efad1695ecc056b9ad",
       "version_major": 2,
       "version_minor": 0
      },
      "text/plain": [
       "Validation Step:   0%|          | 0/21 [00:00<?, ?it/s]"
      ]
     },
     "metadata": {},
     "output_type": "display_data"
    },
    {
     "name": "stdout",
     "output_type": "stream",
     "text": [
      "Finished Epoch 005: | Train Loss: 16.05164 | Val Loss: 261.10964 | Train Acc: 10.324| Val Acc: 16.871\n",
      "Epoch 006:\n"
     ]
    },
    {
     "data": {
      "application/vnd.jupyter.widget-view+json": {
       "model_id": "408f824c0c5e4f04a35146659ec886a2",
       "version_major": 2,
       "version_minor": 0
      },
      "text/plain": [
       "Training Step:   0%|          | 0/143 [00:00<?, ?it/s]"
      ]
     },
     "metadata": {},
     "output_type": "display_data"
    },
    {
     "data": {
      "application/vnd.jupyter.widget-view+json": {
       "model_id": "ccf2d129defc460dbf9512ab9657b303",
       "version_major": 2,
       "version_minor": 0
      },
      "text/plain": [
       "Validation Step:   0%|          | 0/21 [00:00<?, ?it/s]"
      ]
     },
     "metadata": {},
     "output_type": "display_data"
    },
    {
     "name": "stdout",
     "output_type": "stream",
     "text": [
      "Finished Epoch 006: | Train Loss: 15.74039 | Val Loss: 252.20331 | Train Acc: 10.892| Val Acc: 17.178\n",
      "Done!\n"
     ]
    }
   ],
   "source": [
    "if reduceKeypoints:\n",
    "    model = CPM(28)\n",
    "    accurate_dist = torch.from_numpy(np.array([[1,1]]*28))\n",
    "\n",
    "else:\n",
    "    model = CPM(62)\n",
    "    accurate_dist = torch.from_numpy(np.array([[1,1]]*62))\n",
    "\n",
    "\n",
    "epochs = 6\n",
    "learning_rate = 8e-6\n",
    "optimizer = torch.optim.Adam(params=model.parameters(), lr=learning_rate, betas=(0.5, 0.999))\n",
    "liftingtrainer = Train_CPM_Network(model,optimizer, accurate_dist, train_dataloader, valid_dataloader)\n",
    "trained_model = liftingtrainer.run(epochs)"
   ]
  },
  {
   "cell_type": "code",
   "execution_count": 23,
   "id": "983795ef",
   "metadata": {},
   "outputs": [],
   "source": [
    "trained_model = liftingtrainer.model\n",
    "trained_model.eval()\n",
    "# Code get the first batch of results\n",
    "with torch.no_grad():\n",
    "    for data in valid_dataloader:\n",
    "        image = data['image']\n",
    "        center = data['centermap']\n",
    "        heatmap = data['heatmap']\n",
    "        file_name = data['file_name']\n",
    "        kp = data['key_points_2D']\n",
    "        input_var = image.to(liftingtrainer.device, dtype=torch.float)\n",
    "        heatmap_var = heatmap.to(liftingtrainer.device, dtype=torch.float)\n",
    "        centermap_var = center.to(liftingtrainer.device, dtype=torch.float)\n",
    "\n",
    "        heat1, heat2, heat3, heat4, heat5, heat6 = trained_model(input_var, centermap_var)\n",
    "        break"
   ]
  },
  {
   "cell_type": "code",
   "execution_count": 24,
   "id": "e2833e10",
   "metadata": {},
   "outputs": [],
   "source": [
    "def get_kpt(maps, img_h = 152.0, img_w = 152.0):\n",
    "        # maps (1,63,76,76)\n",
    "        maps = maps.clone().cpu().data.numpy()\n",
    "        map_6 = maps\n",
    "\n",
    "        kpts = []\n",
    "        for m in map_6[1:]:\n",
    "            h, w = np.unravel_index(m.argmax(), m.shape)\n",
    "            x = int(w * img_w / m.shape[1])\n",
    "            y = int(h * img_h / m.shape[0])\n",
    "            kpts.append([x,y])\n",
    "        return np.array(kpts)"
   ]
  },
  {
   "cell_type": "code",
   "execution_count": 54,
   "id": "e6a373ac",
   "metadata": {},
   "outputs": [
    {
     "data": {
      "application/vnd.jupyter.widget-view+json": {
       "model_id": "24c53d27282e477e876dedd7a796acbb",
       "version_major": 2,
       "version_minor": 0
      },
      "text/plain": [
       "Canvas(toolbar=Toolbar(toolitems=[('Home', 'Reset original view', 'home', 'home'), ('Back', 'Back to previous …"
      ]
     },
     "metadata": {},
     "output_type": "display_data"
    }
   ],
   "source": [
    "sample = 15\n",
    "limb = -1\n",
    "\n",
    "name = file_name[sample]\n",
    "\n",
    "img = image[sample].numpy()\n",
    "img=np.swapaxes(img,0,1)\n",
    "img=np.swapaxes(img,1,2)\n",
    "\n",
    "pred = heat6[sample].cpu().numpy()\n",
    "pred_kp = get_kpt(heat6[sample])\n",
    "\n",
    "acc = heatmap[sample].cpu().numpy()\n",
    "acc_kp = get_kpt(heatmap[sample])\n",
    "\n",
    "keypoints = (kp[sample].numpy()*sungaya_dataset.std_2d)+sungaya_dataset.means_2d\n",
    "\n",
    "plt.figure()\n",
    "\n",
    "plt.imshow(img)\n",
    "\n",
    "# plt.scatter(pred_kp[:,0], pred_kp[:,1], marker='o', s=10,  color='r')\n",
    "# plt.scatter(acc_kp[:,0], acc_kp[:,1], marker='o', s=10,  color='b')\n",
    "\n",
    "# plt.imshow(cv2.resize(pred[limb+1], (152,152)), alpha = .5,cmap='hot')\n",
    "# plt.imshow(cv2.resize(acc[limb+1], (152,152)), alpha = .5,cmap='hot')\n",
    "\n",
    "if limb == -1:\n",
    "    plt.scatter(keypoints[:,0], keypoints[:,1], marker='o', s=10,  color='b')\n",
    "else:\n",
    "    plt.scatter(keypoints[limb,0], keypoints[limb,1], marker='o', s=10,  color='b')\n",
    "\n",
    "plt.colorbar()\n",
    "plt.title(name)\n",
    "plt.show()"
   ]
  }
 ],
 "metadata": {
  "kernelspec": {
   "display_name": "Python 3 (ipykernel)",
   "language": "python",
   "name": "python3"
  },
  "language_info": {
   "codemirror_mode": {
    "name": "ipython",
    "version": 3
   },
   "file_extension": ".py",
   "mimetype": "text/x-python",
   "name": "python",
   "nbconvert_exporter": "python",
   "pygments_lexer": "ipython3",
   "version": "3.8.11"
  }
 },
 "nbformat": 4,
 "nbformat_minor": 5
}
