{
 "cells": [
  {
   "cell_type": "code",
   "execution_count": null,
   "metadata": {},
   "outputs": [],
   "source": [
    "import os\n",
    "import cv2\n",
    "from scipy.spatial import procrustes\n",
    "\n",
    "import numpy as np\n",
    "import pandas as pd\n",
    "\n",
    "target_dir = \"../data/single_sungaya/\"\n",
    "\n",
    "out_df = pd.read_hdf(\"../data/single_sungaya/Data_3D_Pose.hdf5\")\n",
    "out_df"
   ]
  },
  {
   "cell_type": "code",
   "execution_count": null,
   "metadata": {},
   "outputs": [],
   "source": [
    "out_df = pd.read_hdf(\"../data/single_sungaya/Data_3D_Pose.hdf5\")\n",
    "array_3d = np.array(out_df['key_points_3D'].to_numpy())\n",
    "\n",
    "for x in range(len(array_3d)):\n",
    "    array_3d[x] = np.array(array_3d[x])\n",
    "\n",
    "fixed_array_3d = np.empty((3778,186))\n",
    "\n",
    "for x in range(len(fixed_array_3d)):\n",
    "    z = array_3d[x].reshape(1,186)\n",
    "    fixed_array_3d[x] = z\n",
    "\n",
    "fixed_array_3d=fixed_array_3d.reshape((3778,62,3))\n"
   ]
  },
  {
   "cell_type": "code",
   "execution_count": null,
   "metadata": {},
   "outputs": [],
   "source": [
    "avg= 0\n",
    "disp=[]\n",
    "for i in range(len(fixed_array_3d)):\n",
    "    for j in range(i+1, len(fixed_array_3d)):  \n",
    "        if fixed_array_3d[i].all() != 0 and fixed_array_3d[j].all() != 0:\n",
    "            _,_,dis =procrustes(fixed_array_3d[i], fixed_array_3d[j])\n",
    "            \n",
    "            avg += dis\n",
    "            disp.append(dis)\n"
   ]
  },
  {
   "cell_type": "code",
   "execution_count": null,
   "metadata": {},
   "outputs": [],
   "source": [
    "print(\"Spacial disparity Avg:\", avg/len(disp))\n",
    "# disp"
   ]
  },
  {
   "cell_type": "code",
   "execution_count": 59,
   "metadata": {},
   "outputs": [
    {
     "data": {
      "text/plain": [
       "(3778, 4, 3)"
      ]
     },
     "execution_count": 59,
     "metadata": {},
     "output_type": "execute_result"
    }
   ],
   "source": [
    "parts_str = [\"Body\",\"L_1\",\"L_2\", \"L_3\", \"R_1\",\"R_2\",\"R_3\", \"L_A\", \"R_A\"]\n",
    "reduced_kp = [[0,2,3,6], [7,10,13], [14,17,20 ], [21,24,27], [28,31,34], [35,38,41], [42,45,48],  [52,54,55], [58,60,61]]\n",
    "# fixed_array_3d=fixed_array_3d[:,reduced_kp]\n",
    "fixed_array_3d[:,reduced_kp[0]].shape"
   ]
  },
  {
   "cell_type": "code",
   "execution_count": null,
   "metadata": {},
   "outputs": [],
   "source": []
  },
  {
   "cell_type": "code",
   "execution_count": 57,
   "metadata": {},
   "outputs": [],
   "source": [
    "avgs = []\n",
    "for parts in range(len(reduced_kp)):\n",
    "    p_avg =  0\n",
    "    p_count = 0\n",
    "    for i in range(len(fixed_array_3d)):\n",
    "        for j in range(i+1, len(fixed_array_3d)):  \n",
    "            if fixed_array_3d[i,reduced_kp[parts]].all() != 0 and fixed_array_3d[j,reduced_kp[parts]].all() != 0:\n",
    "                # print(fixed_array_3d[i,reduced_kp[parts]].shape)\n",
    "                _,_,dis =procrustes(fixed_array_3d[i,reduced_kp[parts]], fixed_array_3d[j,reduced_kp[parts]])\n",
    "                p_avg += dis\n",
    "                p_count += 1\n",
    "\n",
    "    avgs.append(p_avg/p_count)\n",
    "    \n"
   ]
  },
  {
   "cell_type": "code",
   "execution_count": null,
   "metadata": {},
   "outputs": [],
   "source": [
    "print(\"Spacial disparity Avg(Reduced:\", avgs)\n"
   ]
  },
  {
   "cell_type": "code",
   "execution_count": 64,
   "metadata": {},
   "outputs": [
    {
     "data": {
      "image/png": "[encoded data removed]",
      "text/plain": [
       "<Figure size 432x288 with 1 Axes>"
      ]
     },
     "metadata": {
      "needs_background": "light"
     },
     "output_type": "display_data"
    }
   ],
   "source": [
    "# plots PCK for different thresholds\n",
    "import matplotlib.pyplot as plt\n",
    "fig, ax = plt.subplots()\n",
    "\n",
    "ax.bar(parts_str, avgs, width=1, edgecolor=\"white\", linewidth=5)\n",
    "\n",
    "# ax.set(xlim=(-1, 8), xticks=np.arange(-1, 8),\n",
    "#        ylim=(0, 1), yticks=np.arange(0, 0.5))\n",
    "plt.title(\"Pairwise Average Spacial Disparity on Key limbs\") \n",
    "plt.xlabel(\"Limbs\")\n",
    "plt.ylabel(\"Average Disparity\")\n",
    "plt.show()"
   ]
  }
 ],
 "metadata": {
  "interpreter": {
   "hash": "9e60dd6edbd4d0e14d4d099e0f261d98e02cb786d133bc94f7a56505e2206115"
  },
  "kernelspec": {
   "display_name": "Python 3.8.8 64-bit ('base': conda)",
   "language": "python",
   "name": "python3"
  },
  "language_info": {
   "codemirror_mode": {
    "name": "ipython",
    "version": 3
   },
   "file_extension": ".py",
   "mimetype": "text/x-python",
   "name": "python",
   "nbconvert_exporter": "python",
   "pygments_lexer": "ipython3",
   "version": "3.8.11"
  },
  "orig_nbformat": 4
 },
 "nbformat": 4,
 "nbformat_minor": 2
}
